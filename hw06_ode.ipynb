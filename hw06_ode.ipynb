{
 "cells": [
  {
   "cell_type": "markdown",
   "metadata": {
    "slideshow": {
     "slide_type": "slide"
    }
   },
   "source": [
    "# ASTR 21100 \n",
    "\n",
    "# \"*Computational Techniques in Astrophysics*\"\n",
    "\n",
    "## Coding exercise 6\n",
    "\n",
    "## Solving a system of ODEs with adaptive time stepping to model galaxy evolution (60 points)"
   ]
  },
  {
   "cell_type": "markdown",
   "metadata": {},
   "source": [
    "### Preparatory steps\n",
    "\n",
    "* Review material in the <a href=\"09_odes.ipynb\"><tt>09_odes.ipynb</tt></a> notebook (you can skip the Gragg-Bulirsch-Stoehr solver), especially material on a) Runge-Kutta solvers, and particularly \"embedded\" solvers that allow to estimate solution at two orders of accuracy simultaneously, b) material on the importance of adaptive time stepping and algorithms for implementing adaptive time step.\n",
    "\n",
    "* Make sure you understand the basic structure of the rkf45 routine that implements an embedded R-K scheme that computes solutions of the 4th and 5th order. This routine is already set up to solve both scalar (single) ODEs and system of ODEs. Whether it's a single ODE or system will be determined whether input vector y is scalar or vector.\n"
   ]
  },
  {
   "cell_type": "markdown",
   "metadata": {},
   "source": [
    "### Exercise description\n",
    "\n",
    "* Implement adaptive time stepping in the rfk45 routine using algorithm described in the l15 notebook. Test routine with adaptive time step using test problems for which solution is known. You can find test examples in the <a href=\"09_odes.ipynb\"><tt>09_odes.ipynb</tt></a> notebook notebook. Test the routine both for single and for system of ODEs.\n",
    "You can find the \"Zombie apocalypse\" test ODE system <a href=\"https://scipy-cookbook.readthedocs.io/items/Zombie_Apocalypse_ODEINT.html\">here</a>. The info in this link includes code demonstrating how to do this with the scipy ode solver. You can use it to compare to the solver with adaptive time stepping that you implement. \n",
    "\n",
    "* Use your solver with adaptive time step to solve the following system of equations that correspond to a simple (but fairly realistic) model of galaxy evolution for a system of the Milky Way mass. ODEs in the system describe the rate of change for total gravitating mass of the galaxy and its dark matter \"halo\", as well as mass of stars and gas in the galaxy, and mass of heavy elements (elements heavier than helium). \n",
    "\n",
    "* Explore effect of choice for $\\epsilon_{\\rm out}$ and plot $M_h$, $M_g$, $M_\\star$ (and if you get to it $M_Z$) as a function of time. Compare results to the current masses measured in the Milky Way: $M_h\\approx 10^{12}\\ M_\\odot$, $M_g\\approx 10^{10}\\ M_\\odot$, $M_\\star\\approx 6\\times 10^{10}\\ M_\\odot$, $Z\\approx 0.015-0.02$. "
   ]
  },
  {
   "cell_type": "markdown",
   "metadata": {},
   "source": [
    "### Minimal model of galaxy evolution\n",
    "\n",
    "Equations describing galaxy evolution model. \n",
    "\n",
    "The rate of total mass $M_h$ of galaxy determined by cosmological collapse of matter from initial density peak. The equation given here is an approximation of the rate for a Milky Way scale object to results of detailed cosmological simulations in solar masses ($M_\\odot$) per gigayear (Gyr): \n",
    "\n",
    "$$\\dot{M}_h = \\frac{M_h(t)}{\\tau_{\\rm acc}}\\ \\ \\ M_\\odot/\\mathrm{Gyr},$$\n",
    "\n",
    "$$\\tau_{\\rm acc}=0.175\\, \\left(\\frac{M_h(t)}{10^{12}\\, M_\\odot}\\right)^{-0.1}\\,  t^{1.8}\\ \\ \\mathrm{Gyrs},$$\n",
    "\n",
    "where $t$ is age of the universe at a particular epoch, in gigayears.\n",
    "\n",
    "Rate of gas mass evolution in the model galaxy is given by \n",
    "\n",
    "$$\\dot{M}_g = \\dot{M}_{\\rm g, in} - \\dot{M}_{\\rm g, out}.$$ \n",
    "\n",
    "Here $\\dot{M}_{\\rm g, in}$ is the rate of gas accretion *onto the galaxy*, which is assumed to be proportional to $\\dot{M}_{\\rm h}$: \n",
    "\n",
    "$$\\dot{M}_{\\rm g, in} =  f_{\\rm b} \\, \\dot{M}_{\\rm h}, $$ \n",
    "\n",
    "where $f_{\\rm b}=0.16$ is fraction of matter in \"baryonic\" state (like atoms) in the universe.\n",
    "\n",
    "The rate of gas decrease is given by \n",
    "\n",
    "$$\\dot{M}_{\\rm g, out}= (1-\\mathcal{R})\\dot{M}_{\\star} +\\epsilon_{\\rm out}\\,\\dot{M}_{\\star},$$ \n",
    "where $\\mathcal{R}=0.45$ is fraction of mass that newly born stars return back to the interstellar gas due to stellar winds and supernova explosions, $\\dot{M}_{\\star}$ is the *star formation rate*:\n",
    "\n",
    "$$\\dot{M}_{\\star}=\\frac{M_g}{\\tau_{\\rm sf}};\\ \\ \\  \\tau_{\\rm sf}=2\\,\\mathrm{Gyrs}$$\n",
    "\n",
    "The term $\\epsilon_{\\rm out}\\dot{M}_{\\star}$ represents gas mass loss via galactic wind, in which gas is driven out of the galaxy due to energy and momentum injected by young massive stars exploding as supernovae (and thus this rate is proportional to the rate of formation of stars).\n",
    "\n",
    "You will explore models with $\\epsilon_{\\rm out}=0$, constant values, such as \n",
    "$\\epsilon_{\\rm out}=1$, and then more complex functions such as $\\epsilon_{\\rm out}=3.6M_{*,10}^{-0.35}$, which is a fit to detailed numerical simulations of galaxy evolution <a href=\"http://adsabs.harvard.edu/abs/2015MNRAS.454.2691M\">Muratov et al. (2015)</a>, where $M_{*,10}$ is galaxy current stellar mass in units of $10^{10}\\ M_\\odot$ (see Fig. 6 and eq. 8 in the linked paper).\n",
    "\n",
    "You can start experimenting with the limited system of 3 ODEs for $\\dot{M}_h$, $\\dot{M}_g$, $\\dot{M}_\\star$. \n",
    "\n",
    "For initial values assume $M_g=0$, $M_\\star=0$, and experiment with initial value for $M_h$, so that by the final time (the age of our universe is $\\approx 13.6$ Gyrs) object reaches $M_h\\approx 10^{12}\\ M_\\odot$. Please integrate you results in gigayears as a unit of time and use solar masses ($M_\\odot$) as units of mass. \n",
    "\n"
   ]
  },
  {
   "cell_type": "markdown",
   "metadata": {},
   "source": [
    "### Evolution of metallicity of interstellar medium\n",
    "\n",
    "If you will get things working for this system and obtain reasonable results, you can add another equation that models evolution of mass of heavy elements in the interstellar medium of the galaxy described below. \n",
    "\n",
    "As  stars form, they form out of gas containing heavy elements present in the ISM. Thus, the gas that goes into stars also takes away heavy elements from the ISM proportionally to the gas *metallicity* $Z=M_{\\rm Z}/M_{\\rm g}$, i.e. star formation decreases mass of heavy elements in the ISM, $M_{\\rm Z}$, at the rate $-Z\\,\\dot{\\tilde{M}}_\\star$.\n",
    "\n",
    "The rate equation that governs evolution of mass of heavy elements is \n",
    "\n",
    "$$\\dot{M}_{\\rm Z} = \\, \\left[y_{\\rm Z}(1-\\mathcal{R})-(1-\\mathcal{R}+\\epsilon_{\\rm out})M_{\\rm Z}/M_{\\rm g}\\right]\\dot{M}_{\\star},$$\n",
    "\n",
    "where all quantities are already described above, except for $y_{\\rm Z}$, which is called the *yield* of heavy elements by young stars in a population. It is computed by detailed calculations of stellar evolution and can be taken to be $y_{\\rm Z}=0.069$. "
   ]
  }
 ],
 "metadata": {
  "celltoolbar": "Slideshow",
  "kernelspec": {
   "display_name": "Python 3",
   "language": "python",
   "name": "python3"
  },
  "language_info": {
   "codemirror_mode": {
    "name": "ipython",
    "version": 3
   },
   "file_extension": ".py",
   "mimetype": "text/x-python",
   "name": "python",
   "nbconvert_exporter": "python",
   "pygments_lexer": "ipython3",
   "version": "3.7.4"
  }
 },
 "nbformat": 4,
 "nbformat_minor": 1
}
