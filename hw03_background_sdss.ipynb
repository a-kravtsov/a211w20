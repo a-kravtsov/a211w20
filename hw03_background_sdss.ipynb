{
 "cells": [
  {
   "cell_type": "markdown",
   "metadata": {},
   "source": [
    "## Sloan Digital Sky Survey (SDSS): \n",
    "### background information and SDSS Sky Server query to select galaxy sample. \n",
    "\n"
   ]
  },
  {
   "cell_type": "markdown",
   "metadata": {},
   "source": [
    "### SDSS galaxy survey\n",
    "\n",
    "During the last three decades large, wide-area surveys of the sky increased our knowledge of distribution of stars in our own <a href=\"https://en.wikipedia.org/wiki/Milky_Way\">Milky Way galaxy</a>, which astronomers also often just call **the Galaxy**, as well as spatial distribution and distribution of luminosities and sizes of millions of other galaxies. \n",
    "\n",
    "<a href=\"https://www.sdss.org/\">The Sloan Digital Sky Survey</a> (SDSS) was the first and most influential of such surveys. U. Chicago astronomers <a href=\"https://www.uchicago.edu/features/20080218_sloan/\">played a key role</a> in the design and creation of the first three versions of this survey.\n",
    "\n",
    "The SDSS measured basic observable properties of millions of stars, galaxies, and quasars. \n",
    "For a subset of brightest objects in each of these categories the survey also measured spectra. Shape of each spectrum, as well as presence and amplitude of spectral lines in the spectrum, provide physical information about corresponding object. \n",
    "\n",
    "The video below introduces the Sloan Digital Sky Survey. You can watch it outside the class, if you are interested."
   ]
  },
  {
   "cell_type": "markdown",
   "metadata": {},
   "source": [
    "### A brief (6min) introduction of the Sloan Digital Sky Survey"
   ]
  },
  {
   "cell_type": "markdown",
   "metadata": {},
   "source": [
    "Below are a first executable notebook cells that embed YouTube videos about SDSS survey. "
   ]
  },
  {
   "cell_type": "code",
   "execution_count": null,
   "metadata": {},
   "outputs": [],
   "source": [
    "# Imports the functionality that we need to display YouTube videos in a Jupyter Notebook.  \n",
    "# You need to run this cell before you run ANY of the YouTube videos.\n",
    "\n",
    "from IPython.display import YouTubeVideo  "
   ]
  },
  {
   "cell_type": "code",
   "execution_count": null,
   "metadata": {},
   "outputs": [],
   "source": [
    "YouTubeVideo(\"UD6cOMpJlZU\", width=640, height=360)  "
   ]
  },
  {
   "cell_type": "markdown",
   "metadata": {},
   "source": [
    "### SDSS spectroscopic sample \n",
    "\n",
    "In this homework you will construct and use a sample of galaxies - from the full sample of the SDSS sample of galaxies with measured spectra. We will use apparent magnitudes of these galaxies in two different filters ($g$ and $r$ filters corresponding to green and red parts of the visible spectrum) and redshifts - the spectral shifts of lines in galaxy spectra relative to their location in the laboratory spectrum. \n",
    "\n",
    "Recall that the apparent magnitude of an object is defined as\n",
    "$$m=-2.5\\log_{10}f + \\mathrm{const},$$<br>\n",
    "where $f$ is flux from the source of luminosity $L$ at distance $d_{\\rm L}$: $f=L/(4\\pi d_{\\rm L}^2).$\n",
    "\n",
    "Thus, $r$-band magnitude is related to the flux, $f_r$, SDSS instrument measured when light from a galaxy was passed through $r$ filter:\n",
    "\n",
    "$$m_r=-2.5\\log_{10}f_r + \\mathrm{const},$$<br>\n",
    "and the same for the $g$-band magnitude $m_g$. \n",
    "\n",
    "Redshift is defined as \n",
    "$$z=\\frac{\\lambda_{\\rm obs}-\\lambda_{\\rm lab}}{\\lambda_{\\rm lab}}.$$\n",
    "\n",
    "Redshift of a galaxy is partly due to its motion through space. However, the dominant contribution for vast majority of galaxies is due to the expansion of the Universe. "
   ]
  },
  {
   "cell_type": "markdown",
   "metadata": {},
   "source": [
    "### Acquiring a sample of galaxies from the SDSS Sky Server\n",
    "\n",
    "For the first exercise in this homework you need to obtain a sample of galaxies from the Sloan Digital Sky Survey database that you can access at the <a href=\"http://skyserver.sdss.org/dr13/en/tools/search/sql.aspx\">SDSS Sky Server</a> using an SQL query. SQL stands for Structured Query Language - a standard language for accessing databases (see <a href=\"http://skyserver.sdss.org/dr13/en/help/docs/sql_help.aspx\">here</a> to learn more). \n",
    "\n",
    "The specific query you should use at the SkyServer (which you can paste and copy from here) is given below. It selects the first 100000 objects (or less depending on the selection criteria) that are classified as Galaxy and that have measured spectra and redshifts. The query selects Object ID (<tt>objid</tt>), coordinates on the sky: right ascension (<tt>ra</tt>) and declination (<tt>dec</tt>), apparent magnitudes in the $g$ (<tt>g</tt>) and $r$ (<tt>r</tt>) bands, as well as redshift (<tt>z</tt>) of lines in the spectra of these objects. This information is pulled from two separate database tables <tt>Galaxy</tt> and <tt>SpecObj</tt> by <tt>JOIN</tt>ing them and using <tt>objid</tt> to identify the same objects in both tables. The query also uses a set of constraints on the $r$-band magnitude, ra and dec, and redshift to limit the sample. \n",
    "\n",
    "The selection criteria are chosen to select galaxies in an interesting region of space in the \"nearby\" Universe. For the data format, select FITS format below the query window. \n",
    "\n",
    "    SELECT TOP 100000\n",
    "        g.objid, g.ra, g.dec, g.g, g.r, s.z\n",
    "    FROM Galaxy as g\n",
    "       JOIN SpecObj AS s ON s.bestobjid = g.objid\n",
    "    WHERE\n",
    "       g.r BETWEEN 12 AND 17.77\n",
    "       AND g.ra between 80 and 280\n",
    "       AND g.dec between -7 and 7\n",
    "       AND s.z between 0.001 and 0.1\n"
   ]
  },
  {
   "cell_type": "markdown",
   "metadata": {},
   "source": [
    "After query runs successfully, you should be prompted to download FITS file (or perhaps download will be started by your browser automatically, depending on your system configuration). After it is downloaded (it should be roughly 3 Mb in size for the above query parameters), rename the file to <tt>sdss_galaxies.fits</tt> and move it to the <tt>data</tt> subdirectory within the directory where you work with this homework notebook. \n",
    "\n",
    "Although SQL query you use here is specific for the SDSS, SQL is also used to access a variety of other astronomical data bases. "
   ]
  },
  {
   "cell_type": "markdown",
   "metadata": {},
   "source": [
    "### Positions of galaxies on the sky\n",
    "\n",
    "ra and dec fields are angular coordinates of each galaxy on the sky (ra = right acsension, dec = declination). "
   ]
  },
  {
   "cell_type": "markdown",
   "metadata": {},
   "source": [
    "### Checking the data\n",
    "\n",
    "if you downloaded the sample and renamed and placed the file as described above, the cells below should execute without errors. If so, you are ready to start exercise 1 of homework 3. "
   ]
  },
  {
   "cell_type": "code",
   "execution_count": null,
   "metadata": {},
   "outputs": [],
   "source": [
    "from astropy.io import fits\n",
    "import numpy as np\n",
    "\n",
    "hdulist = fits.open('data/sdss_galaxies.fits') \n",
    "\n",
    "data = np.asarray(hdulist[1].data)"
   ]
  },
  {
   "cell_type": "code",
   "execution_count": null,
   "metadata": {},
   "outputs": [],
   "source": [
    "# check the data columns in the table\n",
    "print(hdulist[1].columns.names)"
   ]
  },
  {
   "cell_type": "code",
   "execution_count": null,
   "metadata": {},
   "outputs": [],
   "source": [
    "mr = data['r'] \n",
    "mg = data['g']\n",
    "z = data['z']\n"
   ]
  },
  {
   "cell_type": "code",
   "execution_count": null,
   "metadata": {},
   "outputs": [],
   "source": [
    "print(np.size(mr))\n",
    "print(mr.min(), mr.max())\n",
    "print(mg.min(), mg.max())\n",
    "print(z.min(), z.max())"
   ]
  }
 ],
 "metadata": {
  "kernelspec": {
   "display_name": "Python 3",
   "language": "python",
   "name": "python3"
  },
  "language_info": {
   "codemirror_mode": {
    "name": "ipython",
    "version": 3
   },
   "file_extension": ".py",
   "mimetype": "text/x-python",
   "name": "python",
   "nbconvert_exporter": "python",
   "pygments_lexer": "ipython3",
   "version": "3.7.4"
  }
 },
 "nbformat": 4,
 "nbformat_minor": 2
}
