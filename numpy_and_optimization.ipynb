{
 "cells": [
  {
   "cell_type": "markdown",
   "metadata": {},
   "source": [
    "## Notes on numpy and optimization\n",
    "\n",
    "A nice numpy tutorial can be found in Chapter 2 of this <a href=\"https://jakevdp.github.io/PythonDataScienceHandbook/\">online book</a> and some basics are also covered in this <a href=\"https://github.com/HarvardOpenData/numpy-pandas-bootcamp/blob/master/numpy_pandas_tutorial.ipynb\">short tutorial.</a>\n",
    "\n",
    "Below are examples of the numpy functions I often use. "
   ]
  },
  {
   "cell_type": "code",
   "execution_count": 1,
   "metadata": {},
   "outputs": [],
   "source": [
    "# import numpy\n",
    "import numpy as np"
   ]
  },
  {
   "cell_type": "markdown",
   "metadata": {},
   "source": [
    "### Array initialization"
   ]
  },
  {
   "cell_type": "code",
   "execution_count": 11,
   "metadata": {},
   "outputs": [],
   "source": [
    "N1, N2 = 100, 100\n",
    "# initialize a vector of size N1 filled with zeroes\n",
    "z1 = np.zeros(N1)\n",
    "z2 =np.zeros_like(z1) # arreay with the same dimensions as o1 filled with 0.\n",
    "# the same but filled with ones\n",
    "o1 = np.ones(N1)\n",
    "o2 = np.ones_like(o1) # arreay with the same dimensions as o1 filled with 1.0\n",
    "# initialize a 2D array of size (N1, N2)\n",
    "a1 = np.empty((N1,N2))\n",
    "a2 = np.empty_like(a1)"
   ]
  },
  {
   "cell_type": "code",
   "execution_count": 12,
   "metadata": {},
   "outputs": [
    {
     "name": "stdout",
     "output_type": "stream",
     "text": [
      "10000 (100, 100)\n",
      "[9.06102694e-312 0.00000000e+000 0.00000000e+000 0.00000000e+000\n",
      " 0.00000000e+000 0.00000000e+000 0.00000000e+000 0.00000000e+000\n",
      " 0.00000000e+000 0.00000000e+000]\n"
     ]
    }
   ],
   "source": [
    "# size and shape of the array\n",
    "print(np.size(a2), np.shape(a2))\n",
    "# print 10 elements of the array\n",
    "print(a2[:10,0])"
   ]
  },
  {
   "cell_type": "code",
   "execution_count": 2,
   "metadata": {},
   "outputs": [
    {
     "name": "stdout",
     "output_type": "stream",
     "text": [
      "[[9.9999 9.9999 9.9999]\n",
      " [9.9999 9.9999 9.9999]\n",
      " [9.9999 9.9999 9.9999]]\n"
     ]
    }
   ],
   "source": [
    "# initialize an array of given dimensions filled with specified number\n",
    "f = np.full((3, 3), 9.9999)\n",
    "print(f)"
   ]
  },
  {
   "cell_type": "code",
   "execution_count": 54,
   "metadata": {},
   "outputs": [],
   "source": [
    "# initialize a2 array of 64-bit integer type\n",
    "i2 = np.empty((N1,N2), dtype=np.int64)"
   ]
  },
  {
   "cell_type": "code",
   "execution_count": 3,
   "metadata": {},
   "outputs": [
    {
     "name": "stdout",
     "output_type": "stream",
     "text": [
      "[[0 1 2]\n",
      " [3 4 5]\n",
      " [6 7 8]]\n"
     ]
    }
   ],
   "source": [
    "# numpy vectors can be reshaped, which is often useful in initialization\n",
    "r = np.arange(9).reshape(3,3)\n",
    "print(r)"
   ]
  },
  {
   "cell_type": "markdown",
   "metadata": {},
   "source": [
    "See more on numpy data types <a href=\"https://numpy.org/devdocs/user/basics.types.html\">here</a>. Full list of array initialization routines can be found <a href=\"https://docs.scipy.org/doc/numpy-1.13.0/reference/routines.array-creation.html\">here.</a> "
   ]
  },
  {
   "cell_type": "markdown",
   "metadata": {},
   "source": [
    "### Efficient indexing (aka slicing) of numpy array and lists\n",
    "\n",
    "See <a href=\"https://numpy.org/devdocs/user/basics.indexing.html\">for a concise introduction</a>"
   ]
  },
  {
   "cell_type": "code",
   "execution_count": 9,
   "metadata": {},
   "outputs": [
    {
     "name": "stdout",
     "output_type": "stream",
     "text": [
      "0 99\n",
      "[0 1 2 3 4 5 6 7 8 9]\n",
      "[10 11 12 13 14 15 16 17 18 19 20 21 22 23 24 25 26 27 28 29 30 31 32 33\n",
      " 34 35 36 37 38 39 40 41 42 43 44 45 46 47 48 49 50 51 52 53 54 55 56 57\n",
      " 58 59 60 61 62 63 64 65 66 67 68 69 70 71 72 73 74 75 76 77 78 79 80 81\n",
      " 82 83 84 85 86 87 88 89 90 91 92 93 94 95 96 97 98 99]\n",
      "[90 91 92 93 94 95 96 97 98 99]\n",
      "[ 0  5 10 15 20 25 30 35 40 45 50 55 60 65 70 75 80 85 90 95]\n",
      "[99 94 89 84 79 74 69 64 59 54 49 44 39 34 29 24 19 14  9  4]\n",
      "[ 1  6 11 16 21 26 31 36 41 46]\n"
     ]
    }
   ],
   "source": [
    "x = np.arange(100)\n",
    "print(x[0], x[-1]) # the first and last elements\n",
    "print(x[:10]) # first 10 elements\n",
    "print(x[10:]) # 10th and all elements after \n",
    "print(x[-10:]) # last 10 elements\n",
    "print(x[::5]) # every 5th element\n",
    "print(x[::-5]) # every 5th element starting from last down to the first\n",
    "print(x[1:50:5]) # every 5th element starting from 2nd and until 50th"
   ]
  },
  {
   "cell_type": "markdown",
   "metadata": {},
   "source": [
    "For multi-dimensional array, each individual dimension can be indexed like in the examples above. "
   ]
  },
  {
   "cell_type": "markdown",
   "metadata": {},
   "source": [
    "The following slicing operation is particularly useful in many situations, as it reverses the order of elements in the array. "
   ]
  },
  {
   "cell_type": "code",
   "execution_count": 10,
   "metadata": {},
   "outputs": [
    {
     "name": "stdout",
     "output_type": "stream",
     "text": [
      "[99 98 97 96 95 94 93 92 91 90 89 88 87 86 85 84 83 82 81 80 79 78 77 76\n",
      " 75 74 73 72 71 70 69 68 67 66 65 64 63 62 61 60 59 58 57 56 55 54 53 52\n",
      " 51 50 49 48 47 46 45 44 43 42 41 40 39 38 37 36 35 34 33 32 31 30 29 28\n",
      " 27 26 25 24 23 22 21 20 19 18 17 16 15 14 13 12 11 10  9  8  7  6  5  4\n",
      "  3  2  1  0]\n"
     ]
    }
   ],
   "source": [
    "print(x[::-1])"
   ]
  },
  {
   "cell_type": "markdown",
   "metadata": {},
   "source": [
    "### Generate a sequence or grid of numbers"
   ]
  },
  {
   "cell_type": "code",
   "execution_count": 69,
   "metadata": {},
   "outputs": [
    {
     "name": "stdout",
     "output_type": "stream",
     "text": [
      "[0.  0.1 0.2 0.3 0.4 0.5 0.6 0.7 0.8 0.9]\n",
      "[1.00000000e+00 1.29154967e+01 1.66810054e+02 2.15443469e+03\n",
      " 2.78255940e+04 3.59381366e+05 4.64158883e+06 5.99484250e+07\n",
      " 7.74263683e+08 1.00000000e+10]\n",
      "[1.00000000e+00 1.29154967e+01 1.66810054e+02 2.15443469e+03\n",
      " 2.78255940e+04 3.59381366e+05 4.64158883e+06 5.99484250e+07\n",
      " 7.74263683e+08 1.00000000e+10]\n",
      "[10 11 12 13 14 15 16 17 18 19]\n",
      "[10 12 14 16 18 20 22 24 26 28]\n"
     ]
    }
   ],
   "source": [
    "# generate a sequence of N equally spaced numbers from xmin to xmax\n",
    "xmin, xmax = 0., 100.\n",
    "N = 1000\n",
    "xg = np.linspace(xmin, xmax, N+1)\n",
    "print(xg[:10])\n",
    "#generate numbers equally spaced on log scale\n",
    "expg = np.linspace(0.,10, 10)\n",
    "xg = 10.**expg\n",
    "print(xg)\n",
    "# this is equivalent to \n",
    "xg = np.logspace(0.,10,10)\n",
    "print(xg)\n",
    "\n",
    "# generate a sequence of integers from N1 to N2-1\n",
    "ig = np.arange(10,100)\n",
    "print(ig[:10])\n",
    "# the same but generating numbers with increment of 2\n",
    "ig = np.arange(10,100,2)\n",
    "print(ig[:10])"
   ]
  },
  {
   "cell_type": "code",
   "execution_count": 66,
   "metadata": {
    "scrolled": true
   },
   "outputs": [
    {
     "name": "stdout",
     "output_type": "stream",
     "text": [
      "Help on built-in function arange in module numpy.core.multiarray:\n",
      "\n",
      "arange(...)\n",
      "    arange([start,] stop[, step,], dtype=None)\n",
      "    \n",
      "    Return evenly spaced values within a given interval.\n",
      "    \n",
      "    Values are generated within the half-open interval ``[start, stop)``\n",
      "    (in other words, the interval including `start` but excluding `stop`).\n",
      "    For integer arguments the function is equivalent to the Python built-in\n",
      "    `range <http://docs.python.org/lib/built-in-funcs.html>`_ function,\n",
      "    but returns an ndarray rather than a list.\n",
      "    \n",
      "    When using a non-integer step, such as 0.1, the results will often not\n",
      "    be consistent.  It is better to use ``linspace`` for these cases.\n",
      "    \n",
      "    Parameters\n",
      "    ----------\n",
      "    start : number, optional\n",
      "        Start of interval.  The interval includes this value.  The default\n",
      "        start value is 0.\n",
      "    stop : number\n",
      "        End of interval.  The interval does not include this value, except\n",
      "        in some cases where `step` is not an integer and floating point\n",
      "        round-off affects the length of `out`.\n",
      "    step : number, optional\n",
      "        Spacing between values.  For any output `out`, this is the distance\n",
      "        between two adjacent values, ``out[i+1] - out[i]``.  The default\n",
      "        step size is 1.  If `step` is specified as a position argument,\n",
      "        `start` must also be given.\n",
      "    dtype : dtype\n",
      "        The type of the output array.  If `dtype` is not given, infer the data\n",
      "        type from the other input arguments.\n",
      "    \n",
      "    Returns\n",
      "    -------\n",
      "    arange : ndarray\n",
      "        Array of evenly spaced values.\n",
      "    \n",
      "        For floating point arguments, the length of the result is\n",
      "        ``ceil((stop - start)/step)``.  Because of floating point overflow,\n",
      "        this rule may result in the last element of `out` being greater\n",
      "        than `stop`.\n",
      "    \n",
      "    See Also\n",
      "    --------\n",
      "    linspace : Evenly spaced numbers with careful handling of endpoints.\n",
      "    ogrid: Arrays of evenly spaced numbers in N-dimensions.\n",
      "    mgrid: Grid-shaped arrays of evenly spaced numbers in N-dimensions.\n",
      "    \n",
      "    Examples\n",
      "    --------\n",
      "    >>> np.arange(3)\n",
      "    array([0, 1, 2])\n",
      "    >>> np.arange(3.0)\n",
      "    array([ 0.,  1.,  2.])\n",
      "    >>> np.arange(3,7)\n",
      "    array([3, 4, 5, 6])\n",
      "    >>> np.arange(3,7,2)\n",
      "    array([3, 5])\n",
      "\n",
      "None\n"
     ]
    }
   ],
   "source": [
    "# you can always check help info for a given function\n",
    "print(help(np.arange))"
   ]
  },
  {
   "cell_type": "markdown",
   "metadata": {},
   "source": [
    "### A note on array assignments and copying "
   ]
  },
  {
   "cell_type": "code",
   "execution_count": 20,
   "metadata": {},
   "outputs": [
    {
     "name": "stdout",
     "output_type": "stream",
     "text": [
      "0.6006913464593936\n",
      "0.6006913464593936\n",
      "0.0\n",
      "0.0\n"
     ]
    }
   ],
   "source": [
    "print(a[1][0])\n",
    "b = a\n",
    "print(b[1][0])\n",
    "b[1][0] = 0.\n",
    "print(b[1][0])\n",
    "print(a[1][0])"
   ]
  },
  {
   "cell_type": "markdown",
   "metadata": {},
   "source": [
    "When numpy array is copied in this way no copy is created, a pointer to memory location is passed on and b array simply points to the same memory location as a. As you can see modifying b above modified the same element in a. "
   ]
  },
  {
   "cell_type": "code",
   "execution_count": 21,
   "metadata": {},
   "outputs": [
    {
     "name": "stdout",
     "output_type": "stream",
     "text": [
      "100000000 loops, best of 3: 19.5 ns per loop\n",
      "10 loops, best of 3: 36.5 ms per loop\n"
     ]
    }
   ],
   "source": [
    "%timeit b = a\n",
    "%timeit b = np.copy(a)"
   ]
  },
  {
   "cell_type": "markdown",
   "metadata": {},
   "source": [
    "The second operation, which involves copying, is 1000 times more expensive! \n",
    "but now b and a are independent arrays. \n",
    "\n",
    "**Lesson:** pass pointer to array where appropriate for speed, but use explicit copy if you want a truly independent array."
   ]
  },
  {
   "cell_type": "code",
   "execution_count": 23,
   "metadata": {},
   "outputs": [
    {
     "name": "stdout",
     "output_type": "stream",
     "text": [
      "1.0\n",
      "0.0\n"
     ]
    }
   ],
   "source": [
    "b = np.copy(a)\n",
    "b[1][0] = 1\n",
    "print(b[1][0])\n",
    "print(a[1][0])"
   ]
  },
  {
   "cell_type": "markdown",
   "metadata": {},
   "source": [
    "### Checking all elements of array"
   ]
  },
  {
   "cell_type": "code",
   "execution_count": 4,
   "metadata": {},
   "outputs": [
    {
     "name": "stdout",
     "output_type": "stream",
     "text": [
      "False\n",
      "True\n",
      "True\n"
     ]
    }
   ],
   "source": [
    "# generate a vector of uniformly distributed pseudo-random numbers in the interval [0,1)\n",
    "r = np.random.uniform(0.,1.0,size=10000)\n",
    "# np.all checks whether *all* elements of an array conform to specified condition\n",
    "print(np.all(r>0.5))\n",
    "print(np.all(r<1.0))\n",
    "#np.any instead evaluates whether any of the elements satisfy the condition\n",
    "print(np.any(r>0.5))\n"
   ]
  },
  {
   "cell_type": "code",
   "execution_count": 5,
   "metadata": {},
   "outputs": [
    {
     "name": "stdout",
     "output_type": "stream",
     "text": [
      "4.980443971347448e-06 0.9999553105039661\n"
     ]
    }
   ],
   "source": [
    "# any array is an object (class) has many attributes, including functions such as min() and max()\n",
    "print(r.min(), r.max())"
   ]
  },
  {
   "cell_type": "code",
   "execution_count": 6,
   "metadata": {},
   "outputs": [],
   "source": [
    "#if you want to see all attributes, run array name with a question mark as below\n",
    "r?"
   ]
  },
  {
   "cell_type": "markdown",
   "metadata": {},
   "source": [
    "### Vectorizing a function\n",
    "\n",
    "We can vectorize a function, that was not designed for vectorized execution using <a href=\"https://docs.scipy.org/doc/numpy/reference/generated/numpy.vectorize.html\">numpy.vectorize</a>"
   ]
  },
  {
   "cell_type": "markdown",
   "metadata": {},
   "source": [
    "### Optimization issues "
   ]
  },
  {
   "cell_type": "code",
   "execution_count": 5,
   "metadata": {},
   "outputs": [
    {
     "name": "stdout",
     "output_type": "stream",
     "text": [
      "explicit loop takes 0.46 seconds\n",
      "numpy vector operation takes 0.03 seconds\n"
     ]
    }
   ],
   "source": [
    "import numpy as np\n",
    "\n",
    "Ng = 100\n",
    "a = np.random.rand(Ng, Ng, Ng); b = np.random.rand(Ng, Ng, Ng);\n",
    "\n",
    "from timeit import default_timer\n",
    "\n",
    "tstart = default_timer()\n",
    "for i in range(Ng):\n",
    "    for j in range(Ng):\n",
    "        for k in range(Ng):\n",
    "            a[i,j,k] = b[i,j,k]**(2./3)\n",
    "\n",
    "print(\"explicit loop takes %.2f seconds\"%(default_timer()-tstart))\n",
    "\n",
    "# vector operation on numpy arrays\n",
    "tstart = default_timer()\n",
    "\n",
    "a = b**(2./3)\n",
    "print(\"numpy vector operation takes %.2f seconds\"%(default_timer()-tstart))\n"
   ]
  },
  {
   "cell_type": "markdown",
   "metadata": {},
   "source": [
    "**Lesson:** use numpy instead of explicit loops whenever possible (unless loops have small iteration count and inexpensive), but be aware of some pitfalls. \n",
    "\n",
    "Here a few examples illustrating how seeminly similiar choices can affect the speed of your calculations. "
   ]
  },
  {
   "cell_type": "code",
   "execution_count": 15,
   "metadata": {},
   "outputs": [
    {
     "name": "stdout",
     "output_type": "stream",
     "text": [
      "10 loops, best of 3: 40.7 ms per loop\n"
     ]
    }
   ],
   "source": [
    "N = 10000000\n",
    "%timeit a = np.ones(N); a *= 2"
   ]
  },
  {
   "cell_type": "code",
   "execution_count": 12,
   "metadata": {},
   "outputs": [
    {
     "name": "stdout",
     "output_type": "stream",
     "text": [
      "10 loops, best of 3: 66.5 ms per loop\n"
     ]
    }
   ],
   "source": [
    "%timeit a = np.ones(N); b = a * 2"
   ]
  },
  {
   "cell_type": "code",
   "execution_count": 13,
   "metadata": {},
   "outputs": [
    {
     "name": "stdout",
     "output_type": "stream",
     "text": [
      "10 loops, best of 3: 67.2 ms per loop\n"
     ]
    }
   ],
   "source": [
    "%timeit a = np.ones(N); a = a * 2"
   ]
  },
  {
   "cell_type": "markdown",
   "metadata": {},
   "source": [
    "The first calculation (a *= 2) is fastest. \n",
    "\n",
    "**Lesson:** calculate \"in-place\" (like in the first example) whenever possible. "
   ]
  },
  {
   "cell_type": "code",
   "execution_count": 16,
   "metadata": {},
   "outputs": [
    {
     "name": "stdout",
     "output_type": "stream",
     "text": [
      "Are a1 and a2 the same?\n",
      "yes!\n",
      "timing direct index slicing\n",
      "The slowest run took 11.90 times longer than the fastest. This could mean that an intermediate result is being cached.\n",
      "1000000 loops, best of 3: 168 ns per loop\n",
      "timing indirect index slicing\n",
      "100 loops, best of 3: 4.09 ms per loop\n"
     ]
    }
   ],
   "source": [
    "n, d = 100000, 100\n",
    "# create a 2-dimension array of dimensions nxd and fill it with random numbers\n",
    "a = np.random.random_sample((n, d));\n",
    "\n",
    "# select every 10th array item\n",
    "# 1st using direct indexing (array view)\n",
    "# then using \"fancy indexing\" with a numpy function arange\n",
    "a1 = a[::10]; a2 = a[np.arange(0, n, 10)]\n",
    "print(\"Are a1 and a2 the same?\") \n",
    "if np.array_equal(a1, a2): \n",
    "    print(\"yes!\")\n",
    "else:\n",
    "    print(\"no!\")\n",
    "    \n",
    "print(\"timing direct index slicing\")\n",
    "%timeit a[::10]\n",
    "print(\"timing indirect index slicing\")\n",
    "%timeit a[np.arange(0, n, 10)]"
   ]
  },
  {
   "cell_type": "markdown",
   "metadata": {},
   "source": [
    "Direct indexing performs selection operation in place without creating a copy of array. Hence, it is much faster than fancy indexing selection which does create a copy.\n",
    "\n",
    "**Lesson:** use direct slicing like <tt>a[::10]</tt> whenever possible. "
   ]
  },
  {
   "cell_type": "markdown",
   "metadata": {},
   "source": [
    "The flatten and ravel methods of an array reshape it into a 1D vector (flattened array). The former method always returns a copy, whereas the latter returns a copy only if necessary. So ravel performs flattening \"in place\" in memory location of array without copying it elsewhere. "
   ]
  },
  {
   "cell_type": "code",
   "execution_count": 18,
   "metadata": {},
   "outputs": [
    {
     "name": "stdout",
     "output_type": "stream",
     "text": [
      "10 loops, best of 3: 37.6 ms per loop\n"
     ]
    }
   ],
   "source": [
    "%timeit a.flatten()"
   ]
  },
  {
   "cell_type": "code",
   "execution_count": 19,
   "metadata": {},
   "outputs": [
    {
     "name": "stdout",
     "output_type": "stream",
     "text": [
      "The slowest run took 29.80 times longer than the fastest. This could mean that an intermediate result is being cached.\n",
      "10000000 loops, best of 3: 164 ns per loop\n"
     ]
    }
   ],
   "source": [
    "%timeit a.ravel()"
   ]
  },
  {
   "cell_type": "markdown",
   "metadata": {},
   "source": [
    "**Lesson:** ravel is much faster than flatten. "
   ]
  },
  {
   "cell_type": "markdown",
   "metadata": {},
   "source": [
    "Just like with arrays in other languages scanning different indices of array incurs very different costs:"
   ]
  },
  {
   "cell_type": "code",
   "execution_count": 24,
   "metadata": {},
   "outputs": [
    {
     "name": "stdout",
     "output_type": "stream",
     "text": [
      "The slowest run took 2207.87 times longer than the fastest. This could mean that an intermediate result is being cached.\n",
      "100000 loops, best of 3: 4.12 µs per loop\n",
      "The slowest run took 5.53 times longer than the fastest. This could mean that an intermediate result is being cached.\n",
      "10000 loops, best of 3: 38.8 µs per loop\n"
     ]
    }
   ],
   "source": [
    "a = np.random.rand(5000, 5000)\n",
    "%timeit a[0,:].sum()\n",
    "%timeit a[:,0].sum()"
   ]
  },
  {
   "cell_type": "markdown",
   "metadata": {},
   "source": [
    "That's because scanning the first index is contiguous in memory and thus most data is brought into cache for fast access, while scanning the second is not. \n",
    "\n",
    "More details on numpy and numpy performance tricks can be found <a href=\"http://www.scipy-lectures.org/advanced/advanced_numpy/\">here</a>."
   ]
  },
  {
   "cell_type": "code",
   "execution_count": 25,
   "metadata": {
    "collapsed": true
   },
   "outputs": [],
   "source": [
    "from math import cos\n",
    "import numpy as np\n",
    "\n",
    "def func(t, y, **kwargs):\n",
    "    return y*cos(t)\n",
    "\n",
    "def func_exact(t, **kwargs):\n",
    "    return np.exp(np.sin(t) - np.sin(kwargs[\"t0\"]))\n",
    "\n"
   ]
  },
  {
   "cell_type": "markdown",
   "metadata": {},
   "source": [
    "Solver routines below are adapted to solve a single ODE or a system of ODEs.\n",
    "The input is can be a scalar or a vector\n",
    "if y is a vector, function f should be able to handle a vector input and output. Keyword arguments can also be passed to f via kwargs dictionary. See <a href=\"https://pythontips.com/2013/08/04/args-and-kwargs-in-python-explained/\"></a> if you are not familiar with this concept.  "
   ]
  },
  {
   "cell_type": "code",
   "execution_count": 26,
   "metadata": {
    "collapsed": true
   },
   "outputs": [],
   "source": [
    "# 1st order Runge-Kutta method (forward Euler) with constant step\n",
    "# routine using list append function to accumulate solution and time vector\n",
    "def rk1(f, y_start, t_start, t_end, dt, **kwargs):\n",
    "    t = np.copy(t_start); y = np.copy(y_start); \n",
    "    tout = [t]; yout = [y]\n",
    "    while t < t_end:\n",
    "        y += dt * f(t, y, **kwargs)\n",
    "        t += dt\n",
    "        tout.append(t); yout.append(y)\n",
    "    return tout, yout\n",
    "\n",
    "# the same function but using vstack instead of append \n",
    "def rk1npstack(f, y_start, t_start, t_end, dt, **kwargs):\n",
    "    t = np.copy(t_start); y = np.copy(y_start); \n",
    "    tout = np.copy(t_start); yout = np.copy(y_start); \n",
    "    while t < t_end:\n",
    "        y += dt * f(t, y, **kwargs)\n",
    "        t += dt\n",
    "        np.vstack((tout,t)); np.vstack((yout,y))\n",
    "    return tout, yout\n"
   ]
  },
  {
   "cell_type": "code",
   "execution_count": 28,
   "metadata": {},
   "outputs": [
    {
     "name": "stdout",
     "output_type": "stream",
     "text": [
      "RK1 with list appends solved in 5.3958 s\n",
      "RK1 with np stack functions solved in 14.2069 s\n"
     ]
    }
   ],
   "source": [
    "from time import time\n",
    "\n",
    "t0 = 0.; \n",
    "tf = 100.; dt = 0.0001\n",
    "\n",
    "kwargs = {\"t0\": 0.} # argument for func_stiff\n",
    "y0 = func_exact(t0, **kwargs); \n",
    "\n",
    "tpast = time()\n",
    "t1, y1 = rk1(func, y0, t0, tf, dt, **kwargs)\n",
    "texec_rk1 = time() - tpast\n",
    "print(\"RK1 with list appends solved in %.4f s\"%(texec_rk1))\n",
    "\n",
    "tpast = time()\n",
    "t1s, y1s = rk1npstack(func, y0, t0, tf, dt, **kwargs)\n",
    "texec_rk1s = time() - tpast\n",
    "print(\"RK1 with np stack functions solved in %.4f s\"%(texec_rk1s))"
   ]
  },
  {
   "cell_type": "markdown",
   "metadata": {
    "collapsed": true
   },
   "source": [
    "Function using numpy arrays for everything is ~3 times slower. The culprit is np.vstack calls. vstack and hstack methods in numpy involve copying of arrays, while list method [].append just appends array to existing memory location without copying. \n",
    "\n",
    "**Lesson:** avoid using hstack and vstack operations in long sequences involving large arrays. Use lists and append instead. Convert list to numpy array in the end."
   ]
  }
 ],
 "metadata": {
  "kernelspec": {
   "display_name": "Python 3",
   "language": "python",
   "name": "python3"
  },
  "language_info": {
   "codemirror_mode": {
    "name": "ipython",
    "version": 3
   },
   "file_extension": ".py",
   "mimetype": "text/x-python",
   "name": "python",
   "nbconvert_exporter": "python",
   "pygments_lexer": "ipython3",
   "version": "3.7.4"
  }
 },
 "nbformat": 4,
 "nbformat_minor": 1
}
