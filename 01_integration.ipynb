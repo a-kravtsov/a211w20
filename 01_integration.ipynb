{
 "cells": [
  {
   "cell_type": "markdown",
   "metadata": {
    "deletable": true,
    "editable": true,
    "slideshow": {
     "slide_type": "slide"
    }
   },
   "source": [
    "# ASTR 21100 \n",
    "\n",
    "# *\"Computational Techniques in Astrophysics\"*\n",
    "\n",
    "## Instructor: Andrey Kravtsov\n",
    "\n",
    "### office: ERC 415; email: kravtsov@uchicago.edu\n",
    "### office hours: Tue, 10:30am-noon (unless noted otherwise)\n",
    "\n",
    "### Teaching Assistants: \n",
    "### Dimitrios Tanoglidis (dtanoglidis@uchicaago.edu)\n",
    "### Georgios Zakharegkas (gzakharegkas@uchicago.edu)"
   ]
  },
  {
   "cell_type": "markdown",
   "metadata": {
    "deletable": true,
    "editable": true,
    "slideshow": {
     "slide_type": "fragment"
    }
   },
   "source": [
    "### Course syllabus\n",
    "\n",
    "Available <a href=\"https://docs.google.com/document/d/1R_68I3HV6ItznZz1_NaZsDf_s4fpGFXoWKkIv3eneVk/edit?usp=sharing\">online.</a>"
   ]
  },
  {
   "cell_type": "markdown",
   "metadata": {
    "deletable": true,
    "editable": true,
    "slideshow": {
     "slide_type": "skip"
    }
   },
   "source": [
    "### Python with NumPy \n",
    "\n",
    "We will heavily use <a href=\"https://numpy.org/\"><tt>numpy</tt></a> python package. Numpy has handy routines for various tasks such as reading formatted files, and array initialization.\n",
    "\n",
    "The main reason for its heavy use in computations with python is that python, being an interpreted language, is quite slow, especially in computations involving loops with large iteration counts. \n",
    "\n",
    "Numpy provides relatively fast routines to perform commonly encountered operations applied to all elements of arrays at once, thereby avoiding costly loops. "
   ]
  },
  {
   "cell_type": "markdown",
   "metadata": {
    "deletable": true,
    "editable": true,
    "slideshow": {
     "slide_type": "skip"
    }
   },
   "source": [
    "#### Consider computing distance to an object of a given brightness in expanding universe. \n",
    "\n",
    "In 1929, Edwin Hubble (UChicago alum and a college <a href=\"https://en.wikipedia.org/wiki/1909%E2%80%9310_Chicago_Maroons_men%27s_basketball_team\">basketball star player</a> and coach) showed that our Universe is expanding by demonstrating that that there is a correlation between distance and recession velocity of galaxies, $v=cz$ (where $c$ is speed of light), as measured by its spectral line shift relative to its wavelenght in the lab frame, $z=\\Delta (\\lambda_{\\rm obs}-\\lambda_{\\rm lab})/\\lambda_{\\rm lab}$:\n",
    "\n",
    "$$ cz \\propto d = H_0\\, d,$$\n",
    "\n",
    "where $H_0$ is now called *the Hubble constant*. "
   ]
  },
  {
   "cell_type": "markdown",
   "metadata": {
    "deletable": true,
    "editable": true,
    "slideshow": {
     "slide_type": "slide"
    }
   },
   "source": [
    "<center>\n",
    "<img width=900 src=\"img/uchicago_basketball_team_09_10.jpg\"></img>\n",
    "</center>"
   ]
  },
  {
   "cell_type": "markdown",
   "metadata": {
    "deletable": true,
    "editable": true,
    "slideshow": {
     "slide_type": "slide"
    }
   },
   "source": [
    "In 1929, Edwin Hubble showed that our Universe is expanding by demonstrating that that there is a correlation between distance and recession velocity of galaxies.\n",
    "<p></p>\n",
    "<center><img  width=900 src=\"img/hubble29_v_d_fig.png\"></img></center>"
   ]
  },
  {
   "cell_type": "markdown",
   "metadata": {
    "deletable": true,
    "editable": true,
    "slideshow": {
     "slide_type": "skip"
    }
   },
   "source": [
    "Almost all galaxy spectral shifts are to the red, so the widespread term for these is *redshift.* "
   ]
  },
  {
   "cell_type": "markdown",
   "metadata": {
    "deletable": true,
    "editable": true,
    "slideshow": {
     "slide_type": "skip"
    }
   },
   "source": [
    "Given that distnces to galaxies are usually measured in the units natural for this purpose - million parsecs or Megaparsec (Mpc for short) and $cz$ has units of velocity, which is usually measured for galaxies in $\\rm km/s$, $H_0$ is usually quoted in units of $\\rm km/s/Mpc$. "
   ]
  },
  {
   "cell_type": "markdown",
   "metadata": {
    "deletable": true,
    "editable": true,
    "slideshow": {
     "slide_type": "slide"
    }
   },
   "source": [
    "A modern version of the Hubble diagram (from <a href=\"https://ui.adsabs.harvard.edu/abs/2019ApJ...882...34F/abstract\">Freedman et al. 2019</a>). TRGB is short for \"tip of the red giant branch\", which refers to a <a href=\"https://en.wikipedia.org/wiki/Tip_of_the_red-giant_branch\">particular way of measuring distances.</a> \n",
    "\n",
    "<br>\n",
    "<center><img width=1000 src=\"img/freedman_etal19_hubble_diagram.png\"></img></center>"
   ]
  },
  {
   "cell_type": "markdown",
   "metadata": {
    "deletable": true,
    "editable": true,
    "slideshow": {
     "slide_type": "skip"
    }
   },
   "source": [
    "###  What is distance modulus? \n",
    "\n",
    "#### Fluxes in astronomy are measured using *magnitudes* \n",
    "\n",
    "Flux of an object (radiation energy per unit time per unit area of detector) of intrinsic luminosity $L$ (emitting a given amount of radiation energy per unit time) at a distance $d_L$ is computed as $f=L/(4\\pi d_L^2)$. \n",
    "\n",
    "For historical reasons, astronomers measure fluxes, not as $f$ but in *magnitudes* that depend on $f$ logarithmically: \n",
    "\n",
    "$$m = -2.5\\log_{10} f +{\\rm const},$$ \n",
    "\n",
    "where $\\rm const$ is a constant that defines *magnitude system.* "
   ]
  },
  {
   "cell_type": "markdown",
   "metadata": {
    "deletable": true,
    "editable": true,
    "slideshow": {
     "slide_type": "skip"
    }
   },
   "source": [
    "If we plug in expression for $f$ into this equation we get: \n",
    "\n",
    "$$m= -2.5\\log_{10} L + 5\\log_{10} d_L + \\log_{10}4\\pi + {\\rm const} = -2.5\\log_{10} L + 5\\log_{10} 10\\ {\\rm pc} - 5\\log_{10} 10\\ {\\rm pc} + {\\rm const} + 5\\log_{10} d_L = M + 5\\log_{10}\\frac{d_L}{10\\,\\rm pc}, $$\n",
    "\n",
    "where $M$ is the absolute magnitude, defined as the *apparent magnitude* that the object would have for an observed on Earth, if it was located at a distance of $10$ parsecs. "
   ]
  },
  {
   "cell_type": "markdown",
   "metadata": {
    "deletable": true,
    "editable": true,
    "slideshow": {
     "slide_type": "skip"
    }
   },
   "source": [
    "### The distance modulus \n",
    "\n",
    "is a quantity defined as \n",
    "\n",
    "$$\\mu = m-M = 5\\log_{10}\\frac{d_L}{10^{-5}\\,\\rm Mpc} = 5\\log_{10} d_L + 25,$$\n",
    "\n",
    "where $d_L$ is assumed to be in units of Megaparsecs (Mpc). "
   ]
  },
  {
   "cell_type": "markdown",
   "metadata": {
    "deletable": true,
    "editable": true,
    "slideshow": {
     "slide_type": "slide"
    }
   },
   "source": [
    "#### Supernovae type Ia are the best distance indicators for very large distances\n",
    "\n",
    "In this image a supernova at $z\\approx 1.9$ was <a href=\"https://www.universetoday.com/101240/hubble-telescope-breaks-record-for-finding-most-distant-supernova/\">detected</a> by <a href=\"https://www.nasa.gov/mission_pages/hubble/story/index.html\">the Hubble Space Telescope.</a>\n",
    "\n",
    "<br>\n",
    "<center><img width=700 src=\"img/hst_sn1306d_full.jpg\"></img></center>"
   ]
  },
  {
   "cell_type": "markdown",
   "metadata": {
    "deletable": true,
    "editable": true,
    "slideshow": {
     "slide_type": "skip"
    }
   },
   "source": [
    "It turns out that this “Hubble law” is just the local manifestation of a more complicated, nonlinear relation between distance and redshift. \n"
   ]
  },
  {
   "cell_type": "markdown",
   "metadata": {
    "deletable": true,
    "editable": true,
    "slideshow": {
     "slide_type": "slide"
    }
   },
   "source": [
    "A modern version of the Hubble diagram (from <a href=\"https://ui.adsabs.harvard.edu/abs/2012ApJ...746...85S/abstract\">Suzuki et al. 2012</a>) for <a href=\"https://en.wikipedia.org/wiki/Type_Ia_supernova\">type Ia supernovae</a>.\n",
    "\n",
    "<br>\n",
    "<center><img width=1000 src=\"img/suzuki_etal12_hubble_diagram.png\"></img></center>"
   ]
  },
  {
   "cell_type": "markdown",
   "metadata": {
    "deletable": true,
    "editable": true,
    "slideshow": {
     "slide_type": "fragment"
    }
   },
   "source": [
    "### Was Hubble wrong? "
   ]
  },
  {
   "cell_type": "markdown",
   "metadata": {
    "deletable": true,
    "editable": true,
    "slideshow": {
     "slide_type": "slide"
    }
   },
   "source": [
    "Think Taylor expansion of the distance (or distance modulus): linear term is simply the first two terms of the expansion. \n",
    "\n",
    "Consider Taylor expansion of $f(x)$ arond $x_0$:\n",
    "$$f(x) = \\sum\\limits^\\infty_{n=0} \\frac{f^{(n)}(x_0)(x-x_0)^n}{n!}=f(x_0)+f^\\prime(x_0)\\,(x-x_0)+\\frac{1}{2}f^{\\prime\\prime}(x_0)\\,(x-x_0)^2 + \\frac{1}{6}f^{(3)}(x_0)\\,(x-x_0)^3+ \\mathcal{O}[(x-x_0)^4].$$\n",
    "\n",
    "The term $\\mathcal{O}[(x-x_0)^4]$ is the standard shorthand for ``and terms of order 4 and higher''. If we neglect terms above certain order, we are no longer guaranteed to represent $f(x)$ exactly.\n",
    "\n",
    "For example, to linear order: \n",
    "$$f(x) \\approx f(x_0)+f^\\prime(x_0)\\,(x-x_0).$$\n",
    "\n",
    "The difference between $f(x)$ and approximation using limited number of terms, such as $f(x_0)+f^\\prime(x_0)\\,(x-x_0)$, is called *truncation error*. "
   ]
  },
  {
   "cell_type": "code",
   "execution_count": 2,
   "metadata": {
    "collapsed": true,
    "deletable": true,
    "editable": true,
    "slideshow": {
     "slide_type": "skip"
    }
   },
   "outputs": [],
   "source": [
    "import numpy as np\n",
    "from math import factorial \n",
    "\n",
    "def exp_Taylor(x0, N, x):\n",
    "    \"\"\"\n",
    "    Taylor expansion up to order N for exp(x)\n",
    "    \"\"\"\n",
    "    dummy = np.zeros_like(x)\n",
    "    for n in range(N+1):\n",
    "        dummy += np.exp(x0)*(x-x0)**n/factorial(n)\n",
    "    return dummy\n"
   ]
  },
  {
   "cell_type": "code",
   "execution_count": 1,
   "metadata": {
    "collapsed": true,
    "deletable": true,
    "editable": true,
    "slideshow": {
     "slide_type": "skip"
    }
   },
   "outputs": [],
   "source": [
    "import matplotlib.pyplot as plt"
   ]
  },
  {
   "cell_type": "code",
   "execution_count": 6,
   "metadata": {
    "collapsed": true,
    "deletable": true,
    "editable": true,
    "slideshow": {
     "slide_type": "skip"
    }
   },
   "outputs": [],
   "source": [
    "def plot_pretty(dpi=175,fontsize=9):\n",
    "    # import pyplot and set some parameters to make plots prettier\n",
    "    plt.rc(\"savefig\", dpi=dpi)\n",
    "    plt.rc(\"figure\", dpi=dpi)\n",
    "    plt.rc('font', size=fontsize)\n",
    "    plt.rc('xtick', direction='in') \n",
    "    plt.rc('ytick', direction='in')\n",
    "    plt.rc('xtick.major', pad=5) \n",
    "    plt.rc('xtick.minor', pad=5)\n",
    "    plt.rc('ytick.major', pad=5) \n",
    "    plt.rc('ytick.minor', pad=5)\n",
    "    plt.rc('lines', dotted_pattern = [0.5, 1.1])\n",
    "\n",
    "    return\n",
    "\n",
    "plot_pretty(dpi=250, fontsize=9)"
   ]
  },
  {
   "cell_type": "markdown",
   "metadata": {
    "deletable": true,
    "editable": true,
    "slideshow": {
     "slide_type": "skip"
    }
   },
   "source": [
    "### LaTeX\n",
    "\n",
    "Although not strictly required, I highly recommend installing <a href=\"https://www.latex-project.org/get/\">a LaTeX distribution</a> on your laptop. I use LaTeX commands to format plot labels in matplotlib. "
   ]
  },
  {
   "cell_type": "code",
   "execution_count": 4,
   "metadata": {
    "collapsed": true,
    "deletable": true,
    "editable": true,
    "slideshow": {
     "slide_type": "skip"
    }
   },
   "outputs": [],
   "source": [
    "plt.rc('text', usetex=True)\n"
   ]
  },
  {
   "cell_type": "code",
   "execution_count": 7,
   "metadata": {
    "collapsed": true,
    "deletable": true,
    "editable": true,
    "slideshow": {
     "slide_type": "skip"
    }
   },
   "outputs": [],
   "source": [
    "plot_pretty(dpi=150, fontsize=12)"
   ]
  },
  {
   "cell_type": "code",
   "execution_count": 8,
   "metadata": {
    "collapsed": true,
    "deletable": true,
    "editable": true,
    "slideshow": {
     "slide_type": "skip"
    }
   },
   "outputs": [],
   "source": [
    "\n",
    "def taylor_exp_illustration(figsize=3.0):\n",
    "    N = 4; x0 = 1.0\n",
    "\n",
    "    plt.figure(figsize=(figsize,figsize))\n",
    "    #plt.title('Taylor expansion of $e^x$ at $x_0=%.1f$'%x0, fontsize=9)\n",
    "    plt.xlabel('$x$'); plt.ylabel(r'$e^x, f_{\\rm Taylor}(x)$')\n",
    "\n",
    "    xmin = x0 - 1.0; xmax = x0 + 1.0\n",
    "    x = np.linspace(xmin, xmax, 100)\n",
    "    plt.xlim([xmin,xmax]); plt.ylim(0.,8.)\n",
    "\n",
    "    exptrue = np.exp(x)\n",
    "    plt.plot(x, exptrue, linewidth=1.5, c='m', label='$e^x$')\n",
    "    colors = ['darkslateblue', 'mediumslateblue', 'slateblue', 'lavender']\n",
    "    lstyles = [':','--','-.','-','-.']\n",
    "    for n in range(N):\n",
    "        expT = exp_Taylor(x0, n, x)\n",
    "        plt.plot(x, expT, linewidth=1.5, c=colors[n], ls=lstyles[n], label='%d order'%n)\n",
    "\n",
    "    plt.legend(loc='upper left', frameon=False, fontsize=7)\n",
    "    plt.show()\n"
   ]
  },
  {
   "cell_type": "markdown",
   "metadata": {
    "deletable": true,
    "editable": true,
    "slideshow": {
     "slide_type": "slide"
    }
   },
   "source": [
    "Consider expansion of $f(x) = e^x$ around $x_0=1$. Plot below shows $e^x$ itself and the first 4 terms of the Taylor expansion.  "
   ]
  },
  {
   "cell_type": "code",
   "execution_count": 10,
   "metadata": {
    "collapsed": false,
    "deletable": true,
    "editable": true,
    "slideshow": {
     "slide_type": "-"
    }
   },
   "outputs": [
    {
     "data": {
      "image/png": "[encoded data removed]",
      "text/plain": [
       "<Figure size 750x750 with 1 Axes>"
      ]
     },
     "metadata": {
      "needs_background": "light"
     },
     "output_type": "display_data"
    }
   ],
   "source": [
    "taylor_exp_illustration(figsize=5.0)"
   ]
  },
  {
   "cell_type": "markdown",
   "metadata": {
    "deletable": true,
    "editable": true,
    "slideshow": {
     "slide_type": "slide"
    }
   },
   "source": [
    "### Distances in expanding universe\n",
    "\n",
    "Cosmological models, constructed using solutions of the Einstein’s equations of General Relativity predict that relation depends on the matter and energy mass density of the universe - i.e., everything that gravitates and that enters in the right hand side of the Einstein's equations. These mass densities are usually expressed in *dimensionless units* - i.e., normalized to a characteristic *critical density*, $\\rho_{\\rm crit}$. So for example, the mean mass density of matter in the universe around us is expressed as $\\Omega_{\\rm m0} = \\rho_{\\rm m0}/\\rho_{\\rm crit}$.    "
   ]
  },
  {
   "cell_type": "markdown",
   "metadata": {
    "deletable": true,
    "editable": true,
    "slideshow": {
     "slide_type": "fragment"
    }
   },
   "source": [
    "<center>\n",
    "<img width=700 src=\"img/gr_equation.jpg\"></img>\n",
    "<img width=500 src=\"img/einstein_chalkboard.jpg\"></img>\n",
    "</center>"
   ]
  },
  {
   "cell_type": "markdown",
   "metadata": {
    "deletable": true,
    "editable": true,
    "slideshow": {
     "slide_type": "slide"
    }
   },
   "source": [
    "#### *\"Cosmology: a search for two numbers.\"* - <a href=\"https://physicstoday.scitation.org/doi/10.1063/1.3021960\">Allan Sandage (1970)</a> \n",
    "\n",
    "Cosmological models, in which universe contains only matter derived from the solutions of the Einstein’s equations of GR predict that relation is given by the following formula (<a href=\"https://ui.adsabs.harvard.edu/abs/1977AmJPh..45..869T\">Terrell 1977</a>):\n",
    "\n",
    "$$d_L = \\frac{c}{H_0}\\, z\\left[1 + \\frac{(1-q_0)z}{1+q_0z+\\sqrt{1+2q_0z}}\\right],$$\n",
    "\n",
    "where $q_0=\\Omega_{m0}/2$ is the *deceleration parameter*. The two numbers in the quote above are $H_0$ and $q_0$. "
   ]
  },
  {
   "cell_type": "markdown",
   "metadata": {
    "deletable": true,
    "editable": true,
    "slideshow": {
     "slide_type": "skip"
    }
   },
   "source": [
    "Pause to think how long would it take you to compute $d_L$ on a piece of paper without computer or calculator. While you are at it, think about how would you compute square root with a pen and paper.  "
   ]
  },
  {
   "cell_type": "markdown",
   "metadata": {
    "deletable": true,
    "editable": true,
    "slideshow": {
     "slide_type": "skip"
    }
   },
   "source": [
    " Subscript $L$ in $d_L$ indicates that this is the *luminosity distance* - i.e., the distance to be used to compute flux of an object of a given intrinsic luminosity $L$. This is needed because in expanding universe, different (although related) distance definitions are used in different situations. "
   ]
  },
  {
   "cell_type": "code",
   "execution_count": 55,
   "metadata": {
    "collapsed": true,
    "deletable": true,
    "editable": true,
    "slideshow": {
     "slide_type": "fragment"
    }
   },
   "outputs": [],
   "source": [
    "import numpy as np \n",
    "\n",
    "clight = 2.99792458e5 # c in km/s\n",
    "\n",
    "def d_L_simple(z, H0, Om0):\n",
    "    q0 = 0.5 * Om0\n",
    "    q0z = q0 * z\n",
    "    return clight * z/H0 * (1. + (z-q0z) / (1. + q0z + np.sqrt(1. + 2.*q0z)))  "
   ]
  },
  {
   "cell_type": "code",
   "execution_count": 57,
   "metadata": {
    "collapsed": false,
    "deletable": true,
    "editable": true,
    "slideshow": {
     "slide_type": "fragment"
    }
   },
   "outputs": [
    {
     "name": "stdout",
     "output_type": "stream",
     "text": [
      "[  446.20861376  5872.29444101 14242.63441846]\n"
     ]
    }
   ],
   "source": [
    "Om0 = 0.3; H0 = 70. # H0 in km/s/Mpc\n",
    "\n",
    "z = np.array([0.1, 1.0, 2.0])\n",
    "print(d_L_simple(z, H0, Om0))\n"
   ]
  },
  {
   "cell_type": "markdown",
   "metadata": {
    "deletable": true,
    "editable": true,
    "slideshow": {
     "slide_type": "slide"
    }
   },
   "source": [
    "The cool thing is that we can now recompute it for a very large number of different parameters with almost no additional coding effort. "
   ]
  },
  {
   "cell_type": "code",
   "execution_count": 58,
   "metadata": {
    "collapsed": true,
    "deletable": true,
    "editable": true
   },
   "outputs": [],
   "source": [
    "#define evenly spaced grid of z values using a numpy function\n",
    "z = np.linspace(0., 10., 1000)\n",
    "\n",
    "# compute distances for all redshifts z in one call\n",
    "dL = d_L_simple(z, H0, Om0)"
   ]
  },
  {
   "cell_type": "code",
   "execution_count": 60,
   "metadata": {
    "collapsed": false,
    "deletable": true,
    "editable": true
   },
   "outputs": [
    {
     "name": "stdout",
     "output_type": "stream",
     "text": [
      "1000 0.0 52882.44799127826\n"
     ]
    }
   ],
   "source": [
    "print(np.size(dL), np.min(dL), np.mean(dL))"
   ]
  },
  {
   "cell_type": "markdown",
   "metadata": {
    "deletable": true,
    "editable": true,
    "slideshow": {
     "slide_type": "slide"
    }
   },
   "source": [
    "### Matplotlib\n",
    "\n",
    "Matplotlib is a package for (mostly) 2D plots built upon the Numpy and Scipy libraries. It was conceived by <a href=\"https://en.wikipedia.org/wiki/John_D._Hunter\">John Hunter</a> at U.Chicago in 2002, developed by him and others over the subsequent decade into a full-fledged library. \n"
   ]
  },
  {
   "cell_type": "code",
   "execution_count": 33,
   "metadata": {
    "collapsed": true,
    "deletable": true,
    "editable": true,
    "slideshow": {
     "slide_type": "fragment"
    }
   },
   "outputs": [],
   "source": [
    "# import matplotlib\n",
    "import matplotlib.pyplot as plt\n",
    "# use jupyter \"magic\" command to tell it to embed plot into the notebook \n",
    "%matplotlib inline\n",
    "\n",
    "def plot_line(x, y, figsize=6, xlabel=' ', ylabel=' ', col= 'darkslateblue', legend=None, figsave = None):\n",
    "    plt.figure(figsize=(figsize,figsize))\n",
    "    plt.xlabel(xlabel); plt.ylabel(ylabel)\n",
    "    \n",
    "    if legend:\n",
    "        plt.plot(x, y, lw = 1., c=col, label = legend)\n",
    "        plt.legend(frameon=False, loc='lower left')\n",
    "    else:\n",
    "        plt.plot(x, y, lw = 1., c=col)\n",
    "\n",
    "    if figsave:\n",
    "        plt.savefig(figsave, bbox_inches='tight')\n",
    "\n",
    "    plt.show()\n",
    "    "
   ]
  },
  {
   "cell_type": "code",
   "execution_count": 61,
   "metadata": {
    "collapsed": false,
    "deletable": true,
    "editable": true,
    "scrolled": false,
    "slideshow": {
     "slide_type": "slide"
    }
   },
   "outputs": [
    {
     "data": {
      "image/png": "[encoded data removed]",
      "text/plain": [
       "<Figure size 648x648 with 1 Axes>"
      ]
     },
     "metadata": {
      "needs_background": "light"
     },
     "output_type": "display_data"
    }
   ],
   "source": [
    "plot_line(z, dL, figsize=9)"
   ]
  },
  {
   "cell_type": "markdown",
   "metadata": {
    "deletable": true,
    "editable": true,
    "slideshow": {
     "slide_type": "slide"
    }
   },
   "source": [
    "### Distances in general cosmological models\n",
    "\n",
    "$$d_c =\\int\\limits_0^z \\frac{dz}{E(z)}.$$\n",
    "\n",
    "where $\\Omega_k = 1-\\Omega_{\\rm m0} - \\Omega_\\Lambda$ and $E(z)=\\sqrt{\\Omega_{\\rm m0}(1+z)^3+\\Omega_k(1+z)^2+\\Omega_\\Lambda}.$\n",
    "\n",
    "$$\n",
    "d_L(z,\\Omega_0,\\Omega_\\Lambda) = \\frac{c}{H_0}\\,(1+z)\\,\\left\\{\n",
    "\\begin{array}{ll}\n",
    "\\frac{1}{\\sqrt{\\Omega_k}}\\,\\sinh\\left[\\sqrt{\\Omega_k}\\,d_{\\rm c}\\right] & {\\rm for}~\\Omega_k>0 \\\\\n",
    "d_{\\rm c} & {\\rm for}~\\Omega_k=0 \\\\\n",
    "\\frac{1}{\\sqrt{|\\Omega_k|}}\\,\\sin\\left[\\sqrt{|\\Omega_k|}\\,d_{\\rm c}\\right] & {\\rm for}~\\Omega_k<0\n",
    "\\end{array}\n",
    "\\right.\n",
    "$$\n"
   ]
  },
  {
   "cell_type": "markdown",
   "metadata": {
    "deletable": true,
    "editable": true,
    "slideshow": {
     "slide_type": "slide"
    }
   },
   "source": [
    "<a href=\"https://www.astropy.org/\">Astropy</a> package has a <a href=\"https://docs.astropy.org/en/stable/_modules/astropy/cosmology/core.html#FLRW\">cosmology routines</a>, on which computes $d_L$ for input cosmological parameters."
   ]
  },
  {
   "cell_type": "code",
   "execution_count": 42,
   "metadata": {
    "collapsed": true,
    "deletable": true,
    "editable": true,
    "slideshow": {
     "slide_type": "fragment"
    }
   },
   "outputs": [],
   "source": [
    "from astropy.cosmology import LambdaCDM\n",
    "import astropy.units as u\n",
    "\n",
    "def d_L_astropy(z, H0, Om0, OmL):\n",
    "    cosmo = LambdaCDM(H0=H0, Om0=Om0, Ode0=OmL)\n",
    "    return cosmo.luminosity_distance(z=z) / u.Mpc"
   ]
  },
  {
   "cell_type": "code",
   "execution_count": 43,
   "metadata": {
    "collapsed": false,
    "deletable": true,
    "editable": true,
    "slideshow": {
     "slide_type": "fragment"
    }
   },
   "outputs": [
    {
     "name": "stdout",
     "output_type": "stream",
     "text": [
      "5872.294441005939 5872.294441005937\n"
     ]
    }
   ],
   "source": [
    "# check\n",
    "Om0 = 0.3; OmL = 0.0; H0 = 70.; z = 1.0 \n",
    "\n",
    "print(d_L_astropy(z,H0,Om0,OmL), d_L_simple(z,H0,Om0))"
   ]
  },
  {
   "cell_type": "code",
   "execution_count": 44,
   "metadata": {
    "collapsed": false,
    "deletable": true,
    "editable": true,
    "slideshow": {
     "slide_type": "slide"
    }
   },
   "outputs": [
    {
     "name": "stdout",
     "output_type": "stream",
     "text": [
      "438 µs ± 23.6 µs per loop (mean ± std. dev. of 7 runs, 1000 loops each)\n"
     ]
    }
   ],
   "source": [
    "nz = 1000\n",
    "z = np.linspace(0.,10.,nz)\n",
    "\n",
    "Om0 = 0.3; OmL = 0.7; H0 = 70.\n",
    "\n",
    "%timeit dummy = d_L_astropy(z,H0,Om0,OmL)"
   ]
  },
  {
   "cell_type": "markdown",
   "metadata": {
    "deletable": true,
    "editable": true,
    "slideshow": {
     "slide_type": "skip"
    }
   },
   "source": [
    "however, if you try to understand what numerical integration method astropy uses or with what accuracy it computes the distance, you would have trouble finding this basic information without spending some time and digging into astropy <a href=\"https://github.com/astropy/astropy/tree/master/astropy\">source code.</a> Even this will not give you an idea of what method it uses, you will only find references to a QUADPACK library. \n",
    "\n",
    "What if we want to check astropy result? We could find routine from another library, such as <a href=\"http://www.benediktdiemer.com/code/colossus/\">Colossus</a>, or construct our own routine using one of the SciPy's integration routines. We can also write our own numerical integration routine because 1) it is not that difficult, and 2) we can customize/tailor our routine and its inputs and outputs for our specific needs. "
   ]
  },
  {
   "cell_type": "markdown",
   "metadata": {
    "deletable": true,
    "editable": true,
    "slideshow": {
     "slide_type": "skip"
    }
   },
   "source": [
    "### What is integration?\n",
    "\n",
    "Numerical integration of a function, $f(x,\\ldots)$ over a single variable, $x$ (1d integration) over interval $[a,b]$:\n",
    "\n",
    "$$\\int\\limits_a^b f(x) dx,$$\n",
    "\n",
    "is evaluation of the area under $f(x)$, in which regions of $f(x)<0$ contribute negative areas and regions of $f(x)>0$ contribute positive areas. For example, $\\int_0^{2\\pi}\\cos x\\,dx = 0$. "
   ]
  },
  {
   "cell_type": "markdown",
   "metadata": {
    "deletable": true,
    "editable": true,
    "slideshow": {
     "slide_type": "skip"
    }
   },
   "source": [
    "If an integral has \"analytic expression\" or, as is often said, \"can be expressed in closed form,\" we can simply use such expression to evaluate it. \n",
    "\n",
    "For example, $\\int \\sin x\\,dx = -\\cos x + {\\rm const}$, and so \n",
    "\n",
    "$$\\int\\limits_0^{\\pi}\\sin x\\,dx = -\\cos\\pi +\\cos 0 = 1 + 1 =2.$$ "
   ]
  },
  {
   "cell_type": "markdown",
   "metadata": {
    "deletable": true,
    "editable": true
   },
   "source": [
    "We can explore integration routines in the <a href=\"https://docs.scipy.org/doc/scipy/reference/integrate.html\">scipy.integrate</a> library."
   ]
  },
  {
   "cell_type": "code",
   "execution_count": 67,
   "metadata": {
    "collapsed": false,
    "deletable": true,
    "editable": true,
    "slideshow": {
     "slide_type": "fragment"
    }
   },
   "outputs": [
    {
     "name": "stdout",
     "output_type": "stream",
     "text": [
      "2.5648942582957195e-16\n"
     ]
    }
   ],
   "source": [
    "# check using numerical integration\n",
    "from scipy.integrate import romberg\n",
    "\n",
    "print(romberg(np.sin, 0., 2.*np.pi))"
   ]
  },
  {
   "cell_type": "markdown",
   "metadata": {
    "deletable": true,
    "editable": true,
    "slideshow": {
     "slide_type": "slide"
    }
   },
   "source": [
    "### How can we evaluate integrals numerically?\n",
    "\n",
    "The simplest method - \"trapezoidal integration.\" Can be used to get reasonably accurate numerical integral estimate and easiest to remember. "
   ]
  },
  {
   "cell_type": "markdown",
   "metadata": {
    "deletable": true,
    "editable": true,
    "slideshow": {
     "slide_type": "fragment"
    }
   },
   "source": [
    "Specifically, to evaluate integral of $f(x)$ (area under $f(x)$ for $x\\in[a,b]$):\n",
    "\n",
    "Split the integration interval into $N$ equal-size sub-intervals of size $h=(b-a)/N=x_{i+1}-x_i$. For convenience, let's denote $f_i = f(x_i)$, $f_{i+1}=f(x_{i+1})$, etc."
   ]
  },
  {
   "cell_type": "markdown",
   "metadata": {
    "deletable": true,
    "editable": true,
    "slideshow": {
     "slide_type": "fragment"
    }
   },
   "source": [
    "Approximate area under $f(x)$ in each interval, $A_i$, can then be approximated by the area of the trapezoid formed by vertices $(x_i, 0)$, $(x_{i+1},0)$, $(x_i, f_i)$, $(x_{i+1}, f_{i+1})$, $T_i$:\n",
    "\n",
    "$$T_i = \\frac{1}{2}(f_i + f_{i+1})\\, h.$$"
   ]
  },
  {
   "cell_type": "markdown",
   "metadata": {
    "deletable": true,
    "editable": true,
    "slideshow": {
     "slide_type": "slide"
    }
   },
   "source": [
    "The total area under $f(x)$ in the interval $[a,b]$ is then:\n",
    "\n",
    "$$A = \\int\\limits_a^b f(x)\\, dx  \\sum\\limits_0^{N-1} A_i \\approx \\sum\\limits_0^{N-1} T_i \\frac{h}{2}\\sum\\limits_0^{N-1}(f_i + f_{i+1}),$$\n",
    "\n",
    "which can be recast as\n",
    "\n",
    "$$A \\approx \\frac{h}{2}(f_0 + f_{N-1}) + h\\sum\\limits_1^{N-2}(f_i),$$"
   ]
  },
  {
   "cell_type": "markdown",
   "metadata": {
    "deletable": true,
    "editable": true,
    "slideshow": {
     "slide_type": "skip"
    }
   },
   "source": [
    "Given that $h=(b-a)/N$, this expression can be thought of as $A\\approx \\bar{f} (b-a)$, where $\\bar{f}$ is the mean value of $f(x)$ over $[a,b]$. I.e., we are approximating the area under the curve by the area of rectangle of width $(b-a)$ and height equal to $\\bar{f}$. "
   ]
  },
  {
   "cell_type": "code",
   "execution_count": 26,
   "metadata": {
    "collapsed": true,
    "deletable": true,
    "editable": true,
    "slideshow": {
     "slide_type": "skip"
    }
   },
   "outputs": [],
   "source": [
    "import numpy as np\n",
    "\n",
    "def trapzd(func, a, b, Np):\n",
    "    \"\"\"\n",
    "    function implementing trapezoidal integration scheme using\n",
    "    numpy vector operations\n",
    "    \n",
    "    Parameters\n",
    "    -----------------------------------------------------------\n",
    "    func: python function object\n",
    "          function to integrate, must take numpy arrays as input\n",
    "    a, b: floats\n",
    "          limits of the integral\n",
    "    Np  : number of intervals to use in integration\n",
    "    \n",
    "    Returns\n",
    "    -------------------------------------------------------------\n",
    "    value of the estimated int^b_a f(x)dx\n",
    "    \"\"\"\n",
    "    \n",
    "    hd = (b-a)/Np; xd = a + np.arange(Np)*hd\n",
    "    return (0.5*(func(a) + func(b)) + np.sum(func(xd[1:]))) * hd\n"
   ]
  },
  {
   "cell_type": "markdown",
   "metadata": {
    "deletable": true,
    "editable": true,
    "slideshow": {
     "slide_type": "skip"
    }
   },
   "source": [
    "### Making \"publication quality\" plots\n",
    "\n",
    "What is publication quality? To get an idea we can look at a typical astronomical publication.\n",
    "\n",
    "Matplotlib allows for very detailed customization of plots. It may be tricky to find customization you want, but options in the routine below allow to control the main features of the plot. "
   ]
  },
  {
   "cell_type": "code",
   "execution_count": 26,
   "metadata": {
    "collapsed": true,
    "deletable": true,
    "editable": true,
    "slideshow": {
     "slide_type": "slide"
    }
   },
   "outputs": [],
   "source": [
    "def plot_pretty(dpi=175,fontsize=9):\n",
    "    # set some parameters to make plots prettier\n",
    "    plt.rc(\"savefig\", dpi=dpi)\n",
    "    plt.rc(\"figure\", dpi=dpi)\n",
    "    plt.rc('font', size=fontsize)\n",
    "    plt.rc('xtick', direction='in') \n",
    "    plt.rc('ytick', direction='in')\n",
    "    plt.rc('xtick.major', pad=5) \n",
    "    plt.rc('xtick.minor', pad=5)\n",
    "    plt.rc('ytick.major', pad=5) \n",
    "    plt.rc('ytick.minor', pad=5)\n",
    "    plt.rc('lines', dotted_pattern = [0.5, 1.1])\n",
    "\n",
    "    return\n",
    "\n",
    "plot_pretty(dpi=250, fontsize=12)"
   ]
  },
  {
   "cell_type": "markdown",
   "metadata": {
    "deletable": true,
    "editable": true,
    "slideshow": {
     "slide_type": "skip"
    }
   },
   "source": [
    "### LaTeX\n",
    "\n",
    "Although not strictly required, I highly recommend installing <a href=\"https://www.latex-project.org/get/\">a LaTeX distribution</a> on your laptop (see <a href=\"https://matplotlib.org/3.1.1/tutorials/text/usetex.html\">here</a> for information for how to use LaTeX with matplotlib. I use LaTeX commands to format plot labels in matplotlib and we can use LaTeX fonts for axis labels. "
   ]
  },
  {
   "cell_type": "code",
   "execution_count": 22,
   "metadata": {
    "collapsed": true,
    "deletable": true,
    "editable": true,
    "slideshow": {
     "slide_type": "fragment"
    }
   },
   "outputs": [],
   "source": [
    "# option to use LaTeX with matplotlib\n",
    "plt.rc('text', usetex=True)\n"
   ]
  },
  {
   "cell_type": "code",
   "execution_count": 46,
   "metadata": {
    "collapsed": false,
    "deletable": true,
    "editable": true,
    "slideshow": {
     "slide_type": "slide"
    }
   },
   "outputs": [
    {
     "name": "stderr",
     "output_type": "stream",
     "text": [
      "C:\\Users\\h2_sf\\Anaconda3\\lib\\site-packages\\astropy\\units\\quantity.py:461: RuntimeWarning: divide by zero encountered in log10\n",
      "  result = super().__array_ufunc__(function, method, *arrays, **kwargs)\n"
     ]
    },
    {
     "data": {
      "image/png": "[encoded data removed]",
      "text/plain": [
       "<Figure size 432x432 with 1 Axes>"
      ]
     },
     "metadata": {
      "needs_background": "light"
     },
     "output_type": "display_data"
    }
   ],
   "source": [
    "dummy = d_L_astropy(z,H0,Om0,OmL)\n",
    "\n",
    "plot_line(z, np.log10(np.abs(dL-dummy)), xlabel=r'$z$', ylabel=r'$d_L\\ \\rm (Mpc)$', figsize=6)"
   ]
  },
  {
   "cell_type": "markdown",
   "metadata": {
    "slideshow": {
     "slide_type": "slide"
    }
   },
   "source": [
    "Is this plot publication quality?"
   ]
  },
  {
   "cell_type": "markdown",
   "metadata": {
    "deletable": true,
    "editable": true,
    "slideshow": {
     "slide_type": "slide"
    }
   },
   "source": [
    "## By the end of the first week. \n",
    "\n",
    "* Install full Anaconda Python 3.7 distribution following <a href=\"http://docs.anaconda.com/anaconda/install/\">installation instructions</a> for your OS on your laptop. \n",
    "\n",
    "* download the Jupyter notebook with these notes from the <a href=\"\">course GitHub repository</a> (notebook 01_*.ipynb)\n",
    "\n",
    "* Run Jupyter notebook server <tt>jupyter notebook</tt> and access the l01_approximation.ipynb notebook. Make sure you can run it.  \n",
    "\n",
    "* Get account on <a href=\"http://slack.com\">Slack</a>, if you don't have one, and email me your user name to be added for access to <a href=\"https://a211w20.slack.com\">Slack workspace</a> for this course.\n"
   ]
  }
 ],
 "metadata": {
  "celltoolbar": "Slideshow",
  "kernelspec": {
   "display_name": "Python 3",
   "language": "python",
   "name": "python3"
  },
  "language_info": {
   "codemirror_mode": {
    "name": "ipython",
    "version": 3
   },
   "file_extension": ".py",
   "mimetype": "text/x-python",
   "name": "python",
   "nbconvert_exporter": "python",
   "pygments_lexer": "ipython3",
   "version": "3.6.0"
  }
 },
 "nbformat": 4,
 "nbformat_minor": 2
}
