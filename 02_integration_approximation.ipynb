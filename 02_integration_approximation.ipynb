{
 "cells": [
  {
   "cell_type": "markdown",
   "metadata": {
    "slideshow": {
     "slide_type": "slide"
    }
   },
   "source": [
    "# ASTR 21100 \n",
    "\n",
    "# *\"Computational Techniques in Astrophysics\"*\n",
    "\n",
    "## Instructor: Andrey Kravtsov\n",
    "\n",
    "### office: ERC 415; email: kravtsov@uchicago.edu\n",
    "### office hours: Tue, 10:30am-noon (unless noted otherwise)\n",
    "\n",
    "### Teaching Assistants: \n",
    "### Dimitrios Tanoglidis (dtanoglidis@uchicaago.edu)\n",
    "### Georgios Zakharegkas (gzakharegkas@uchicago.edu)"
   ]
  },
  {
   "cell_type": "markdown",
   "metadata": {
    "slideshow": {
     "slide_type": "slide"
    }
   },
   "source": [
    "### What we have been talking about so far: \n",
    "\n",
    "* computation of distances to distant objects in astronomy\n",
    "* Taylor expansion of functions and truncation errors\n",
    "* Roundoff errors\n",
    "* numerical integration using trapezoidal scheme to compute distances in general cosmological models    "
   ]
  },
  {
   "cell_type": "markdown",
   "metadata": {
    "slideshow": {
     "slide_type": "slide"
    }
   },
   "source": [
    "### Today: \n",
    "\n",
    "* numerical integration using trapezoidal scheme to compute distances in general cosmological models    \n",
    "* errors associated with the trapezoidal scheme\n",
    "* computational performance of the scheme\n",
    "* plotting results using a good style to produce \"publication quality\" plots\n",
    "* using distances computed with the trapezoidal scheme to compute model distance modulus and compare to data\n",
    "* Romberg integration scheme\n",
    "* approximation of functions using polynomial expansion (if there will be time left)"
   ]
  },
  {
   "cell_type": "markdown",
   "metadata": {
    "slideshow": {
     "slide_type": "skip"
    }
   },
   "source": [
    "Routine implementing trapezoidal integration is below. This is how it should actually be written in good style. "
   ]
  },
  {
   "cell_type": "code",
   "execution_count": 1,
   "metadata": {
    "slideshow": {
     "slide_type": "skip"
    }
   },
   "outputs": [],
   "source": [
    "import numpy as np"
   ]
  },
  {
   "cell_type": "code",
   "execution_count": 2,
   "metadata": {
    "slideshow": {
     "slide_type": "slide"
    }
   },
   "outputs": [],
   "source": [
    "def trapzd(func, a, b, hstep):\n",
    "    \"\"\"\n",
    "    function implementing trapezoidal integration scheme using\n",
    "    numpy vector operations\n",
    "    \n",
    "    Parameters:\n",
    "    -----------------------------------------------------------\n",
    "    func: python function object\n",
    "          function to integrate, must take numpy arrays as input\n",
    "    a, b: floats\n",
    "          limits of the integral\n",
    "    hstep: float - the size of step to use \n",
    "    \n",
    "    Returns:\n",
    "    -------------------------------------------------------------\n",
    "    value of the estimated int^b_a f(x)dx\n",
    "    \"\"\"\n",
    "    bma = np.abs(b-a)\n",
    "    \n",
    "    # check if the input is reasonable and if hstep divides interval into integer # of sub-intervals\n",
    "    nstep = bma / hstep\n",
    "    if hstep > bma or hstep <= 0.0 or (not nstep.is_integer()):\n",
    "        raise ValueError(\"hstep step error: hstep = %.3g; |b-a| = %.3g\"%(hstep, np.abs(b-a)))\n",
    "      \n",
    "    if int(nstep) == 1:\n",
    "        return 0.5*(func(a) + func(b)) * hstep\n",
    "    else: \n",
    "        xd = a + np.arange(nstep) * hstep # np.arange creates a vector of values from 0 to nstep-1\n",
    "        return (0.5*(func(a) + func(b)) + np.sum(func(xd[1:]))) * hstep\n"
   ]
  },
  {
   "cell_type": "markdown",
   "metadata": {
    "slideshow": {
     "slide_type": "skip"
    }
   },
   "source": [
    "This version will actually be shown in class to make it shorter and more easily displayed and digested."
   ]
  },
  {
   "cell_type": "code",
   "execution_count": 3,
   "metadata": {
    "slideshow": {
     "slide_type": "slide"
    }
   },
   "outputs": [],
   "source": [
    "def trapzd(func, a, b, hstep):\n",
    "    bma = np.abs(b-a)\n",
    "            \n",
    "    nstep = np.int(bma / hstep) \n",
    "    if nstep == 1:\n",
    "        return 0.5*(func(a) + func(b)) * hstep\n",
    "    else: \n",
    "        xd = a + np.arange(nstep) * hstep # np.arange creates a vector of values from 0 to nstep-1\n",
    "        return (0.5*(func(a) + func(b)) + np.sum(func(xd[1:]))) * hstep\n"
   ]
  },
  {
   "cell_type": "markdown",
   "metadata": {
    "slideshow": {
     "slide_type": "slide"
    }
   },
   "source": [
    "define a \"helper\" function that integrates function <tt>func</tt> using integration routine <tt>int_func</tt> over interval $[a,b]$ for <tt>ns</tt> different step sizes. "
   ]
  },
  {
   "cell_type": "code",
   "execution_count": 4,
   "metadata": {
    "slideshow": {
     "slide_type": "fragment"
    }
   },
   "outputs": [],
   "source": [
    "def compute_integral(func, int_func, a, b, ns):\n",
    "    nsteps = np.arange(ns) # generate a vector of nstep values from 0 to ns-1\n",
    "    trint = np.zeros(np.shape(nsteps)[0]) # initialize a vector for integration results for each step size\n",
    "\n",
    "    bma = b - a\n",
    "    hsteps = bma / np.power(2., nsteps) # compute vector of corresponding step sizes\n",
    "    for i, ns in enumerate(nsteps):\n",
    "        trint[i] = int_func(func, a, b, hsteps[i]) # compute the integral for each step size\n",
    "     \n",
    "    return trint, hsteps # return vectors of integration results and step sizes"
   ]
  },
  {
   "cell_type": "code",
   "execution_count": 5,
   "metadata": {
    "slideshow": {
     "slide_type": "slide"
    }
   },
   "outputs": [],
   "source": [
    "# integrate sin(x) from a, b - exact integral = cos(a) - cos(b)\n",
    "a = 0.; b = np.pi\n",
    "ns = 30\n",
    "\n",
    "trint, hsteps = compute_integral(np.sin, trapzd, a, b, ns)\n",
    "\n",
    "fexact = np.cos(a) - np.cos(b)\n",
    "ferr = np.abs(trint/fexact - 1.)"
   ]
  },
  {
   "cell_type": "code",
   "execution_count": 6,
   "metadata": {
    "slideshow": {
     "slide_type": "fragment"
    }
   },
   "outputs": [
    {
     "name": "stdout",
     "output_type": "stream",
     "text": [
      "[1.00000000e+00 2.14601837e-01 5.19405510e-02 1.28841990e-02\n",
      " 3.21482811e-03 8.03319515e-04 2.00805680e-04 5.01999079e-05\n",
      " 1.25498825e-05 3.13746471e-06 7.84365809e-07 1.96091429e-07\n",
      " 4.90228559e-08 1.22557140e-08 3.06392833e-09 7.65982167e-10\n",
      " 1.91495597e-10 4.78739270e-11 1.19686483e-11 2.99238412e-12\n",
      " 7.47957252e-13 1.87627691e-13 4.68514116e-14 1.23234756e-14\n",
      " 2.44249065e-15 6.66133815e-16 1.77635684e-15 4.88498131e-15\n",
      " 6.10622664e-15 3.33066907e-16]\n"
     ]
    }
   ],
   "source": [
    "print(ferr)"
   ]
  },
  {
   "cell_type": "markdown",
   "metadata": {
    "slideshow": {
     "slide_type": "skip"
    }
   },
   "source": [
    "As before, we are using <tt>%matplotlib inline</tt> command to tell matplotlib to produce images for the plot and embed them into the notebook. An alternative that adds interactive widgets to the plot is <tt>%matplotlib notebook</tt>.\n",
    "\n",
    "Other most useful magic commands are described <a href=\"https://towardsdatascience.com/the-top-5-magic-commands-for-jupyter-notebooks-2bf0c5ae4bb8\">here</a>, and a comprehensive list of such commands can be found <a href=\"https://www.dummies.com/programming/python/common-jupyter-notebook-magic-functions/\">here</a>.\n",
    "    "
   ]
  },
  {
   "cell_type": "code",
   "execution_count": 7,
   "metadata": {
    "slideshow": {
     "slide_type": "skip"
    }
   },
   "outputs": [],
   "source": [
    "# use jupyter \"magic\" command to tell it to embed plot into the notebook \n",
    "import matplotlib.pyplot as plt\n",
    "%matplotlib inline"
   ]
  },
  {
   "cell_type": "markdown",
   "metadata": {
    "slideshow": {
     "slide_type": "slide"
    }
   },
   "source": [
    "Another helper routine for generic plots that include a line and (optionally) a set of points."
   ]
  },
  {
   "cell_type": "code",
   "execution_count": 75,
   "metadata": {
    "slideshow": {
     "slide_type": "-"
    }
   },
   "outputs": [],
   "source": [
    "def plot_line_points(x, y, figsize=6, xlabel=' ', ylabel=' ', col= 'darkslateblue', \n",
    "                     xp = None, yp = None, points = False, pmarker='.', pcol='slateblue',\n",
    "                     legend=None, plegend = None, legendloc='lower right', \n",
    "                     plot_title = None, grid=None, figsave = None):\n",
    "    plt.figure(figsize=(figsize,figsize))\n",
    "    plt.xlabel(xlabel); plt.ylabel(ylabel)\n",
    "    # Initialize minor ticks\n",
    "    plt.minorticks_on()\n",
    "\n",
    "    if legend:\n",
    "        plt.plot(x, y, lw = 1., c=col, label = legend)\n",
    "        if points: \n",
    "            if plegend:\n",
    "                plt.scatter(xp, yp, marker=pmarker, lw = 2., c=pcol, label=plegend)\n",
    "            else:\n",
    "                plt.scatter(xp, yp, marker=pmarker, lw = 2., c=pcol)\n",
    "        plt.legend(frameon=False, loc=legendloc, fontsize=3.*figsize)\n",
    "    else:\n",
    "        plt.plot(x, y, lw = 1., c=col)\n",
    "        if points:\n",
    "            plt.scatter(xp, yp, marker=pmarker, lw = 2., c=pcol)\n",
    "\n",
    "    if plot_title:\n",
    "        plt.title(plot_title, fontsize=3.*figsize)\n",
    "        \n",
    "    if grid: \n",
    "        plt.grid(linestyle='dotted', lw=0.5, color='lightgray')\n",
    "        \n",
    "    if figsave:\n",
    "        plt.savefig(figsave, bbox_inches='tight')\n",
    "\n",
    "    plt.show()\n",
    "    "
   ]
  },
  {
   "cell_type": "code",
   "execution_count": 9,
   "metadata": {
    "slideshow": {
     "slide_type": "slide"
    }
   },
   "outputs": [
    {
     "data": {
      "image/png": "[encoded data removed]",
      "text/plain": [
       "<Figure size 288x288 with 1 Axes>"
      ]
     },
     "metadata": {
      "needs_background": "light"
     },
     "output_type": "display_data"
    }
   ],
   "source": [
    "plot_line_points(np.log10(hsteps), np.log10(ferr), xlabel=r'$\\log_{10} h$', ylabel=r'log10(frac. error)', figsize=4)"
   ]
  },
  {
   "cell_type": "code",
   "execution_count": 10,
   "metadata": {
    "slideshow": {
     "slide_type": "slide"
    }
   },
   "outputs": [
    {
     "data": {
      "image/png": "[encoded data removed]",
      "text/plain": [
       "<Figure size 288x288 with 1 Axes>"
      ]
     },
     "metadata": {
      "needs_background": "light"
     },
     "output_type": "display_data"
    }
   ],
   "source": [
    "#model is ferr ~ h^2, we normalize it to the size of error for first step size in the sequence:\n",
    "ferr_model = ferr[1] * (hsteps/hsteps[1])**2\n",
    "\n",
    "plot_line_points(np.log10(hsteps), np.log10(ferr_model), \n",
    "                 xp=np.log10(hsteps), yp=np.log10(ferr), points=True, figsize=4)"
   ]
  },
  {
   "cell_type": "code",
   "execution_count": 67,
   "metadata": {
    "slideshow": {
     "slide_type": "slide"
    }
   },
   "outputs": [],
   "source": [
    "def plot_pretty(dpi=175,fontsize=9):\n",
    "    # import pyplot and set some parameters to make plots prettier\n",
    "    plt.rc(\"savefig\", dpi=dpi)\n",
    "    plt.rc(\"figure\", dpi=dpi)\n",
    "    plt.rc('font', size=fontsize)\n",
    "    plt.rc('xtick', direction='in') \n",
    "    plt.rc('ytick', direction='in')\n",
    "    plt.rc('xtick.major', pad=5) \n",
    "    plt.rc('xtick.minor', pad=5)\n",
    "    plt.rc('ytick.major', pad=5) \n",
    "    plt.rc('ytick.minor', pad=5)\n",
    "    plt.rc('lines', dotted_pattern = [2., 2.])\n",
    "    #if you don't have LaTeX installed on your laptop and this statement \n",
    "    # generates error, comment it out\n",
    "    plt.rc('text', usetex=True)\n",
    "\n",
    "    return\n",
    "\n",
    "plot_pretty(fontsize=12)"
   ]
  },
  {
   "cell_type": "code",
   "execution_count": 61,
   "metadata": {},
   "outputs": [],
   "source": [
    "plot_pretty(fontsize=12)"
   ]
  },
  {
   "cell_type": "code",
   "execution_count": 68,
   "metadata": {
    "slideshow": {
     "slide_type": "slide"
    }
   },
   "outputs": [
    {
     "data": {
      "image/png": "[encoded data removed]",
      "text/plain": [
       "<Figure size 525x525 with 1 Axes>"
      ]
     },
     "metadata": {
      "needs_background": "light"
     },
     "output_type": "display_data"
    }
   ],
   "source": [
    "#model is ferr ~ h^2, we normalize it to the size of error for first step size in the sequence:\n",
    "ferr_model = ferr[0] * (hsteps/hsteps[0])**2\n",
    "\n",
    "plot_line_points(np.log10(hsteps), np.log10(ferr_model), \n",
    "                 xlabel=r'$\\log_{10}\\,h$', ylabel = r'$\\log_{10}\\,\\vert\\rm fractional\\ error\\vert$',\n",
    "                 xp=np.log10(hsteps), yp=np.log10(ferr), points=True, grid=True, figsize=3)"
   ]
  },
  {
   "cell_type": "markdown",
   "metadata": {
    "slideshow": {
     "slide_type": "slide"
    }
   },
   "source": [
    "### The origin of the \"floor\" in the fractional error at $\\approx 10^{-16}$"
   ]
  },
  {
   "cell_type": "markdown",
   "metadata": {
    "slideshow": {
     "slide_type": "fragment"
    }
   },
   "source": [
    "This is because <a href=\"https://en.wikipedia.org/wiki/Double-precision_floating-point_format\">a finite number of bits</a> (64) is used to represent floating point numbers in the <a href=\"https://en.wikipedia.org/wiki/IEEE_754-2008_revision\">IEEE-754</a> standard used in Python and other languages:\n",
    "\n",
    "<img src=\"img/IEEE_754_Double_Floating_Point_Format.svg\"></img>\n",
    "\n"
   ]
  },
  {
   "cell_type": "markdown",
   "metadata": {
    "slideshow": {
     "slide_type": "slide"
    }
   },
   "source": [
    "The spacing between floating numbers around a floating number $x$ will be $\\approx 2\\varepsilon\\vert x\\vert\\approx 2.2\\times 10^{-16}\\vert x\\vert$. \n",
    "\n",
    "*Some floating point numbers can be represented exactly (if they need $\\leq 52$ bits to represent their fraction), while many other need to be* **rounded off.** \n",
    "\n",
    "Calculations with numbers that can be represented exactly are more accurate, but rounded off numbers are generic and cannot be avoided. \n",
    "\n",
    "This limited representable difference is the source of **roundoff errors** in numerical calculations"
   ]
  },
  {
   "cell_type": "code",
   "execution_count": 89,
   "metadata": {
    "slideshow": {
     "slide_type": "fragment"
    }
   },
   "outputs": [
    {
     "name": "stdout",
     "output_type": "stream",
     "text": [
      "52 1.1102230246251565e-16\n",
      "1.0\n"
     ]
    }
   ],
   "source": [
    "eps = 1.0 \n",
    "i = -1 # start at -1 so first iteration will correspond to i=0\n",
    "\n",
    "while 1.0 + eps != 1.0:\n",
    "    eps = eps / 2\n",
    "    i = i + 1\n",
    "\n",
    "print(i, eps)\n",
    "print(1.+eps)"
   ]
  },
  {
   "cell_type": "code",
   "execution_count": 90,
   "metadata": {
    "slideshow": {
     "slide_type": "slide"
    }
   },
   "outputs": [],
   "source": [
    "# however... I have two floating point numbers like this. Can we get their difference?\n",
    "a = 1.1e-16; b = 1.05e-16"
   ]
  },
  {
   "cell_type": "code",
   "execution_count": 91,
   "metadata": {
    "slideshow": {
     "slide_type": "-"
    }
   },
   "outputs": [
    {
     "name": "stdout",
     "output_type": "stream",
     "text": [
      "4.999999999999995e-18\n"
     ]
    }
   ],
   "source": [
    "print(a-b)"
   ]
  },
  {
   "cell_type": "markdown",
   "metadata": {
    "slideshow": {
     "slide_type": "skip"
    }
   },
   "source": [
    "Python represents numbers using the <a href=\"https://en.wikipedia.org/wiki/IEEE_754-2008_revision\">IEEE-754</a> standard. Additional information about the floating point representation can be found <a href=\"https://floating-point-gui.de/formats/fp/\">here</a>. For an in-depth description of the standard for floating point number representation see this <a href=\"https://en.wikipedia.org/wiki/Double-precision_floating-point_format\">paper.</a>"
   ]
  },
  {
   "cell_type": "markdown",
   "metadata": {
    "slideshow": {
     "slide_type": "slide"
    }
   },
   "source": [
    "We can get all of the information about this representation in python as follows "
   ]
  },
  {
   "cell_type": "code",
   "execution_count": 54,
   "metadata": {
    "slideshow": {
     "slide_type": "-"
    }
   },
   "outputs": [
    {
     "name": "stdout",
     "output_type": "stream",
     "text": [
      "sys.float_info(max=1.7976931348623157e+308, max_exp=1024, max_10_exp=308, min=2.2250738585072014e-308, min_exp=-1021, min_10_exp=-307, dig=15, mant_dig=53, epsilon=2.220446049250313e-16, radix=2, rounds=1)\n"
     ]
    }
   ],
   "source": [
    "import sys\n",
    "print(sys.float_info)"
   ]
  },
  {
   "cell_type": "markdown",
   "metadata": {
    "slideshow": {
     "slide_type": "skip"
    }
   },
   "source": [
    "What does this all mean?  The first number shows the largest number that could be represented by the python float. It is defined by the number of bits used to represent the float: 64 on a 64-bit system (often considered as \"double precision\"). Of these 64 bits, one bit is reserved for sign, 11 bits are reserved for the exponent, and 52 bits for the *mantissa*."
   ]
  },
  {
   "cell_type": "code",
   "execution_count": 92,
   "metadata": {
    "slideshow": {
     "slide_type": "fragment"
    }
   },
   "outputs": [
    {
     "name": "stdout",
     "output_type": "stream",
     "text": [
      "1074 0.0\n"
     ]
    }
   ],
   "source": [
    "eps = 1.0\n",
    "i = -1\n",
    "while eps != 0.:\n",
    "    eps = eps / 2\n",
    "    i = i + 1\n",
    "print(i, eps)"
   ]
  },
  {
   "cell_type": "markdown",
   "metadata": {
    "slideshow": {
     "slide_type": "slide"
    }
   },
   "source": [
    "### Why does the fractional error of the trapezoidal integration scale as $\\propto h^2$?"
   ]
  },
  {
   "cell_type": "markdown",
   "metadata": {
    "slideshow": {
     "slide_type": "subslide"
    }
   },
   "source": [
    "Before we discuss the answer to this question, let's first consider a couple of experiments, results of which are quite striking and may seem puzzling. "
   ]
  },
  {
   "cell_type": "code",
   "execution_count": 94,
   "metadata": {
    "slideshow": {
     "slide_type": "slide"
    }
   },
   "outputs": [],
   "source": [
    "def sin_plus_1(x):\n",
    "    return np.sin(x) + 1.0"
   ]
  },
  {
   "cell_type": "code",
   "execution_count": 95,
   "metadata": {
    "slideshow": {
     "slide_type": "fragment"
    }
   },
   "outputs": [],
   "source": [
    "# first, let's redo the integral of sin(x), but with a different \n",
    "a = 0.; b = 2.*np.pi \n",
    "ns = 5\n",
    "\n",
    "trint, hsteps = compute_integral(sin_plus_1, trapzd, a, b, ns)\n",
    "\n",
    "fexact = b - a - np.cos(b) + np.cos(a)\n",
    "ferr = np.abs(trint/fexact - 1.)"
   ]
  },
  {
   "cell_type": "code",
   "execution_count": 27,
   "metadata": {
    "slideshow": {
     "slide_type": "fragment"
    }
   },
   "outputs": [
    {
     "name": "stdout",
     "output_type": "stream",
     "text": [
      "6.283185307179586 [6.28318531 6.28318531 6.28318531 6.28318531 6.28318531]\n",
      "[1.11022302e-16 0.00000000e+00 0.00000000e+00 0.00000000e+00\n",
      " 0.00000000e+00]\n"
     ]
    }
   ],
   "source": [
    "print(fexact, trint)\n",
    "print(ferr)"
   ]
  },
  {
   "cell_type": "markdown",
   "metadata": {
    "slideshow": {
     "slide_type": "skip"
    }
   },
   "source": [
    "Trapezoidal routine returns answer *accurate to machine precision* for *all* values of step size!\n",
    "\n",
    "Then consider the following integration routine that does trapezoidal integration with two steps $h$ and $h/2$ and combines results in a specific way..."
   ]
  },
  {
   "cell_type": "code",
   "execution_count": 28,
   "metadata": {
    "slideshow": {
     "slide_type": "slide"
    }
   },
   "outputs": [],
   "source": [
    "def trapzd2(func, a, b, hstep):\n",
    "    return (4.*trapzd(func, a, b, 0.5*hstep) - trapzd(func, a, b, hstep)) / 3."
   ]
  },
  {
   "cell_type": "code",
   "execution_count": 29,
   "metadata": {
    "slideshow": {
     "slide_type": "fragment"
    }
   },
   "outputs": [
    {
     "name": "stdout",
     "output_type": "stream",
     "text": [
      "1.718281828459045\n"
     ]
    }
   ],
   "source": [
    "# integrate e^x from a, b - exact integral = e^b - e^a\n",
    "a = 0; b = 1\n",
    "ns = 20\n",
    "\n",
    "fexact = np.exp(b) - np.exp(a)\n",
    "print(fexact)\n",
    "trint, hsteps = compute_integral(np.exp, trapzd2, a, b, ns)\n",
    "\n",
    "ferr = np.abs(trint/fexact - 1.)"
   ]
  },
  {
   "cell_type": "code",
   "execution_count": 78,
   "metadata": {
    "slideshow": {
     "slide_type": "slide"
    }
   },
   "outputs": [
    {
     "data": {
      "image/png": "[encoded data removed]",
      "text/plain": [
       "<Figure size 525x525 with 1 Axes>"
      ]
     },
     "metadata": {
      "needs_background": "light"
     },
     "output_type": "display_data"
    }
   ],
   "source": [
    "#model is ferr ~ h^n, we normalize it to the size of error for first step size in the sequence:\n",
    "ferr_model = ferr[0] * (hsteps/hsteps[0])**4\n",
    "\n",
    "plot_line_points(np.log10(hsteps), np.log10(ferr_model), \n",
    "                 xlabel=r'$\\log_{10}\\,\\rm step\\ size$', ylabel = r'$\\log_{10}\\vert\\rm fractional\\ error\\vert$',\n",
    "                 xp=np.log10(hsteps), yp=np.log10(ferr), points=True, \n",
    "                 legend=r'${\\rm scaling} \\propto h^4$', plegend = r'$\\rm measured\\ error$',\n",
    "                 legendloc = 'lower right', \n",
    "                 plot_title=r'$R_1\\ \\rm frac.\\ error\\ scaling\\ with\\ step\\ size$',\n",
    "                 grid=True, figsize=3)"
   ]
  },
  {
   "cell_type": "code",
   "execution_count": 79,
   "metadata": {
    "slideshow": {
     "slide_type": "slide"
    }
   },
   "outputs": [],
   "source": [
    "def trapzd3(func, a, b, hstep):\n",
    "    return (16.*trapzd2(func, a, b, 0.5*hstep) - trapzd2(func, a, b, hstep)) / 15.0"
   ]
  },
  {
   "cell_type": "code",
   "execution_count": 80,
   "metadata": {},
   "outputs": [],
   "source": [
    "ns = 12\n",
    "\n",
    "trint, hsteps = compute_integral(np.exp, trapzd3, a, b, ns)\n",
    "\n",
    "ferr3 = np.abs(trint/fexact - 1.)\n"
   ]
  },
  {
   "cell_type": "code",
   "execution_count": 82,
   "metadata": {},
   "outputs": [
    {
     "name": "stderr",
     "output_type": "stream",
     "text": [
      "C:\\Users\\h2_sf\\Anaconda3\\lib\\site-packages\\ipykernel_launcher.py:7: RuntimeWarning: divide by zero encountered in log10\n",
      "  import sys\n"
     ]
    },
    {
     "data": {
      "image/png": "[encoded data removed]",
      "text/plain": [
       "<Figure size 525x525 with 1 Axes>"
      ]
     },
     "metadata": {
      "needs_background": "light"
     },
     "output_type": "display_data"
    }
   ],
   "source": [
    "#model is ferr ~ h^2, we normalize it to the size of error for first step size in the sequence:\n",
    "n = 6\n",
    "ferr_model = ferr3[0] * (hsteps/hsteps[0])**n\n",
    "\n",
    "plot_line_points(np.log10(hsteps), np.log10(ferr_model), \n",
    "                 xlabel=r'$\\log_{10}\\,h$', ylabel = r'$\\vert\\rm fractional\\ error\\vert$',\n",
    "                 xp=np.log10(hsteps), yp=np.log10(ferr3), points=True,\n",
    "                 legend=r'${\\rm scaling} \\propto h^%d$'%n, plegend = r'$\\rm measured\\ error$',\n",
    "                 legendloc = 'lower right', \n",
    "                 plot_title=r'$R_2\\ \\rm frac.\\ error\\ scaling\\ with\\ step\\ size$',\n",
    "                 grid=True, figsize=3)"
   ]
  },
  {
   "cell_type": "markdown",
   "metadata": {
    "slideshow": {
     "slide_type": "slide"
    }
   },
   "source": [
    "### Truncation error of the trapezoidal scheme"
   ]
  },
  {
   "cell_type": "markdown",
   "metadata": {
    "slideshow": {
     "slide_type": "fragment"
    }
   },
   "source": [
    "Recall the Taylor expansion of a function  $f(x)$ arond $x_0$:\n",
    "$$f(x) = \\sum\\limits^\\infty_{n=0} \\frac{f^{(n)}(x_0)(x-x_0)^n}{n!}=f(x_0)+f^\\prime(x_0)\\,(x-x_0)+\\frac{1}{2}f^{\\prime\\prime}(x_0)\\,(x-x_0)^2 + \\frac{1}{6}f^{\\prime\\prime\\prime}(x_0)\\,(x-x_0)^3+ \\mathcal{O}[(x-x_0)^4].$$\n",
    "\n",
    "The term $\\mathcal{O}[(x-x_0)^4]$ is the standard shorthand for \"and terms of order 4 and higher.\" If we neglect terms above certain order, we are no longer guaranteed to represent $f(x)$ exactly."
   ]
  },
  {
   "cell_type": "markdown",
   "metadata": {
    "slideshow": {
     "slide_type": "slide"
    }
   },
   "source": [
    "It is possible to use the Taylor expansion to formally derive the trapezoidal integration scheme along with all of its *truncation error terms*. "
   ]
  },
  {
   "cell_type": "markdown",
   "metadata": {
    "slideshow": {
     "slide_type": "skip"
    }
   },
   "source": [
    "The derivation is not too difficult to follow, but it is long and is somewhat tedious. It gives the <a href=\"https://en.wikipedia.org/wiki/Euler%E2%80%93Maclaurin_formula#Approximation_of_integrals\">Euler-Maclaurin formula</a>."
   ]
  },
  {
   "cell_type": "markdown",
   "metadata": {
    "slideshow": {
     "slide_type": "fragment"
    }
   },
   "source": [
    "Denoting step size $h=x_{i+1}-x_i$, $x_i=a+ih$, and $f_i=f(x_i)$, $f_{i+1}=f(x_{i+1})$ etc., this formal derivation shows that integral over sub-interval $[x_i,x_{i+1}]$ is\n",
    "\n",
    "$$\n",
    "A_i =\\int\\limits_{x_i}^{x_{i+1}}f(x)dx = \\frac{h}{2}\\left[f_i+f_{i+1}\\right] + \\frac{h^2}{12}\\,\\left[f^{\\prime}_i-f^{\\prime}_{i+1}\\right] -  \\frac{h^4}{720}\\,\\left[f^{\\prime\\prime\\prime}_i-f^{\\prime\\prime\\prime}_{i+1}\\right]+\\mathcal{O}(h^6). \n",
    "$$\n",
    "\n",
    "Note that the first term corresponds to the evaluation of area in sub-interval using the area of trapezoid, while the rest of the terms contain *only even powers of $h$*."
   ]
  },
  {
   "cell_type": "markdown",
   "metadata": {
    "slideshow": {
     "slide_type": "slide"
    }
   },
   "source": [
    "### Truncation error of the composite trapezoidal integration \n",
    "\n",
    "If we now combine the individual areas into total integral (note that $f_0=f(a)$, $f_N=f(b)$, etc.:\n",
    "\n",
    "$$A = \\int\\limits_a^b f(x)dx = \\sum\\limits_{i=0}^{N-1} A_i = \\frac{h}{2}\\left[f(a)+f(b)\\right] + h\\sum\\limits_{i=1}^{N-1}f_i + \\frac{h^2}{12}\\,\\left[f^{\\prime}(a)-f^{\\prime}(b)\\right] -  \\frac{h^4}{720}\\,\\left[f^{\\prime\\prime\\prime}(a)-f^{\\prime\\prime\\prime}(b)\\right]+\\mathcal{O}(h^6).\n",
    "$$\n",
    "\n",
    "or $A = T(h) +{\\rm truncation\\ error\\ terms\\ of\\ the\\ trapezoidal\\ scheme}$. "
   ]
  },
  {
   "cell_type": "markdown",
   "metadata": {
    "slideshow": {
     "slide_type": "slide"
    }
   },
   "source": [
    "Thus, the error of the trapezoidal scheme is\n",
    "\n",
    "\\begin{eqnarray}\n",
    "\\epsilon = T(h)-A &=& \\frac{h^2}{12}\\,\\left[f^{\\prime}(a)-f^{\\prime}(b)\\right] -  \\frac{h^4}{720}\\,\\left[f^{\\prime\\prime\\prime}(a)-f^{\\prime\\prime\\prime}(b)\\right]+\\mathcal{O}(h^6)\\\\\n",
    "&=&e_1h^2 + e_2h^4 + \\mathcal{O}(h^6+\\ldots +\\mathrm{only\\ even\\ powers\\ of\\ } h).\n",
    "\\end{eqnarray}"
   ]
  },
  {
   "cell_type": "markdown",
   "metadata": {
    "slideshow": {
     "slide_type": "fragment"
    }
   },
   "source": [
    "* Note that if the function derivatives of odd orders are equal at the ends of the integration interval: $f^{\\prime}(a)=f^{\\prime}(b)$, $f^{\\prime\\prime\\prime}(a)=f^{\\prime\\prime\\prime}(b)$ etc., the truncation error is zero! This explains one of the puzzling results we saw in evaluating $\\int_0^{2\\pi}(1+\\sin x)dx$ above. "
   ]
  },
  {
   "cell_type": "markdown",
   "metadata": {
    "slideshow": {
     "slide_type": "skip"
    }
   },
   "source": [
    "Question: For what type of functions and integration interval these conditions will be generically true? \n",
    "\n",
    "Answer: periodic functions integrated over a period. In this case, trapezoidal scheme provides result with machine accuracy. "
   ]
  },
  {
   "cell_type": "markdown",
   "metadata": {
    "slideshow": {
     "slide_type": "fragment"
    }
   },
   "source": [
    "* If we know analytic expressions for the function derivatives, we can use the above equation (or its full version with all the terms, called the <a href=\"https://en.wikipedia.org/wiki/Euler%E2%80%93Maclaurin_formula#Approximation_of_integrals\">Euler-Maclaurin formula</a>) to compute value integral for such function to machine precision. "
   ]
  },
  {
   "cell_type": "markdown",
   "metadata": {
    "slideshow": {
     "slide_type": "fragment"
    }
   },
   "source": [
    "* Even if we don't know the derivatives, the knowledge of the structure of the error terms can be exploited to obtain results of much higher accuracy. This is done in the *Romberg integration method*. "
   ]
  },
  {
   "cell_type": "markdown",
   "metadata": {
    "slideshow": {
     "slide_type": "slide"
    }
   },
   "source": [
    "### Romberg integration method\n",
    "\n",
    "We showed that the integral can be expressed as  \n",
    "$$\n",
    "A=\\int\\limits^b_af(x)dx=T(h)+ e_1 h^2 + e_2 h^4 + \\mathcal{O}(h^6).\n",
    "$$\n",
    "but we can also express it using trapezoidal scheme with a twice smaller step size:\n",
    "$$\n",
    "A=\\int\\limits^b_af(x)dx=T\\left(\\frac{h}{2}\\right)+ e_1 \\left(\\frac{h}{2}\\right)^2 + e_2 \\left(\\frac{h}{2}\\right)^4 + \\mathcal{O}(h^6)\n",
    "=T\\left(\\frac{h}{2}\\right)+ \\frac{e_1}{4}\\,h^2 + \\frac{e_2}{16}\\,h^4 + \\mathcal{O}(h^6).\n",
    "$$\n"
   ]
  },
  {
   "cell_type": "markdown",
   "metadata": {
    "slideshow": {
     "slide_type": "slide"
    }
   },
   "source": [
    "If we multiply the second equation by 4 and subtract the first equation from the result, we get \n",
    "\n",
    "$$3A = 4T\\left(\\frac{h}{2}\\right) - T(h) -\\frac{3e_2}{4}\\,h^4 + \\mathcal{O}(h^6)$$\n",
    "\n",
    "or \n",
    "\n",
    "$$A = \\frac{4T\\left(h/2\\right) - T(h)}{3} -\\frac{e_2}{4}\\,h^4 + \\mathcal{O}(h^6).$$"
   ]
  },
  {
   "cell_type": "markdown",
   "metadata": {
    "slideshow": {
     "slide_type": "slide"
    }
   },
   "source": [
    "Let's denote $R_0(h) = T(h)$, the equation above shows that construct\n",
    "\n",
    "$$R_1(h) =  \\frac{4R_0\\left(h/2\\right) - R_0(h)}{3} = A +\\frac{e_2}{4}\\,h^4 + \\mathcal{O}(h^6),$$\n",
    "\n",
    "has leading error term of $\\propto h^4$ - that is the integration scheme $R_1(h)$ is *4th-order accurate*. \n",
    "\n",
    "In fact, $R_1(h)$ scheme is known as the *Simpson integration scheme.* This explains the second puzzling integration accuracy result that we saw. "
   ]
  },
  {
   "cell_type": "markdown",
   "metadata": {
    "slideshow": {
     "slide_type": "fragment"
    }
   },
   "source": [
    "We can use the same trick and eliminate the leading truncation error term of $R_1(h)$ as follows:\n",
    "\n",
    "$$R_2(h) = \\frac{16R_1(h/2)-R_1(h)}{15} + e_3h^6 +\\mathcal{O}(h^8),$$\n",
    "\n",
    "which is known as the Boole integration scheme and is *6th order accurate.*"
   ]
  },
  {
   "cell_type": "markdown",
   "metadata": {
    "slideshow": {
     "slide_type": "slide"
    }
   },
   "source": [
    "We don't have to stop there and can continue this. After $m$ such steps, the new scheme at a step $m+1$ can be formed as \n",
    "$$\n",
    "R_{m+1}(h)=\\frac{4^{m+1} R_{m}(h/2)-R_{m}(h)}{4^{m+1}-1}.\n",
    "$$\n",
    "\n",
    "The leading truncation error term of the scheme at step $m$ is $2(m+1)$:\n",
    "\n",
    "$$A = R_{m}(h) + \\mathcal{O}[h^{2(m+1)}].$$"
   ]
  },
  {
   "cell_type": "markdown",
   "metadata": {
    "slideshow": {
     "slide_type": "fragment"
    }
   },
   "source": [
    "We can thus use this *formula* to compute a series of increasingly accurate integral estimates by computing $R_0$, $R_1$, $R_2$,... up to $R_m$, where $m$ is some number.  "
   ]
  },
  {
   "cell_type": "markdown",
   "metadata": {
    "slideshow": {
     "slide_type": "slide"
    }
   },
   "source": [
    "### How do we know when to stop? (i.e. up to what $m$ to compute?)\n",
    "\n",
    "In general, we do not know what the exact value of the integral, to which we could compare as in the test cases above."
   ]
  },
  {
   "cell_type": "markdown",
   "metadata": {
    "slideshow": {
     "slide_type": "fragment"
    }
   },
   "source": [
    "* We may choose to keep increasing $m$ until the fractional difference between $R_m$ and $R_{m-1}$ ($\\vert 1-R_{m-1}/R_m\\vert$) becomes smaller than $1/2^{52}$. "
   ]
  },
  {
   "cell_type": "markdown",
   "metadata": {
    "slideshow": {
     "slide_type": "fragment"
    }
   },
   "source": [
    "* We may choose to keep increasing $m$ until the absolute difference between $R_m$ and $R_{m-1}$ is smaller than some threshold ($\\vert R_{m-1}-R_m\\vert<\\rm atol$) or fractional difference is smaller than some threshold ($\\vert 1-R_{m-1}/R_m\\vert<\\rm rtol$). "
   ]
  },
  {
   "cell_type": "markdown",
   "metadata": {
    "slideshow": {
     "slide_type": "skip"
    }
   },
   "source": [
    "Note that in the latter case we should guard against cases when $R_m=0$. "
   ]
  },
  {
   "cell_type": "markdown",
   "metadata": {
    "slideshow": {
     "slide_type": "slide"
    }
   },
   "source": [
    "This method was proposed for numerical integration by German-Norwegian mathematical physicist <a href=\"https://en.wikipedia.org/wiki/Werner_Romberg\">Werner Romberg</a> (got his PhD in Munich in 1933 working with Arnold Sommerfeld) in 1955, but became popular in 1960s with the spread of computers.  \n",
    "\n",
    "<center>\n",
    "<img width=300 src=\"img/Werner_Romberg.jpg\"></img>\n",
    "Werner Romberg (1909-2003)\n",
    "</center>"
   ]
  },
  {
   "cell_type": "markdown",
   "metadata": {
    "slideshow": {
     "slide_type": "skip"
    }
   },
   "source": [
    "Werner Romberg had an unusual life and career. For political reasons he fled Germany in 1937,\n",
    "first to Ukraine and then to Norway, where in 1938 he joined the University of Oslo. He spent the war years in\n",
    "Sweden and then returned to Norway. In 1949 he joined the Norwegian Institute of Technology in Trondheim. He returned to Germany only in 1968, when he took a Professor position at the University of Heidelberg."
   ]
  },
  {
   "cell_type": "markdown",
   "metadata": {
    "slideshow": {
     "slide_type": "slide"
    }
   },
   "source": [
    "The general method of improving accuracy and order of the scheme by eliminating leading truncation error terms was proposed by English mathematician, physicist, meteorologist, psychologist and pacifist Lewis Fry Richardson in 1922, when he attempted pioneering computations of air flows using a system of differential equations for weather prediction. This general approach is known as *Richardson's extrapolation.*\n",
    "<p>\n",
    "<center>\n",
    "<img width=300 src=\"img/Lewis_Fry_Richardson.png\"></img>\n",
    "Lewis Fry Richardson (1881-1953)\n",
    "</center>"
   ]
  },
  {
   "cell_type": "markdown",
   "metadata": {
    "slideshow": {
     "slide_type": "slide"
    }
   },
   "source": [
    "### Limitations\n",
    "\n",
    "This is a powerful approach that works in majority of cases one encounters in practice (we mostly deal with reasonably behaving functions), but it has limitations for certain functions."
   ]
  },
  {
   "cell_type": "markdown",
   "metadata": {
    "slideshow": {
     "slide_type": "fragment"
    }
   },
   "source": [
    "* The truncation error terms depend on odd derivatives. If any of these are large anywhere in the interval (for example, if function is discontinuous), the accuracy can degrade drastically. \n",
    "\n",
    "* It is often possible to split the integration interval around the discontinuous parts and integrate them separately. \n",
    "\n",
    "Details depend on specific cases. A general rule is that if you get subpar results with the Romberg integration, examine the function you are integrating (plot it, understand its behavior). You may need to be creative in how to handle integration in such difficult cases. "
   ]
  },
  {
   "cell_type": "markdown",
   "metadata": {
    "slideshow": {
     "slide_type": "slide"
    }
   },
   "source": [
    "### SciPy's integration routine <a href=\"https://docs.scipy.org/doc/scipy/reference/generated/scipy.integrate.romberg.html\"><tt>scipy.integrate.romberg</tt></a> \n",
    "\n",
    "implements Romberg's integration method. We will use it in calculations below armed with the knowledge of what it actually does. \n",
    "\n",
    "You will have an *extra-credit option* to implement your very own Romberg integration routine during the first assignment (will be distributed Friday). "
   ]
  },
  {
   "cell_type": "markdown",
   "metadata": {
    "slideshow": {
     "slide_type": "slide"
    }
   },
   "source": [
    "### Now that we have a working integration routine...\n",
    "### let's go back to computation of distances in general cosmological models\n",
    "\n",
    "Cosmological models, in which universe contains only matter derived from the solutions of the Einstein’s equations of GR predict that relation is given by the following formula (<a href=\"https://ui.adsabs.harvard.edu/abs/1977AmJPh..45..869T\">Terrell 1977</a>):\n",
    "\n",
    "$$d_L = \\frac{c}{H_0}\\, z\\left[1 + \\frac{(1-q_0)z}{1+q_0z+\\sqrt{1+2q_0z}}\\right],$$\n",
    "\n",
    "where $q_0=\\Omega_{m0}/2$ is the *deceleration parameter*. "
   ]
  },
  {
   "cell_type": "code",
   "execution_count": 83,
   "metadata": {
    "slideshow": {
     "slide_type": "-"
    }
   },
   "outputs": [],
   "source": [
    "clight = 2.99792458e5 # c in km/s\n",
    "\n",
    "# function that works only for models with OmL = 0\n",
    "def d_L_simple(z, H0, Om0):\n",
    "    q0 = 0.5 * Om0\n",
    "    q0z = q0 * z\n",
    "    return clight * z/H0 * (1. + (z-q0z) / (1. + q0z + np.sqrt(1. + 2.*q0z)))  "
   ]
  },
  {
   "cell_type": "markdown",
   "metadata": {
    "slideshow": {
     "slide_type": "slide"
    }
   },
   "source": [
    "### For models with $\\Omega_\\Lambda\\ne 0$ things are more complicated....\n",
    "\n",
    "$$d_c =\\int\\limits_0^z \\frac{dz}{E(z)}.$$\n",
    "\n",
    "where $\\Omega_k = 1-\\Omega_{\\rm m0} - \\Omega_\\Lambda$ and $E(z)=\\sqrt{\\Omega_{\\rm m0}(1+z)^3+\\Omega_k(1+z)^2+\\Omega_\\Lambda}.$\n",
    "\n",
    "$$\n",
    "d_L(z,\\Omega_0,\\Omega_\\Lambda) = \\frac{c}{H_0}\\,(1+z)\\,\\left\\{\n",
    "\\begin{array}{ll}\n",
    "\\frac{1}{\\sqrt{\\Omega_k}}\\,\\sinh\\left[\\sqrt{\\Omega_k}\\,d_{\\rm c}\\right] & {\\rm for}~\\Omega_k>0 \\\\\n",
    "d_{\\rm c} & {\\rm for}~\\Omega_k=0 \\\\\n",
    "\\frac{1}{\\sqrt{|\\Omega_k|}}\\,\\sin\\left[\\sqrt{|\\Omega_k|}\\,d_{\\rm c}\\right] & {\\rm for}~\\Omega_k<0\n",
    "\\end{array}\n",
    "\\right.\n",
    "$$\n"
   ]
  },
  {
   "cell_type": "code",
   "execution_count": 84,
   "metadata": {
    "slideshow": {
     "slide_type": "fragment"
    }
   },
   "outputs": [],
   "source": [
    "def dl_func(z, H0, Om0, OmL, Omk):\n",
    "    z1 = 1.0 + z; z12 = z1 * z1\n",
    "    return 1.0 / np.sqrt(z12*(Om0*z1 + Omk) + OmL)"
   ]
  },
  {
   "cell_type": "markdown",
   "metadata": {
    "slideshow": {
     "slide_type": "slide"
    }
   },
   "source": [
    "Adding capability to pass a vector of arguments to the integrand function to trapzd routine using *args."
   ]
  },
  {
   "cell_type": "code",
   "execution_count": 85,
   "metadata": {
    "slideshow": {
     "slide_type": "-"
    }
   },
   "outputs": [],
   "source": [
    "def trapzd(func, a, b, hstep, *args):\n",
    "    bma = np.abs(b-a)\n",
    "            \n",
    "    nstep = np.int(bma / hstep) \n",
    "    if nstep == 1:\n",
    "        return 0.5*(func(a, *args) + func(b, *args)) * hstep\n",
    "    else: \n",
    "        xd = a + np.arange(nstep) * hstep # np.arange creates a vector of values from 0 to nstep-1\n",
    "        return (0.5*(func(a, *args) + func(b, *args)) + np.sum(func(xd[1:], *args))) * hstep\n"
   ]
  },
  {
   "cell_type": "code",
   "execution_count": 86,
   "metadata": {
    "slideshow": {
     "slide_type": "slide"
    }
   },
   "outputs": [],
   "source": [
    "def _dc(z1, z2, hstep, *args):\n",
    "    return trapzd(dl_func, z1, z2, hstep, *args)"
   ]
  },
  {
   "cell_type": "code",
   "execution_count": 87,
   "metadata": {},
   "outputs": [],
   "source": [
    "def d_L(z, H0, Om0, OmL, hstep=1.e-8):\n",
    "    if 1.0+OmL == 1.0: # not that I exploit the roundoff error in testing whether OmL is consistent with zero\n",
    "        return d_L_simple(z, H0, Om0) # if OmL=0, use simple formula without integration\n",
    "    else: # otherwise use numerical integration to compute distance \n",
    "        dH = clight / H0 \n",
    "        Omk = 1.0 - Om0 - OmL\n",
    "        args = [H0, Om0, OmL, Omk]\n",
    "        dc = _dc(0., z, hstep, *args)\n",
    "        if 1.0 + Omk == 1.0:\n",
    "            return dH * dc * (1.0 + z)\n",
    "        else:\n",
    "            sqrOmk = np.sqrt(np.abs(Omk))\n",
    "            if Omk > 0.:\n",
    "                return dH * np.sinh(dc*sqrOmk) * (1.0 + z) / sqrOmk \n",
    "            else:\n",
    "                return dH * np.sin(dc*sqrOmk) * (1.0 + z) / sqrOmk\n",
    "            \n",
    "        return dL"
   ]
  },
  {
   "cell_type": "markdown",
   "metadata": {
    "slideshow": {
     "slide_type": "slide"
    }
   },
   "source": [
    "### $d_L$ routine from AstroPy to be used for comparison and performance tests"
   ]
  },
  {
   "cell_type": "code",
   "execution_count": 88,
   "metadata": {
    "slideshow": {
     "slide_type": "-"
    }
   },
   "outputs": [],
   "source": [
    "from astropy.cosmology import LambdaCDM\n",
    "import astropy.units as u\n",
    "\n",
    "def d_L_astropy(z, H0, Om0, OmL):\n",
    "    cosmo = LambdaCDM(H0=H0, Om0=Om0, Ode0=OmL)\n",
    "    return cosmo.luminosity_distance(z=z) / u.Mpc"
   ]
  },
  {
   "cell_type": "markdown",
   "metadata": {
    "slideshow": {
     "slide_type": "slide"
    }
   },
   "source": [
    "### $d_L$ routine using <tt>scipy.integrate.romberg</tt> routine"
   ]
  },
  {
   "cell_type": "code",
   "execution_count": 110,
   "metadata": {
    "slideshow": {
     "slide_type": "-"
    }
   },
   "outputs": [],
   "source": [
    "from scipy.integrate import romberg\n",
    "\n",
    "def d_L_romberg(z, H0, Om0, OmL, atol=1.e-8, rtol=1.e-8):\n",
    "    if 1.0+OmL == 1.0:\n",
    "        return d_L_simple(z, H0, Om0)\n",
    "    else:\n",
    "        dH = clight / H0 \n",
    "        Omk = 1.0 - Om0 - OmL\n",
    "        dc = romberg(dl_func, 0., z, args=(H0, Om0, OmL, Omk), divmax=15, tol=atol, rtol=rtol)\n",
    "        if 1.0 + Omk == 1.0:\n",
    "            return dH * dc * (1.0 + z)\n",
    "        else:\n",
    "            sqrOmk = np.sqrt(np.abs(Omk))\n",
    "            if Omk > 0.:\n",
    "                return dH * np.sinh(dc*sqrOmk) * (1.0 + z) / sqrOmk \n",
    "            else:\n",
    "                return dH * np.sin(dc*sqrOmk) * (1.0 + z) / sqrOmk\n",
    "            \n",
    "        return dL"
   ]
  },
  {
   "cell_type": "markdown",
   "metadata": {
    "slideshow": {
     "slide_type": "slide"
    }
   },
   "source": [
    "### Computing $d_L$ using trapezoidal integration and AstroPy routine and timing them"
   ]
  },
  {
   "cell_type": "code",
   "execution_count": 90,
   "metadata": {
    "slideshow": {
     "slide_type": "skip"
    }
   },
   "outputs": [],
   "source": [
    "import timeit"
   ]
  },
  {
   "cell_type": "code",
   "execution_count": 91,
   "metadata": {
    "slideshow": {
     "slide_type": "-"
    }
   },
   "outputs": [
    {
     "name": "stdout",
     "output_type": "stream",
     "text": [
      "trapezoidal scheme: d_L(z=2.0)=15542.746 computed in 0.000133 sec\n",
      "Romberg scheme: d_L(z=2.0)=15536.375 computed in 0.000168 sec\n",
      "astropy:            d_L(z=2.0)=15539.586 computed in 0.00268 sec\n",
      "fractional difference = 1-dLtrap/dLastropy = -0.0002033\n",
      "fractional difference = 1-dLromberg/dLastropy = 0.0002066\n"
     ]
    }
   ],
   "source": [
    "H0, Om0, OmL = 70., 0.3, 0.7;\n",
    "z = 2.0\n",
    "\n",
    "hstep = 1.e-1\n",
    "\n",
    "tstart = timeit.default_timer()\n",
    "dLtrap    = d_L(z, H0, Om0, OmL, hstep=hstep)\n",
    "ttrap = timeit.default_timer() - tstart\n",
    "\n",
    "tstart = timeit.default_timer()\n",
    "dLastropy = d_L_astropy(z, H0, Om0, OmL)\n",
    "tastropy = timeit.default_timer() - tstart \n",
    "\n",
    "tstart = timeit.default_timer()\n",
    "tol = 1.e-2\n",
    "dLromberg = d_L_romberg(z, H0, Om0, OmL, atol=tol, rtol=tol)\n",
    "tromberg = timeit.default_timer() - tstart \n",
    "\n",
    "print(\"trapezoidal scheme: d_L(z=%.1f)=%.8g computed in %.3g sec\"%(z, dLtrap, ttrap))\n",
    "print(\"Romberg scheme: d_L(z=%.1f)=%.8g computed in %.3g sec\"%(z, dLromberg, tromberg))\n",
    "print(\"astropy:            d_L(z=%.1f)=%.8g computed in %.3g sec\"%(z, dLastropy, tastropy))\n",
    "print(\"fractional difference = 1-dLtrap/dLastropy = %.4g\"%(1.-dLtrap/dLastropy))\n",
    "print(\"fractional difference = 1-dLromberg/dLastropy = %.4g\"%(1.-dLromberg/dLastropy))"
   ]
  },
  {
   "cell_type": "markdown",
   "metadata": {
    "slideshow": {
     "slide_type": "slide"
    }
   },
   "source": [
    "Now let's use our distance routine to compute distances for a grid of redshifts."
   ]
  },
  {
   "cell_type": "code",
   "execution_count": 92,
   "metadata": {
    "slideshow": {
     "slide_type": "-"
    }
   },
   "outputs": [],
   "source": [
    "H0, Om0, OmL = 70., 0.3, 0.7 # define parameters of the cosmological model\n",
    "\n",
    "z = np.linspace(0., 2., 100) # create a grid of redshifts\n",
    "dL = np.zeros_like(z) # initialize a vector for distances of the lenght of z\n",
    "hstep = 1.e-3 # set trapezoidal integration step\n",
    "\n",
    "for i, zd in enumerate(z):\n",
    "    dL[i] = d_L(zd, H0, Om0, OmL, hstep=hstep)"
   ]
  },
  {
   "cell_type": "code",
   "execution_count": 93,
   "metadata": {
    "slideshow": {
     "slide_type": "skip"
    }
   },
   "outputs": [],
   "source": [
    "def read_jla_data(sn_list_name = None):\n",
    "    \"\"\"\n",
    "    read in table with the JLA supernova type Ia sample\n",
    "    \n",
    "    Parameters\n",
    "    ----------\n",
    "    sn_list_name: str\n",
    "        path/file name containing the JLA data table in ASCII format\n",
    "        \n",
    "    Returns\n",
    "    -------\n",
    "    zCMB, mB, emB - numpy float vectors containing \n",
    "                       zCMB: SNIa redshifts in the CMB frame\n",
    "                       mB, emB: apparent B-magnitude and its errors\n",
    "    \"\"\"\n",
    "    zCMB, mB, emB = np.loadtxt(sn_list_name, usecols=(1, 4, 5),  unpack=True)\n",
    "\n",
    "    return zCMB, mB, emB\n"
   ]
  },
  {
   "cell_type": "markdown",
   "metadata": {
    "slideshow": {
     "slide_type": "slide"
    }
   },
   "source": [
    "### Model $d_L(z, H_0, \\Omega_0, \\Omega_\\Lambda)$ vs supernova type Ia data\n",
    "\n",
    "Recall from last week that supernovae type Ia are thought to be nearly \"standard candles\", which means that their intrinsic luminosity is nearly constant for all supernovae. Intrinsic luminosity in astronomy is often measured using absolute magnitude, $M$. \n",
    "\n",
    "The *distance modulus* - the difference of the observed *apparent magnitude* and absolute magnitude is a function of distance: \n",
    "\n",
    "$$\\mu = m - M = 5\\log_{10}d_L + 25.$$\n",
    "\n",
    "Now we can compute $d_L$ for theoretical model and compare it to observed $\\mu_{\\rm SNIa}=m-\\rm const$ of supernovae type Ia, as a function of spectral redshift $z$. "
   ]
  },
  {
   "cell_type": "markdown",
   "metadata": {
    "slideshow": {
     "slide_type": "slide"
    }
   },
   "source": [
    "I.e. we are ready to make a plot similar to the plot I showed you a week ago (from <a href=\"https://ui.adsabs.harvard.edu/abs/2012ApJ...746...85S/abstract\">Suzuki et al. 2012</a>) for <a href=\"https://en.wikipedia.org/wiki/Type_Ia_supernova\">type Ia supernovae</a>.\n",
    "\n",
    "<br>\n",
    "<center><img width=1000 src=\"img/suzuki_etal12_hubble_diagram.png\"></img></center>"
   ]
  },
  {
   "cell_type": "markdown",
   "metadata": {
    "slideshow": {
     "slide_type": "slide"
    }
   },
   "source": [
    "### Load supernovae type Ia data set that was added to the course repository\n",
    "\n",
    "The data set is from the study of <a href=\"https://ui.adsabs.harvard.edu/abs/2014A%26A...568A..22B/abstract\">Betoule et al. (2014)</a> and can also be downloaded <a href=\"http://supernovae.in2p3.fr/sdss_snls_jla/ReadMe.html\">here</a>."
   ]
  },
  {
   "cell_type": "code",
   "execution_count": 94,
   "metadata": {
    "slideshow": {
     "slide_type": "-"
    }
   },
   "outputs": [],
   "source": [
    "zCMB, mB, emB = read_jla_data(sn_list_name = 'data/jla_lcparams.txt')\n",
    "\n",
    "M0sn = -19.05 # the assumed universal abs. magnitude of supernovae type Ia\n",
    "\n",
    "mu_snIa = mB - M0sn"
   ]
  },
  {
   "cell_type": "markdown",
   "metadata": {
    "slideshow": {
     "slide_type": "slide"
    }
   },
   "source": [
    "### Plot model $\\mu=5\\log_{10}d_L(z)+25$ vs observational $\\mu_{\\rm SNIa}$ for type Ia supernovae"
   ]
  },
  {
   "cell_type": "code",
   "execution_count": 96,
   "metadata": {
    "slideshow": {
     "slide_type": "-"
    }
   },
   "outputs": [
    {
     "data": {
      "image/png": "[encoded data removed]",
      "text/plain": [
       "<Figure size 525x525 with 1 Axes>"
      ]
     },
     "metadata": {
      "needs_background": "light"
     },
     "output_type": "display_data"
    }
   ],
   "source": [
    "mu_model = 5.0 * np.log10(dL) + 25.0 \n",
    "\n",
    "plot_line_points(z, mu_model, \n",
    "                 xlabel=r'$\\rm redshift$', ylabel = r'$\\mu=m-M=\\rm distance\\ modulus$',\n",
    "                 xp=zCMB, yp=mu_snIa, points=True, figsize=3)"
   ]
  },
  {
   "cell_type": "markdown",
   "metadata": {
    "slideshow": {
     "slide_type": "slide"
    }
   },
   "source": [
    "### A more detailed look into performance of our $d_L$ routine vs AstroPy routine"
   ]
  },
  {
   "cell_type": "code",
   "execution_count": 121,
   "metadata": {
    "slideshow": {
     "slide_type": "fragment"
    }
   },
   "outputs": [
    {
     "name": "stdout",
     "output_type": "stream",
     "text": [
      "Romberg execution time = 0.42 sec\n"
     ]
    }
   ],
   "source": [
    "H0, Om0, OmL = 70., 0.3, 0.7;\n",
    "\n",
    "dL = np.zeros_like(z)\n",
    "\n",
    "import timeit\n",
    "tstart = timeit.default_timer()\n",
    "for i, zd in enumerate(z):\n",
    "    dL[i] = d_L_romberg(zd, H0, Om0, OmL, atol=1.15e-16, rtol=1.15e-16)\n",
    "print(\"Romberg execution time = %.2g sec\"%(timeit.default_timer()-tstart))"
   ]
  },
  {
   "cell_type": "code",
   "execution_count": 122,
   "metadata": {
    "slideshow": {
     "slide_type": "fragment"
    }
   },
   "outputs": [
    {
     "name": "stdout",
     "output_type": "stream",
     "text": [
      "AstroPy execution time = 0.00055 sec\n"
     ]
    }
   ],
   "source": [
    "tstart = timeit.default_timer()\n",
    "dummy = d_L_astropy(z,H0,Om0,OmL)\n",
    "print(\"AstroPy execution time = %.2g sec\"%(timeit.default_timer()-tstart))"
   ]
  },
  {
   "cell_type": "code",
   "execution_count": 123,
   "metadata": {
    "slideshow": {
     "slide_type": "slide"
    }
   },
   "outputs": [
    {
     "data": {
      "image/png": "[encoded data removed]",
      "text/plain": [
       "<Figure size 525x525 with 1 Axes>"
      ]
     },
     "metadata": {
      "needs_background": "light"
     },
     "output_type": "display_data"
    }
   ],
   "source": [
    "\n",
    "plot_line_points(z, np.log10(np.abs(1.-dL/dummy)), xlabel=r'$z$', ylabel=r'$d_L\\ \\rm (Mpc)$', figsize=3)"
   ]
  },
  {
   "cell_type": "markdown",
   "metadata": {
    "slideshow": {
     "slide_type": "skip"
    }
   },
   "source": [
    "### Try using <a href=\"https://docs.scipy.org/doc/numpy/reference/generated/numpy.vectorize.html\"><tt>numpy.vectorize</tt></a> function to vectorize computation for a grid of $z$ \n",
    "\n",
    "this allows to avoid loop over redshifts"
   ]
  },
  {
   "cell_type": "code",
   "execution_count": 124,
   "metadata": {
    "slideshow": {
     "slide_type": "skip"
    }
   },
   "outputs": [],
   "source": [
    "def vectorize_func(func, *x):\n",
    "    \"\"\" Helper function to vectorize function with array inputs\"\"\"\n",
    "    return np.vectorize(func)(*x)\n"
   ]
  },
  {
   "cell_type": "code",
   "execution_count": 125,
   "metadata": {
    "slideshow": {
     "slide_type": "skip"
    }
   },
   "outputs": [],
   "source": [
    "# import quad if the routine below is tested with the quad integration routine used in astropy\n",
    "#from scipy.integrate import quad\n",
    "#f = lambda z1, z2: quad(dl_func, z1, z2, args=args)[0]"
   ]
  },
  {
   "cell_type": "code",
   "execution_count": 126,
   "metadata": {
    "slideshow": {
     "slide_type": "skip"
    }
   },
   "outputs": [],
   "source": [
    "def _dc(z1, z2, *args, atol=1.e-8, rtol = 1.e-8):\n",
    "    f = lambda z1, z2: romberg(dl_func, z1, z2, args=args, tol=atol, rtol=rtol)\n",
    "    if np.size(z1) > 1 or np.size(z2) > 1:\n",
    "        return vectorize_func(f, z1, z2)\n",
    "    else:\n",
    "        return f(z1, z2)"
   ]
  },
  {
   "cell_type": "code",
   "execution_count": 127,
   "metadata": {
    "slideshow": {
     "slide_type": "skip"
    }
   },
   "outputs": [],
   "source": [
    "def d_L_vectorized(z, H0, Om0, OmL, atol=1.e-8, rtol=1.e-8):\n",
    "    if 1.0+OmL == 1.0:\n",
    "        return d_L_simple(z, H0, Om0)\n",
    "    else:\n",
    "        dH = clight / H0 \n",
    "        Omk = 1.0 - Om0 - OmL\n",
    "        args = [H0, Om0, OmL, Omk]\n",
    "        dc = _dc(0., z, *args, atol=atol, rtol=rtol)\n",
    "        if 1.0 + Omk == 1.0:\n",
    "            return dH * dc * (1.0 + z)\n",
    "        else:\n",
    "            sqrOmk = np.sqrt(np.abs(Omk))\n",
    "            if Omk > 0.:\n",
    "                return dH * np.sinh(dc*sqrOmk) * (1.0 + z) / sqrOmk \n",
    "            else:\n",
    "                return dH * np.sin(dc*sqrOmk) * (1.0 + z) / sqrOmk\n",
    "            \n",
    "        return dL"
   ]
  },
  {
   "cell_type": "code",
   "execution_count": 131,
   "metadata": {
    "slideshow": {
     "slide_type": "slide"
    }
   },
   "outputs": [
    {
     "name": "stdout",
     "output_type": "stream",
     "text": [
      "vectorized Romberg execution time = 0.11 sec\n"
     ]
    }
   ],
   "source": [
    "tstart = timeit.default_timer()\n",
    "dL = d_L_vectorized(z, H0, Om0, OmL, atol=1.15e-16, rtol=1.15e-16)\n",
    "print(\"vectorized Romberg execution time = %.2g sec\"%(timeit.default_timer()-tstart))"
   ]
  },
  {
   "cell_type": "code",
   "execution_count": 133,
   "metadata": {
    "slideshow": {
     "slide_type": "slide"
    }
   },
   "outputs": [
    {
     "data": {
      "image/png": "[encoded data removed]",
      "text/plain": [
       "<Figure size 525x525 with 1 Axes>"
      ]
     },
     "metadata": {
      "needs_background": "light"
     },
     "output_type": "display_data"
    }
   ],
   "source": [
    "plot_line_points(z, np.log10(np.abs(1.-dL/dummy)), xlabel=r'$z$', ylabel=r'$\\rm absolute\\ error$', figsize=3)"
   ]
  },
  {
   "cell_type": "markdown",
   "metadata": {
    "slideshow": {
     "slide_type": "slide"
    }
   },
   "source": [
    "### Computing $d_L(z,H_0,\\Omega_{\\rm m0},\\Omega_\\Lambda)$ for a grid of values of $\\Omega_{\\rm m0}$ and $\\Omega_\\Lambda$"
   ]
  },
  {
   "cell_type": "code",
   "execution_count": 136,
   "metadata": {
    "slideshow": {
     "slide_type": "-"
    }
   },
   "outputs": [
    {
     "name": "stdout",
     "output_type": "stream",
     "text": [
      "execution time = 1.6134357 sec\n"
     ]
    }
   ],
   "source": [
    "nOm0 = 100; nOmL = 100 # construct grids of Om0 and OmL values\n",
    "Om0min, Om0max = 0., 1\n",
    "Om0 = np.linspace(Om0min, Om0max, nOm0)\n",
    "OmLmin, OmLmax = 0., 1\n",
    "OmL = np.linspace(OmLmin, OmLmax, nOmL)\n",
    "\n",
    "dLgrid = np.zeros((nOm0, nOmL))\n",
    "\n",
    "z = 1.0\n",
    "tstart = timeit.default_timer()\n",
    "for i, Omd in enumerate(Om0):\n",
    "    for j, Omld in enumerate(OmL):\n",
    "            dLgrid[i,j] = d_L_vectorized(z, H0, Omd, Omld)\n",
    "            \n",
    "print(\"execution time = %.8g sec\"%(timeit.default_timer()-tstart))\n"
   ]
  },
  {
   "cell_type": "code",
   "execution_count": 137,
   "metadata": {
    "slideshow": {
     "slide_type": "skip"
    }
   },
   "outputs": [],
   "source": [
    "from matplotlib import cm\n",
    "\n",
    "def plot_color_map(data, xlabel = ' ', ylabel = ' ', figsize=3.0, figsave=None):\n",
    "    plt.figure(figsize=(figsize,figsize))\n",
    "    plt.xlabel(xlabel); plt.ylabel(ylabel)\n",
    "    cmap = cm.get_cmap('winter')\n",
    "    plt.pcolormesh(data, cmap=cmap, rasterized=True)\n",
    "    if figsave:\n",
    "        plt.savefig(figsave, bbox_inches='tight')\n",
    "\n",
    "    plt.show()\n"
   ]
  },
  {
   "cell_type": "code",
   "execution_count": 139,
   "metadata": {
    "slideshow": {
     "slide_type": "slide"
    }
   },
   "outputs": [
    {
     "data": {
      "image/png": "[encoded data removed]",
      "text/plain": [
       "<Figure size 525x525 with 1 Axes>"
      ]
     },
     "metadata": {
      "needs_background": "light"
     },
     "output_type": "display_data"
    }
   ],
   "source": [
    "plot_color_map(dLgrid, figsize=3.0)"
   ]
  },
  {
   "cell_type": "markdown",
   "metadata": {
    "slideshow": {
     "slide_type": "fragment"
    }
   },
   "source": [
    "$\\rightarrow$ Dependence of $d_L$ on $\\Omega_{\\rm m0}$ and $\\Omega_\\Lambda$ is *very smooth*."
   ]
  },
  {
   "cell_type": "markdown",
   "metadata": {
    "slideshow": {
     "slide_type": "skip"
    }
   },
   "source": [
    "### Approximating functions\n",
    "\n",
    "Approximating a function that is represented by a finite number of discrete tabulated values or measurements. In each case, there is some uncertainty associated with function values: by *tabulated values* we mean function values computed as accurately as *machine precision* allows. By measurements we mean values of function measured in some way with associated uncertainties usually much larger than the accuracy that is allowed by machine precision. "
   ]
  },
  {
   "cell_type": "markdown",
   "metadata": {
    "slideshow": {
     "slide_type": "slide"
    }
   },
   "source": [
    "### Approximating $d_L$ for faster execution"
   ]
  },
  {
   "cell_type": "code",
   "execution_count": 69,
   "metadata": {
    "slideshow": {
     "slide_type": "skip"
    }
   },
   "outputs": [],
   "source": [
    "def plot_points(xp, yp, xlabel =' ', ylabel =' ', figsize=5., figsave=None):\n",
    "    plt.figure(figsize=(figsize,figsize))\n",
    "    plt.xlabel(xlabel); plt.ylabel(ylabel)\n",
    "    plt.scatter(xp, yp, marker=\".\", lw = 1., c='slateblue')\n",
    "\n",
    "    if figsave:\n",
    "        plt.savefig(figsave, bbox_inches='tight')\n",
    "\n",
    "    plt.show()\n"
   ]
  },
  {
   "cell_type": "code",
   "execution_count": 71,
   "metadata": {
    "slideshow": {
     "slide_type": "-"
    }
   },
   "outputs": [
    {
     "data": {
      "image/png": "[encoded data removed]",
      "text/plain": [
       "<Figure size 288x288 with 1 Axes>"
      ]
     },
     "metadata": {
      "needs_background": "light"
     },
     "output_type": "display_data"
    }
   ],
   "source": [
    "nsOmL = 10 # select tabulated index of specific Omega_Lambda value\n",
    "nss = 5 # subselect every nss-th tabulated \n",
    "\n",
    "# notice the array slicing, ::nss selects every nss-th element of the array\n",
    "plot_points(Om0[::nss], dLgrid[::nss,nsOmL], xlabel=r'$\\Omega_{\\rm m0}$', ylabel=r'$d_L$', figsize=4)"
   ]
  },
  {
   "cell_type": "markdown",
   "metadata": {
    "slideshow": {
     "slide_type": "slide"
    }
   },
   "source": [
    "### Approximating $d_L(\\Omega_{\\rm m0})$ using polynomial expansion\n",
    "\n",
    "denoting $x=\\Omega_{\\rm m0}$ for convenience: \n",
    "\n",
    "$$d_L = \\sum\\limits_{i=0}^{p}a_i x^i = a_0 + a_1 x + a_2 x^2 +\\ldots\n",
    "$$"
   ]
  },
  {
   "cell_type": "code",
   "execution_count": 72,
   "metadata": {
    "slideshow": {
     "slide_type": "fragment"
    }
   },
   "outputs": [],
   "source": [
    "# numpy has a routine polyfit that computes coefficients a_i, given the data to fit and order p\n",
    "porder = 10\n",
    "\n",
    "polyfit = np.polyfit(Om0[::nss], dLgrid[::nss,nsOmL], porder)\n",
    "pfit = np.poly1d(polyfit)"
   ]
  },
  {
   "cell_type": "code",
   "execution_count": 74,
   "metadata": {
    "slideshow": {
     "slide_type": "fragment"
    }
   },
   "outputs": [
    {
     "data": {
      "image/png": "[encoded data removed]",
      "text/plain": [
       "<Figure size 216x216 with 1 Axes>"
      ]
     },
     "metadata": {
      "needs_background": "light"
     },
     "output_type": "display_data"
    }
   ],
   "source": [
    "Oma = np.linspace(0., 1., 1000)\n",
    "\n",
    "plot_line_points(Om0, pfit(Om0), xp=Om0[::nss], yp=dLgrid[::nss,nsOmL], points=True, figsize=3)"
   ]
  },
  {
   "cell_type": "code",
   "execution_count": 123,
   "metadata": {
    "slideshow": {
     "slide_type": "slide"
    }
   },
   "outputs": [
    {
     "data": {
      "image/png": "[encoded data removed]",
      "text/plain": [
       "<Figure size 750x750 with 1 Axes>"
      ]
     },
     "metadata": {
      "needs_background": "light"
     },
     "output_type": "display_data"
    }
   ],
   "source": [
    "frac_error = np.log10(np.maximum(np.abs(1.0-pfit(Om0)/dLgrid[:,nsOmL]), 2.e-16))\n",
    "\n",
    "plot_line_plus_points(Om0, frac_error, xp=Om0[::nss], yp=np.zeros_like(Om0[::nss]), points=True, figsize=3)"
   ]
  },
  {
   "cell_type": "code",
   "execution_count": 127,
   "metadata": {
    "slideshow": {
     "slide_type": "slide"
    }
   },
   "outputs": [
    {
     "name": "stdout",
     "output_type": "stream",
     "text": [
      "execution time = 0.0329747 sec\n",
      "20.4 µs ± 777 ns per loop (mean ± std. dev. of 7 runs, 10000 loops each)\n"
     ]
    }
   ],
   "source": [
    "z = 1.0 \n",
    "tstart = timeit.default_timer()\n",
    "Omld = OmL[nsOmL]\n",
    "for i, Omd in enumerate(Om0):\n",
    "    dummy = d_L_astropy(z, H0, Omd, Omld)            \n",
    "print(\"execution time = %.8g sec\"%(timeit.default_timer()-tstart))\n",
    "\n",
    "%timeit dummy = pfit(Om0)\n"
   ]
  },
  {
   "cell_type": "markdown",
   "metadata": {
    "slideshow": {
     "slide_type": "slide"
    }
   },
   "source": [
    "## By the end of the first week. \n",
    "\n",
    "* Install full Anaconda Python 3.7 distribution following <a href=\"http://docs.anaconda.com/anaconda/install/\">installation instructions</a> for your OS on your laptop. \n",
    "\n",
    "* download the Jupyter notebook with these notes from the <a href=\"\">course GitHub repository</a> (notebook 01_*.ipynb)\n",
    "\n",
    "* Run Jupyter notebook server <tt>jupyter notebook</tt> and access the l01_approximation.ipynb notebook. Make sure you can run it.  \n",
    "\n",
    "* Get account on <a href=\"http://slack.com\">Slack</a>, if you don't have one, and email me your user name to be added for access to <a href=\"https://a211w20.slack.com\">Slack workspace</a> for this course.\n"
   ]
  }
 ],
 "metadata": {
  "celltoolbar": "Slideshow",
  "kernelspec": {
   "display_name": "Python 3",
   "language": "python",
   "name": "python3"
  },
  "language_info": {
   "codemirror_mode": {
    "name": "ipython",
    "version": 3
   },
   "file_extension": ".py",
   "mimetype": "text/x-python",
   "name": "python",
   "nbconvert_exporter": "python",
   "pygments_lexer": "ipython3",
   "version": "3.7.1"
  }
 },
 "nbformat": 4,
 "nbformat_minor": 2
}
