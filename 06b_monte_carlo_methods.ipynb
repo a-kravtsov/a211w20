{
 "cells": [
  {
   "cell_type": "markdown",
   "metadata": {
    "slideshow": {
     "slide_type": "skip"
    }
   },
   "source": [
    "# ASTR 21100 \n",
    "\n",
    "# \"Computational Techniques in Astrophysics\"\n",
    "\n",
    "## Instructor: Andrey Kravtsov\n",
    "\n",
    "### office: ERC 415; email: kravtsov@uchicago.edu\n",
    "### office hours: Tue, 10:30am-noon (unless noted otherwise)\n",
    "\n",
    "#### Teaching Assistants: \n",
    "#### Dimitrios Tanoglidis (dtanoglidis@uchicaago.edu)\n",
    "#### Georgios Zakharegkas (gzakharegkas@uchicago.edu)"
   ]
  },
  {
   "cell_type": "code",
   "execution_count": 3,
   "metadata": {
    "slideshow": {
     "slide_type": "skip"
    }
   },
   "outputs": [],
   "source": [
    "import numpy as np \n",
    "\n",
    "# use jupyter \"magic\" command to tell it to embed plot into the notebook \n",
    "import matplotlib.pyplot as plt\n",
    "%matplotlib inline\n",
    "# reusing my codes from the repository\n",
    "from codes.plot_utils import plot_pretty\n",
    "plot_pretty(dpi=150, fontsize=12)"
   ]
  },
  {
   "cell_type": "code",
   "execution_count": 4,
   "metadata": {
    "slideshow": {
     "slide_type": "skip"
    }
   },
   "outputs": [],
   "source": [
    "plot_pretty(dpi=150, fontsize=12)"
   ]
  },
  {
   "cell_type": "markdown",
   "metadata": {
    "slideshow": {
     "slide_type": "slide"
    }
   },
   "source": [
    "### Monte Carlo methods\n",
    "\n",
    "Monte Carlo methods use random realization of processes to model a physical or mathematical system. \n",
    "\n",
    "Modelling experimental setups is still one of the most common uses of the Monte Carlo approach. However, its range of applications is wide: for example, the (in)famous election outcomes modelling by Nate Silver and Co. \n"
   ]
  },
  {
   "cell_type": "markdown",
   "metadata": {
    "slideshow": {
     "slide_type": "fragment"
    }
   },
   "source": [
    "Monte Carlo methods have a long history and were used before the name was even invented. Enrico Fermi (1901-1954) used what we would call a Monte Carlo method in the 1930s to compute (in his head!) propagation of neutrons in experiments he was working on. \n",
    "\n",
    "<img width=200 src=\"img/Enrico_Fermi_1943-49.jpg\"></img>"
   ]
  },
  {
   "cell_type": "markdown",
   "metadata": {
    "slideshow": {
     "slide_type": "slide"
    }
   },
   "source": [
    "### The FERMIAC \n",
    "\n",
    "He later invented mechanical device to facilitate such calculations, which was nicknamed the **FERMIAC**: \n",
    "\n",
    "<img width=400 src=\"img/fermiac.PNG\"></img>"
   ]
  },
  {
   "cell_type": "markdown",
   "metadata": {
    "slideshow": {
     "slide_type": "slide"
    }
   },
   "source": [
    "### The origin of the Monte Carlo approach\n",
    "\n",
    "The approach of using random numbers to sample a distribution to model something was systematically worked out by Stanislaw Ulam and John von Neumann in 1946-1947, who were working at Los Alamos at the time, to model an experimental thermonuclear device designs on the first electronic computer ENIAC. \n",
    "\n",
    "<img width=200 src=\"img/Stan_Ulam_Holding_the_FERMIAC.jpg\"></img>"
   ]
  },
  {
   "cell_type": "markdown",
   "metadata": {
    "slideshow": {
     "slide_type": "slide"
    }
   },
   "source": [
    "### The origin of the name Monte Carlo \n",
    "\n",
    "The name \"Monte Carlo\" was invented by Nicholas Metropolis (UChicago alum, BSc 1937, PhD 1941), who was motivated by Ulam's stories about his uncle who liked to gamble in Monte Carlo. \n",
    "\n",
    "<img width=200 src=\"img/nicholas_metropolis_maniac_board.jpg\"></img>"
   ]
  },
  {
   "cell_type": "markdown",
   "metadata": {
    "slideshow": {
     "slide_type": "slide"
    }
   },
   "source": [
    "### An example: the Monty Hall problem\n",
    "\n",
    "named for its similarity to the \"Let's Make a Deal\" television game show hosted by Monty Hall. \n",
    "\n",
    "The problem is stated as follows. Assume that a room is equipped with three doors. Behind two are goats, and behind the third is a shiny new car. \n",
    "\n",
    "<img width=400 src=\"img/1280px-Monty_open_door.svg.png\"></img>\n",
    "\n",
    "1) You are asked to pick a door, and will win whatever is behind it. Let's say you pick door 1. \n",
    "\n",
    "2) Before the door is opened, however, someone who knows what's behind the doors (Monty Hall) opens one of the other two doors, revealing a goat, and asks you if you wish to change your selection to the third door (i.e., the door which neither you picked nor he opened). \n",
    "\n",
    "3) The Monty Hall problem is the question of whether you should switch to the other door or not. \n",
    "\n"
   ]
  },
  {
   "cell_type": "markdown",
   "metadata": {
    "slideshow": {
     "slide_type": "slide"
    }
   },
   "source": [
    "### Monty Hall problem solution by Monte Carlo:\n",
    "\n",
    "The following way of demonstrating <a href=\"http://www.probability.ca/jeff/writing/montysimple.html\">solution to this problem</a> is presented by Jeffrey Rosenthal in his book <a href=\"http://www.probability.ca/sbl/\">\"Struck by Lightning: The Curious World of Probabilities.\"</a> This is exactly what Monte Carlo approach to modelling a problem is. \n",
    "\n",
    "Assume that you always start by picking Door 1, and the host then always shows you some other door which does not contain the car, and you then always switch to the remaining door.\n",
    "\n",
    "1) If the car is behind Door 1, then after you pick Door 1, the host will open another door (either 2 or 3), and you will then switch to the remaining door (either 3 or 2), thus LOSING.\n",
    "\n",
    "2) If the car is behind Door 2, then after you pick Door 1, the host will be forced to open Door 3, and you will then switch to Door 2, thus WINNING.\n",
    "\n",
    "3) If the car is behind Door 3, then after you pick Door 1, the host will be forced to open Door 2, and you will then switch to Door 3, thus WINNING.\n",
    "\n",
    "Hence, in 2 of the 3 (equally-likely) possibilities, you will win. Therefore, *the probability of winning by switching is 2/3, while probability of winning by not switching is 1/3*"
   ]
  },
  {
   "cell_type": "markdown",
   "metadata": {
    "slideshow": {
     "slide_type": "slide"
    }
   },
   "source": [
    "### Another example: the birthday problem\n",
    "\n",
    "how many people do we need to have in the room to have a 50% probability for two of them to have exactly the same birthday?"
   ]
  },
  {
   "cell_type": "code",
   "execution_count": 7,
   "metadata": {
    "slideshow": {
     "slide_type": "fragment"
    }
   },
   "outputs": [
    {
     "name": "stdout",
     "output_type": "stream",
     "text": [
      "for N = 5 people there are 0.034 +- 0.00573 pairs with the same b-day\n",
      "for N = 10 people there are 0.125 +- 0.0105 pairs with the same b-day\n",
      "for N = 20 people there are 0.432 +- 0.0163 pairs with the same b-day\n",
      "for N = 30 people there are 0.8 +- 0.0195 pairs with the same b-day\n",
      "for N = 40 people there are 1.26 +- 0.023 pairs with the same b-day\n",
      "for N = 50 people there are 1.86 +- 0.027 pairs with the same b-day\n",
      "for N = 100 people there are 6.47 +- 0.0468 pairs with the same b-day\n"
     ]
    }
   ],
   "source": [
    "nt = 1000\n",
    "for N in [5, 10, 20, 30, 40, 50, 100]:\n",
    "    nsame = []\n",
    "    for n in range(nt):\n",
    "        # draw uniformly distributed integer numbers from 1 to 365\n",
    "        days = np.random.randint(low=1, high=365, size=N)\n",
    "        unique_bdays = np.unique(days)\n",
    "        nsame.append((np.size(days)-np.size(unique_bdays)+1) // 2 )\n",
    "    n_same_bday = np.mean(nsame)\n",
    "    error = np.sqrt(np.var(nsame)/(nt-1))\n",
    "    print(\"for N = %d people there are %.3g +- %.3g pairs with the same b-day\"%(\n",
    "        N, n_same_bday, error))"
   ]
  },
  {
   "cell_type": "markdown",
   "metadata": {
    "slideshow": {
     "slide_type": "skip"
    }
   },
   "source": [
    "The code above uses <tt>numpy.random.randint</tt> routine to generate uniformly distributed integer numbers from 1 to 365. *Uniformly distributed* means that any number has the same probability to be drawn ($=1/365$). Similarly, the \"differential evolution\" minimization algorithm uses uniformly distributed integer numbers to select indices of the population members that are involved in mutation. \n",
    "\n",
    "How can this be done if we are using a routine that must do something deterministic? To understand this, we need to learn a bit about algorithms that generate *pseudo-random numbers.* Introduction to such algorithms is presented in the <a href=\"06a_prngs.ipynb\"><tt>06a_prngs.ipynb</tt></a> notebook. \n",
    "\n",
    "The algorithms for generating uniformly distributed pseudo-random numbers form the basis for algorithms that produce random numbers that follow other distributions, such as the Gaussian distribution used in the \"random walk\" minimization algorithm. "
   ]
  },
  {
   "cell_type": "markdown",
   "metadata": {
    "slideshow": {
     "slide_type": "slide"
    }
   },
   "source": [
    "### Monte Carlo integration\n",
    "\n",
    "An average of some function $f(x)$ over a probability distribution function (pdf), $p(x)$, in an interval $[a,b]$ is:\n",
    "\n",
    "$$\n",
    "\\langle f\\rangle_p \\equiv \\int\\limits_a^b f(x)\\, p(x)\\,dx\n",
    "$$"
   ]
  },
  {
   "cell_type": "markdown",
   "metadata": {
    "slideshow": {
     "slide_type": "fragment"
    }
   },
   "source": [
    "The meaning of $\\langle f\\rangle_p$ is the average of $f$ over distribution $p(x)$. Its approximation using $N$ discrete samples, $\\{x_i\\}$ with $i=0,\\ldots,N-1$, drawn from $p(x)$  is \n",
    "\n",
    "$$\\langle f\\rangle_p \\approx \\frac{1}{N}\\,\\sum\\limits_{i=0}^{N-1} f(x_i).\n",
    "$$"
   ]
  },
  {
   "cell_type": "markdown",
   "metadata": {
    "slideshow": {
     "slide_type": "slide"
    }
   },
   "source": [
    "### Monte Carlo integration in the case of uniform distribution $p(x)=u_{[a,b]}$:\n",
    "\n",
    "Let's consider a uniform pdf  $p(x) = u_{[a,b]}= 1/(b-a)$ for $x\\in[a,b]$ and $p(x)=0$ elsewhere. Then\n",
    "$$\n",
    "\\langle f\\rangle_p =\\frac{1}{b-a}\\,\\int\\limits_a^b f(x)\\,dx.\n",
    "$$\n",
    "\n",
    "Thus, we can compute the integral of $f(x)$ over $[a,b]$ as\n",
    "\n",
    "$$\n",
    "\\int\\limits_a^b f(x)\\,dx = (b-a)\\,\\langle f\\rangle_p \\approx \\frac{b-a}{N}\\,\\sum\\limits_{i=0}^{N-1} f(x_i),\n",
    "$$\n",
    "\n",
    "where the last expression on the right assumes that $f$ is evaluated at $N$ random samples, $x_i$, uniformly distributed over the interval and estimates the average using these discrete samples. "
   ]
  },
  {
   "cell_type": "markdown",
   "metadata": {
    "slideshow": {
     "slide_type": "skip"
    }
   },
   "source": [
    "How does the leading *truncation error* term of this estimate scale with $N$? We can find this out experimentally. "
   ]
  },
  {
   "cell_type": "markdown",
   "metadata": {
    "slideshow": {
     "slide_type": "slide"
    }
   },
   "source": [
    "### Monte Carlo integration: a test\n",
    "\n",
    "Here is a simple illustration of the Monte Carlo integration and its accuracy, using function $f(x)=e^{-x}$. It's a useful example because such exponential behavior is common in practice and function is rapidly changing. At the same time, we know the exact answer, which is useful for testing the method. "
   ]
  },
  {
   "cell_type": "code",
   "execution_count": 36,
   "metadata": {},
   "outputs": [],
   "source": [
    "Ntries = 100\n",
    "\n",
    "Nr = 10**(np.linspace(2, 6, Ntries))\n",
    "\n",
    "fint = np.zeros(Ntries)\n",
    "\n",
    "def func(x):\n",
    "    return np.exp(-x)\n",
    "\n",
    "def mc_integral(func, a, b, nr, *args):\n",
    "    assert(a<b)\n",
    "    return (b-a)*np.average(func(a + np.random.uniform(a, b, np.int(nr)), *args))\n",
    "\n",
    "a = 0.; b = 10.\n",
    "\n",
    "for i, Nrd in enumerate(Nr): \n",
    "    fint[i] = mc_integral(func, a, b, Nrd)"
   ]
  },
  {
   "cell_type": "code",
   "execution_count": 37,
   "metadata": {},
   "outputs": [],
   "source": [
    "fexact = -(np.exp(-b) - np.exp(-a)) \n",
    "ferr = np.abs(1. - fint/fexact)"
   ]
  },
  {
   "cell_type": "code",
   "execution_count": 38,
   "metadata": {
    "slideshow": {
     "slide_type": "slide"
    }
   },
   "outputs": [
    {
     "data": {
      "image/png": "[encoded data removed]",
      "text/plain": [
       "<Figure size 450x450 with 1 Axes>"
      ]
     },
     "metadata": {
      "needs_background": "light"
     },
     "output_type": "display_data"
    }
   ],
   "source": [
    "from codes.plot_utils import plot_line_points \n",
    "\n",
    "ferr_model = np.abs(ferr[0])*np.sqrt(1.*Nr[0]/Nr)\n",
    "\n",
    "plot_line_points(np.log10(Nr), np.log10(ferr_model), \n",
    "                 xlabel=r'$\\log_{10}\\,N_{\\rm random\\ points}$', ylabel = r'$\\log_{10}\\,\\vert\\rm fractional\\ error\\vert$',\n",
    "                 xp=np.log10(Nr), yp=np.log10(ferr), legend=r'$\\epsilon\\propto 1/\\sqrt{N}$', legendloc='lower left',\n",
    "                 points=True, grid=True, figsize=3)"
   ]
  },
  {
   "cell_type": "markdown",
   "metadata": {
    "slideshow": {
     "slide_type": "skip"
    }
   },
   "source": [
    "Fractional error scales as $\\propto 1/\\sqrt{N}$. This is a generic feature of the Monte Carlo algorithms, because their accuracy is dominated by the Poisson shot noise. "
   ]
  },
  {
   "cell_type": "markdown",
   "metadata": {
    "slideshow": {
     "slide_type": "slide"
    }
   },
   "source": [
    "\"*Monte Carlo is an extremely bad method; it should be used only when all alternative methods\n",
    "are worse.*” – A.D. Sokal, <a href=\"https://pdfs.semanticscholar.org/0bfe/9e3db30605fe2d4d26e1a288a5e2997e7225.pdf\">MCMC Lecture notes, 1996</a>\n",
    "\n",
    "Cases when all other methods are worse or are impossible to use usually involve sampling or integrating in more than 3 dimensions. In three or less dimensions faster and much more accurate integration methods are available! They are all built upon the integration methods developed for 1D integration. "
   ]
  },
  {
   "cell_type": "markdown",
   "metadata": {
    "slideshow": {
     "slide_type": "skip"
    }
   },
   "source": [
    "### Recommended reading on the history and logic of Monte Carlo\n",
    "\n",
    "<a href=\"https://library.lanl.gov/cgi-bin/getfile?00326866.pdf\">\"The beginning of the Monte Carlo method\"</a> a short paper by <a href=\"https://en.wikipedia.org/wiki/Nicholas_Metropolis\">Nicholas Metropolis</a> on the history of Monte Carlo approach.\n",
    "\n",
    "<a href=\"http://www-star.st-and.ac.uk/~kw25/teaching/mcrt/MC_history_3.pdf\">Two papers</a> on the history of Monte Carlo method and PNRGs by Roger Eckhardt and Tony Warnock."
   ]
  }
 ],
 "metadata": {
  "celltoolbar": "Slideshow",
  "kernelspec": {
   "display_name": "Python 3",
   "language": "python",
   "name": "python3"
  },
  "language_info": {
   "codemirror_mode": {
    "name": "ipython",
    "version": 3
   },
   "file_extension": ".py",
   "mimetype": "text/x-python",
   "name": "python",
   "nbconvert_exporter": "python",
   "pygments_lexer": "ipython3",
   "version": "3.7.4"
  }
 },
 "nbformat": 4,
 "nbformat_minor": 1
}
