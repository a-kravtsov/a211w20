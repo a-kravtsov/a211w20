{
 "cells": [
  {
   "cell_type": "markdown",
   "metadata": {
    "slideshow": {
     "slide_type": "skip"
    }
   },
   "source": [
    "# ASTR 21100 \n",
    "\n",
    "# \"Computational Techniques in Astrophysics\"\n",
    "\n",
    "## Instructor: Andrey Kravtsov\n",
    "\n",
    "### office: ERC 415; email: kravtsov@uchicago.edu\n",
    "### office hours: Tue, 10:30am-noon (unless noted otherwise)\n",
    "\n",
    "#### Teaching Assistants: \n",
    "#### Dimitrios Tanoglidis (dtanoglidis@uchicaago.edu)\n",
    "#### Georgios Zakharegkas (gzakharegkas@uchicago.edu)"
   ]
  },
  {
   "cell_type": "markdown",
   "metadata": {
    "slideshow": {
     "slide_type": "slide"
    }
   },
   "source": [
    "## Optimization methods \n",
    "\n",
    "Optimization is numerical computations of the function parameter values, for which the function has minimum or maximum. \n",
    "\n",
    "Given that any maximum of $f(\\mathbf{x})$ is a minimum of $-f(\\mathbf{x})$, the actual methods focus on minimizing the function. The same methods can be used for finding the maximum if we apply it to the negative of the function. "
   ]
  },
  {
   "cell_type": "code",
   "execution_count": 1,
   "metadata": {
    "slideshow": {
     "slide_type": "skip"
    }
   },
   "outputs": [],
   "source": [
    "import numpy as np \n",
    "\n",
    "# use jupyter \"magic\" command to tell it to embed plot into the notebook \n",
    "import matplotlib.pyplot as plt\n",
    "%matplotlib inline\n",
    "# reusing my codes from the repository\n",
    "from codes.plot_utils import plot_pretty\n",
    "plot_pretty(dpi=150, fontsize=12)"
   ]
  },
  {
   "cell_type": "code",
   "execution_count": 2,
   "metadata": {
    "slideshow": {
     "slide_type": "skip"
    }
   },
   "outputs": [],
   "source": [
    "plot_pretty(dpi=150, fontsize=12)"
   ]
  },
  {
   "cell_type": "markdown",
   "metadata": {
    "slideshow": {
     "slide_type": "slide"
    }
   },
   "source": [
    "### Taylor expansion of a multi-dimensional function\n",
    "\n",
    "Taylor expansion of the function of $D$ variables combined in a vector $\\mathbf{x}=(x_0, x_1,\\ldots, x_{D-1})$ of size $D$ around some point $\\mathbf{x}_0$ is\n",
    "\n",
    "$$f(\\mathbf{x})=f(\\mathbf{x}_0)+ \\nabla f(\\mathbf{x}_0)\\,(\\mathbf{x}-\\mathbf{x}_0) + \\frac{1}{2}\\,(\\mathbf{x}-\\mathbf{x}_0)^\\intercal\\,\\nabla^2f(\\mathbf{x}_0)\\, (\\mathbf{x}-\\mathbf{x}_0).$$ \n",
    "\n",
    "Here $^\\intercal$ indicates <a href=\"https://en.wikipedia.org/wiki/Transpose\">transpose</a> of the vector, while $\\nabla$ and $\\nabla^2$ are called the ***gradient*** vector and the ***Hessian*** matrix, respectively, and are the first and second derivatives in $D$-dimensions:\n",
    "\n",
    "$$\\nabla f = \\left(\\frac{\\partial f}{\\partial x_0}, \\frac{\\partial f}{\\partial x_1},\\ldots,\\frac{\\partial f}{\\partial x_{D-1}}\\right)$$\n",
    "\n",
    "$$\\nabla^2 f = \n",
    "\\begin{bmatrix}\n",
    "\\frac{\\partial^2f}{\\partial x_0^2} & \\frac{\\partial^2f}{\\partial x_0\\partial x_1} &\\ldots &\\ldots & \\frac{\\partial^2f}{\\partial x_0\\partial x_{D-1}}\\\\\n",
    "\\frac{\\partial^2f}{\\partial x_1\\partial x_0} & \\frac{\\partial^2f}{\\partial x_1^2} & \\frac{\\partial^2f}{\\partial x_1\\partial x_2} & \\ldots & \\frac{\\partial^2f}{\\partial x_1\\partial x_{D-1}}\\\\\n",
    "\\vdots & & \\ddots & & \\vdots\\\\\n",
    "\\frac{\\partial^2f}{\\partial x_{D-1}\\partial x_0} & \\frac{\\partial^2f}{\\partial x_{D-1}\\partial x_1} & \\ldots& \\dots& \\frac{\\partial^2f}{\\partial x_{D-1}^2} \n",
    "\\end{bmatrix}\n",
    "$$"
   ]
  },
  {
   "cell_type": "markdown",
   "metadata": {
    "slideshow": {
     "slide_type": "slide"
    }
   },
   "source": [
    "### Properties of the gradient and Hessian around function extrema\n",
    "\n",
    "We will use $g(\\mathbf{x})=\\nabla f(\\mathbf{x})$ and $H(\\mathbf{x})=\\nabla^2 f(\\mathbf{x})$ to denote the gradient and Hessian for convenience. \n",
    "\n",
    "Minima and maxima of a function are called its *extrema* and from calculus it is known that at an extremum point $\\mathbf{x}_{\\rm ex}$, gradient is zero:\n",
    "\n",
    "$$g(\\mathbf{x}_{\\rm ex})=0.$$\n",
    "\n",
    "The sign of $H(\\mathbf{x}_{\\rm ex})$ determines whether $\\mathbf{x}_{\\rm ex}$ is minimum or maximum:\n",
    "\n",
    "$$\\mathbf{x}_{\\rm ex}\\ \\ \\mathrm{is}\\ \\ \\ \n",
    "\\begin{cases}\n",
    "\\mathrm{minimum},\\ H(\\mathbf{x}_{\\rm ex})\\ {\\rm is\\ positive\\ semi-definite},\\\\\n",
    "\\mathrm{maximum},\\ H(\\mathbf{x}_{\\rm ex})\\ {\\rm is\\ negative\\ semi-definite},\n",
    "\\end{cases}$$"
   ]
  },
  {
   "cell_type": "markdown",
   "metadata": {
    "slideshow": {
     "slide_type": "slide"
    }
   },
   "source": [
    "Taking gradient of the Taylor expansion of $f(\\mathbf{x})$ and applying chain rule of differentiation to the term in the expansion we can derive, retaining only the first few terms: \n",
    "\n",
    "$$\\nabla f(\\mathbf{x})\\approx \\nabla f(\\mathbf{x}_0) +\\nabla^2 f(\\mathbf{x}_0)(\\mathbf{x}- \\mathbf{x}_0) + \\nabla f(\\mathbf{x}_0) + \\nabla^2 f(\\mathbf{x}_0)(\\mathbf{x}- \\mathbf{x}_0) = 2\\mathbf{g}(\\mathbf{x}_0) + 2\\mathbf{H}(\\mathbf{x}_0)\\,(\\mathbf{x}- \\mathbf{x}_0).$$\n",
    "\n",
    "If $\\mathbf{x}=\\mathbf{x}_{\\rm ex}$ is an extremum, $\\nabla f(\\mathbf{x}_{\\rm ex})=0$ and thus\n",
    "\n",
    "$$\\mathbf{g}(\\mathbf{x}_0) + \\mathbf{H}(\\mathbf{x}_0)\\,(\\mathbf{x}_{\\rm ex}- \\mathbf{x}_0)=0$$\n",
    "\n",
    "or solving for $\\mathbf{x}_{\\rm ex}$ we have\n",
    "\n",
    "$$\\mathbf{x}_{\\rm ex} = \\mathbf{x}_0 - \\mathbf{H}^{-1}(\\mathbf{x}_0)\\cdot \\mathbf{g}(\\mathbf{x}_0),$$\n",
    "\n",
    "where $\\mathbf{H}^{-1}$ is the inverse of the Hessian matrix. "
   ]
  },
  {
   "cell_type": "markdown",
   "metadata": {
    "slideshow": {
     "slide_type": "slide"
    }
   },
   "source": [
    "\n",
    "Many optimization methods are based on this because it gives an approximation for where extremum is relative to the point $\\boldsymbol{\\chi}$. \n",
    "\n",
    "$$\\mathbf{x}_{\\rm ex} = \\mathbf{x}_0 - \\mathbf{H}^{-1}(\\mathbf{x}_0)\\cdot \\mathbf{g}(\\mathbf{x}_0),$$\n",
    "\n",
    " \n",
    "Different methods make different assumptions about $\\mathbf{H}^{-1}$ or choices for its calculation. "
   ]
  },
  {
   "cell_type": "markdown",
   "metadata": {
    "slideshow": {
     "slide_type": "slide"
    }
   },
   "source": [
    "### Steepest descent method\n",
    "\n",
    "assumes that the inverse of the Hessian matrix is equal to the identity matrix (matrix with 1's on the diagonal and zeros elsewhere), $\\mathbf{H}^{-1}=I$, which turns the equation into \n",
    "\n",
    "$$\\mathbf{x}_{\\rm ex} = \\mathbf{x}_0 -  \\mathbf{g}(\\mathbf{x}_0),$$\n",
    "\n",
    "The method proceeds from the starting point $\\mathbf{x}_0$ by making a number of steps, with each $(n+1)$-th step moving from point $ \\mathbf{x}_n$ to  $\\mathbf{x}_{n+1}$ as follows:\n",
    "\n",
    "$$ \\mathbf{x}_{n+1} =  \\mathbf{x}_n - \\gamma\\, \\mathbf{g}( \\mathbf{x}_n),$$\n",
    "\n",
    "where $\\gamma$ is a parameter that controls the size of the steps relative to the gradient. "
   ]
  },
  {
   "cell_type": "markdown",
   "metadata": {
    "slideshow": {
     "slide_type": "skip"
    }
   },
   "source": [
    "In these methods $\\gamma$ needs to be chosen somehow and tuned, if optimal performance is needed. However, optimal value of $\\gamma$ will differ for different functions $f$. \n",
    "\n",
    "Thus, in the gradient methods like there is a problem of optimal choice of step size parameter."
   ]
  },
  {
   "cell_type": "markdown",
   "metadata": {
    "slideshow": {
     "slide_type": "slide"
    }
   },
   "source": [
    "### Conjugate Gradient method\n",
    "\n",
    "Conjugate gradient methods dispense with the Hessian matrix\n",
    "altogether, opting instead to use line optimizations in conjugate directions\n",
    "to avoid computing second-order derivatives."
   ]
  },
  {
   "cell_type": "markdown",
   "metadata": {
    "slideshow": {
     "slide_type": "slide"
    }
   },
   "source": [
    "### Quasi-Newton methods \n",
    "\n",
    "Use user-provided (in cases when second derivatives can be computed analytically) or approximate the inverse of the Hessian matrix in different ways and inolve substantial linear algebra calculations. \n",
    "\n",
    "These methods  include the <a href=\"https://en.wikipedia.org/wiki/Broyden%E2%80%93Fletcher%E2%80%93Goldfarb%E2%80%93Shanno_algorithm\">Broyden–Fletcher–\n",
    "Goldfarb–Shanno</a> (BFGS) method "
   ]
  },
  {
   "cell_type": "markdown",
   "metadata": {
    "slideshow": {
     "slide_type": "slide"
    }
   },
   "source": [
    "### Examples: finding minimum of the Rosenbrock function\n",
    "\n",
    "Rosenbrock function is described by the following equation in 2D (i.e. for two parameters $x$ and $y$): \n",
    "\n",
    "$$r(x,y) = (a-x)^2 + b(y-x^2)^2,$$\n",
    "\n",
    "which is often used for testing optimization and sampling algorithms, particularly with $a=1$, $b=100$ most often used. It has a global minimum at $(x,y)=(a,a^2)$ at which $f(x,y)=0$, as is clear from the equation above. "
   ]
  },
  {
   "cell_type": "markdown",
   "metadata": {
    "slideshow": {
     "slide_type": "skip"
    }
   },
   "source": [
    "This is because this function is quite \"difficult\" despite its benign-looking functional form. The function spans a wide range of values over small change of parameters has a strongly \"curved\" valley in the $x-y$ plane which extends  values to large values of $x$ and $y$. \n",
    "\n",
    "The function is named after Howard H. Rosenbrock, who introduced it as a test case for a minimization algorithm he developed in a <a href=\"https://academic.oup.com/comjnl/article/3/3/175/345501\">paper</a> in 1960. "
   ]
  },
  {
   "cell_type": "markdown",
   "metadata": {
    "slideshow": {
     "slide_type": "fragment"
    }
   },
   "source": [
    "The multi-dimensional extension of the Rosenbrock function for $D$-dimensional space of parameters $\\mathbf{x}=\\{x_0,x_1.\\ldots,x_{D-1}\\}$ is\n",
    "\n",
    "$$r(\\mathbf{x})=\\sum\\limits_{i=0}^{D-1}\\left[b(x_{i+1}-x_i^2)^2 + (a-x_i)^2\\right].$$"
   ]
  },
  {
   "cell_type": "markdown",
   "metadata": {
    "slideshow": {
     "slide_type": "skip"
    }
   },
   "source": [
    "Note that $-r(\\mathbf{x})$ will be a function with a long curved \"ridge\" instead of \"valley\". Such function is often used in testing sampling algorithm and we will see it again when we talk about MCMC sampling. \n",
    "\n",
    "The routine below that was taken from the SciPy optimize package tutorials uses Python's vector slicing to calculate the function for $a=1$, $b=100$. Note that this implementation does not explicitly deal with dimensionality of the input vector $\\mathbf{x}$, this is done automatically using vector operations. Thus, the same code works for $\\mathbf{x}$ of different dimensions. Below we will use this function as a test case to find its minimum for 2D and 5D cases.    "
   ]
  },
  {
   "cell_type": "code",
   "execution_count": 128,
   "metadata": {
    "slideshow": {
     "slide_type": "slide"
    }
   },
   "outputs": [],
   "source": [
    "def rosenbrock(x):\n",
    "    \"\"\"The Rosenbrock \"banana\" function\n",
    "    x is a vector of points in 2 or more dimensional space\n",
    "    \"\"\"\n",
    "    return sum(100.0*(x[1:]-x[:-1]**2.0)**2.0 + (1-x[:-1])**2.0)\n"
   ]
  },
  {
   "cell_type": "code",
   "execution_count": 129,
   "metadata": {
    "slideshow": {
     "slide_type": "skip"
    }
   },
   "outputs": [],
   "source": [
    "# define a grid of x and y for calculations and plotting\n",
    "xmin, xmax, ng = -10, 10, 100\n",
    "ymin, ymax = -50, 100\n",
    "x = np.linspace(xmin, xmax, ng)\n",
    "y = np.linspace(ymin, ymax, ng)\n",
    "\n",
    "# generate a 2d grid of x and y points\n",
    "xg, yg = np.meshgrid(x, y)\n",
    "\n",
    "# form a single array of 2D vectors \n",
    "x = np.vstack([xg.ravel(), yg.ravel()])\n",
    "\n",
    "# compute the Rosenbrock function and reshape the output into ng x ng grid for plotting\n",
    "rg = rosenbrock(x).reshape((ng,ng))\n"
   ]
  },
  {
   "cell_type": "code",
   "execution_count": 130,
   "metadata": {
    "slideshow": {
     "slide_type": "skip"
    }
   },
   "outputs": [],
   "source": [
    "from codes.plot_utils import plot_color_map\n"
   ]
  },
  {
   "cell_type": "code",
   "execution_count": 131,
   "metadata": {
    "slideshow": {
     "slide_type": "slide"
    }
   },
   "outputs": [
    {
     "data": {
      "image/png": "[encoded data removed]",
      "text/plain": [
       "<Figure size 450x450 with 2 Axes>"
      ]
     },
     "metadata": {
      "needs_background": "light"
     },
     "output_type": "display_data"
    }
   ],
   "source": [
    "#xg, yg are 2D \"grids\" of x and y generated by meshgrid\n",
    "# rg is 2D array with values of the Rosenbrock function for xg-yg grid\n",
    "\n",
    "# contour levels; fairly arbitrary choice here, just to show the range of function values.\n",
    "levs = np.log10(rg.min()+0.1*np.arange(1,10)**7)\n",
    "\n",
    "plot_color_map(xg, yg, np.log10(rg), xlim=[xmin,xmax], ylim=[ymin,ymax], \n",
    "                   xlabel = r'$x$', ylabel = '$y$', cmap='winter', colorbar=True, \n",
    "                   plot_title=r'$\\rm \\log_{10} Rosenbrock\\ function\\ in\\ 2D$', contours=True, contcmap='winter', levels = levs, \n",
    "                   figsize=3.0)\n"
   ]
  },
  {
   "cell_type": "markdown",
   "metadata": {},
   "source": [
    "Derivatives of the Rosenbrock function in 2D with respect to $x$ and $y$ are relatively straightforward:\n",
    "\n",
    "$$\\frac{\\partial r}{\\partial x} = -400(y-x^2) - 2(1-x);\\ \\ \\ \\ \\ \\ \\frac{\\partial r}{\\partial y}=200(y-x^2).$$\n",
    "\n",
    "Derivatives in more dimensions have, of course, more terms, but overall have similar structure with respect to $x_i$ and $x_{i+1}$. These are implemented for an arbitrary number of dimensions in the routine below."
   ]
  },
  {
   "cell_type": "code",
   "execution_count": 54,
   "metadata": {
    "slideshow": {
     "slide_type": "slide"
    }
   },
   "outputs": [],
   "source": [
    "def rosen_der(x):\n",
    "    xm = x[1:-1]\n",
    "    xm_m1 = x[:-2]\n",
    "    xm_p1 = x[2:]\n",
    "    der = np.zeros_like(x)\n",
    "    der[1:-1] = 200.*(xm-xm_m1**2) - 400.*(xm_p1 - xm**2)*xm - 2.*(1-xm)\n",
    "    der[0] = -400.*x[0]*(x[1]-x[0]**2) - 2.*(1-x[0])\n",
    "    der[-1] = 200.*(x[-1]-x[-2]**2)\n",
    "    return der\n"
   ]
  },
  {
   "cell_type": "markdown",
   "metadata": {
    "slideshow": {
     "slide_type": "skip"
    }
   },
   "source": [
    "We can use the knowledge of analytic derivative expression to employ methods that rely on gradient of the functions, such as Conjugate Gradient method and BFGS. "
   ]
  },
  {
   "cell_type": "code",
   "execution_count": 138,
   "metadata": {
    "slideshow": {
     "slide_type": "slide"
    }
   },
   "outputs": [
    {
     "name": "stdout",
     "output_type": "stream",
     "text": [
      "Optimization terminated successfully.\n",
      "         Current function value: 0.000000\n",
      "         Iterations: 44\n",
      "         Function evaluations: 102\n",
      "         Gradient evaluations: 102\n",
      "minimum at : [1.00000007 1.00000015]\n"
     ]
    }
   ],
   "source": [
    "x0 = [-10, 10]\n",
    "\n",
    "res = minimize(rosenbrock, x0, method='CG', jac=rosen_der,\n",
    "               options={ 'disp': True})\n",
    "\n",
    "print(\"minimum at :\",res.x)"
   ]
  },
  {
   "cell_type": "code",
   "execution_count": 139,
   "metadata": {
    "slideshow": {
     "slide_type": "skip"
    }
   },
   "outputs": [],
   "source": [
    "from timeit import default_timer"
   ]
  },
  {
   "cell_type": "code",
   "execution_count": 150,
   "metadata": {
    "slideshow": {
     "slide_type": "slide"
    }
   },
   "outputs": [
    {
     "name": "stdout",
     "output_type": "stream",
     "text": [
      "Optimization terminated successfully.\n",
      "         Current function value: 3.930839\n",
      "         Iterations: 120\n",
      "         Function evaluations: 221\n",
      "         Gradient evaluations: 221\n",
      "completed in 0.013 sec\n",
      "minimum at: [-0.96205103  0.9357394   0.88071361  0.77787768  0.60509367]\n"
     ]
    }
   ],
   "source": [
    "# try in 5D\n",
    "x0 = [-10, 10, -5, 10, 5]\n",
    "\n",
    "tstart = default_timer()\n",
    "res = minimize(rosenbrock, x0, method='CG', jac=rosen_der, options={ 'disp': True})\n",
    "\n",
    "print(\"completed in %.3g sec\"%(default_timer() - tstart))\n",
    "print(\"minimum at:\", res.x)"
   ]
  },
  {
   "cell_type": "markdown",
   "metadata": {
    "slideshow": {
     "slide_type": "skip"
    }
   },
   "source": [
    "This does not look too good, although result depends on the starting point. For example, changing the first value in $\\mathbf{x}_0$ from $-10$ to $10$ results in the correct minimum. \n",
    "\n",
    "The same applies to the BFGS algorithm used below. "
   ]
  },
  {
   "cell_type": "code",
   "execution_count": 151,
   "metadata": {
    "slideshow": {
     "slide_type": "slide"
    }
   },
   "outputs": [
    {
     "name": "stdout",
     "output_type": "stream",
     "text": [
      "Warning: Desired error not necessarily achieved due to precision loss.\n",
      "         Current function value: 3.930839\n",
      "         Iterations: 107\n",
      "         Function evaluations: 124\n",
      "         Gradient evaluations: 123\n",
      "completed in 0.0135 sec\n",
      "minimum at : [-0.96205102  0.9357394   0.8807136   0.77787768  0.60509368]\n"
     ]
    }
   ],
   "source": [
    "from scipy.optimize import minimize\n",
    "\n",
    "x0 = [-10, 10, -5, 10, 5]\n",
    "\n",
    "tstart = default_timer()\n",
    "res = minimize(rosenbrock, x0, method='BFGS', jac=rosen_der,\n",
    "               options={'gtol': 1e-10,  'disp': True})\n",
    "\n",
    "print(\"completed in %.3g sec\"%(default_timer() - tstart))\n",
    "print(\"minimum at :\",res.x)"
   ]
  },
  {
   "cell_type": "markdown",
   "metadata": {
    "slideshow": {
     "slide_type": "skip"
    }
   },
   "source": [
    "These issues in many dimensions is what motivates methods based on the knowledge or approximations of the Hessian matrix. "
   ]
  },
  {
   "cell_type": "code",
   "execution_count": 61,
   "metadata": {
    "slideshow": {
     "slide_type": "slide"
    }
   },
   "outputs": [],
   "source": [
    "def rosen_hess(x):\n",
    "    \"\"\"\n",
    "    Hessian matrix of the multivariate Rosenbrock function\n",
    "    \"\"\"\n",
    "    x = np.asarray(x)\n",
    "    H = np.diag(-400.*x[:-1],1) - np.diag(400.*x[:-1],-1)\n",
    "    diagonal = np.zeros_like(x)\n",
    "    diagonal[0] = 1200.*x[0]**2  -400.*x[1]+2\n",
    "    diagonal[-1] = 200.\n",
    "    diagonal[1:-1] = 202. + 1200.*x[1:-1]**2 - 400.*x[2:]\n",
    "    H = H + np.diag(diagonal)\n",
    "    return H"
   ]
  },
  {
   "cell_type": "markdown",
   "metadata": {
    "slideshow": {
     "slide_type": "slide"
    }
   },
   "source": [
    "A quasi-Newton method Newton-Conjugate Gradient"
   ]
  },
  {
   "cell_type": "code",
   "execution_count": 62,
   "metadata": {
    "slideshow": {
     "slide_type": "-"
    }
   },
   "outputs": [
    {
     "name": "stdout",
     "output_type": "stream",
     "text": [
      "Optimization terminated successfully.\n",
      "         Current function value: 0.000000\n",
      "         Iterations: 67\n",
      "         Function evaluations: 82\n",
      "         Gradient evaluations: 148\n",
      "         Hessian evaluations: 67\n",
      "[1. 1. 1. 1. 1.]\n"
     ]
    }
   ],
   "source": [
    "res = minimize(rosenbrock, x0, method='Newton-CG',\n",
    "               jac=rosen_der, hess=rosen_hess,\n",
    "               options={'xtol': 1e-10, 'disp': True})\n",
    "\n",
    "print(res.x)"
   ]
  },
  {
   "cell_type": "markdown",
   "metadata": {
    "slideshow": {
     "slide_type": "slide"
    }
   },
   "source": [
    "A different implementation of Newton-CG method that allows definition of boundaries. "
   ]
  },
  {
   "cell_type": "code",
   "execution_count": 63,
   "metadata": {
    "slideshow": {
     "slide_type": "-"
    }
   },
   "outputs": [
    {
     "name": "stdout",
     "output_type": "stream",
     "text": [
      "Optimization terminated successfully.\n",
      "         Current function value: 0.000000\n",
      "         Iterations: 69\n",
      "         Function evaluations: 70\n",
      "         Gradient evaluations: 60\n",
      "         Hessian evaluations: 59\n",
      "[1. 1. 1. 1. 1.]\n"
     ]
    }
   ],
   "source": [
    "res = minimize(rosenbrock, x0, method='trust-ncg',\n",
    "               jac=rosen_der, hess=rosen_hess,\n",
    "               options={'gtol': 1e-8, 'disp': True})\n",
    "print(res.x)"
   ]
  },
  {
   "cell_type": "code",
   "execution_count": 64,
   "metadata": {
    "slideshow": {
     "slide_type": "slide"
    }
   },
   "outputs": [
    {
     "name": "stdout",
     "output_type": "stream",
     "text": [
      "Optimization terminated successfully.\n",
      "         Current function value: 0.000000\n",
      "         Iterations: 41\n",
      "         Function evaluations: 42\n",
      "         Gradient evaluations: 35\n",
      "         Hessian evaluations: 42\n",
      "[1. 1. 1. 1. 1.]\n"
     ]
    }
   ],
   "source": [
    "res = minimize(rosenbrock, x0, method='trust-exact',\n",
    "               jac=rosen_der, hess=rosen_hess,\n",
    "               options={'gtol': 1e-10, 'disp': True})\n",
    "print(res.x)"
   ]
  },
  {
   "cell_type": "markdown",
   "metadata": {
    "slideshow": {
     "slide_type": "skip"
    }
   },
   "source": [
    "What about the cases when analytical expressions for derivative do not exist? "
   ]
  },
  {
   "cell_type": "markdown",
   "metadata": {
    "slideshow": {
     "slide_type": "slide"
    }
   },
   "source": [
    "### Numerical evaluation of derivatives"
   ]
  },
  {
   "cell_type": "markdown",
   "metadata": {
    "slideshow": {
     "slide_type": "fragment"
    }
   },
   "source": [
    "Taylor expansion of $f(x)$ arond $x_0$:\n",
    "$$f(x) =f(x_0)+f^\\prime(x_0)\\,(x-x_0)+\\frac{1}{2}f^{\\prime\\prime}(x_0)\\,(x-x_0)^2 + \\frac{1}{6}f^{(3)}(x_0)\\,(x-x_0)^3+ \\mathcal{O}[(x-x_0)^4].$$"
   ]
  },
  {
   "cell_type": "markdown",
   "metadata": {
    "slideshow": {
     "slide_type": "skip"
    }
   },
   "source": [
    "The term $\\mathcal{O}[(x-x_0)^4]$ is the standard shorthand for ``and terms of order 4 and higher''."
   ]
  },
  {
   "cell_type": "markdown",
   "metadata": {},
   "source": [
    "Let's use this expression to evaluate it at $x=x_0-h$ and $x=x_0+h$, where $h$ is some small value:\n",
    "\n",
    "$$f(x-h) = f(x_0) - f^\\prime(x_0)\\,h+\\frac{1}{2}f^{\\prime\\prime}(x_0)\\,h^2 - \\frac{1}{6}f^{(3)}(x_0)\\,h^3+ \\mathcal{O}(h^4).$$\n",
    "\n",
    "$$f(x+h) = f(x_0) + f^\\prime(x_0)\\,h+\\frac{1}{2}f^{\\prime\\prime}(x_0)\\,h^2 + \\frac{1}{6}f^{(3)}(x_0)\\,h^3+ \\mathcal{O}(h^4).$$\n",
    "\n",
    "Thus, $$f(x+h)-f(x-h) = 2\\,f^\\prime(x_0)\\,h+ \\frac{1}{3}f^{(3)}(x_0)\\,h^3 + \\mathcal{O}(h^5),$$\n",
    "\n",
    "which gives \n",
    "\n",
    "$$f^\\prime(x_0)=\\frac{f(x+h)-f(x-h)}{2h} - \\frac{1}{6}f^{(3)}(x_0)\\,h^2 + \\mathcal{O}(h^4)$$"
   ]
  },
  {
   "cell_type": "code",
   "execution_count": 179,
   "metadata": {},
   "outputs": [],
   "source": [
    "def der(func, x, h):\n",
    "    return 0.5*(func(x+h) - func(x-h))/h"
   ]
  },
  {
   "cell_type": "code",
   "execution_count": 182,
   "metadata": {},
   "outputs": [],
   "source": [
    "nsteps = np.arange(25)\n",
    "ders = np.zeros(np.shape(nsteps)[0])\n",
    "\n",
    "hsteps = 1.0 / np.power(2., nsteps)\n",
    "x0 = 1.0\n",
    "\n",
    "for i, ns in enumerate(nsteps):\n",
    "    ders[i] = der(np.exp, x0, hsteps[i])\n",
    "     \n",
    "fexact = np.e\n",
    "ferr = np.abs(1. - ders/fexact)"
   ]
  },
  {
   "cell_type": "code",
   "execution_count": 172,
   "metadata": {
    "slideshow": {
     "slide_type": "skip"
    }
   },
   "outputs": [],
   "source": [
    "from codes.plot_utils import plot_line_points"
   ]
  },
  {
   "cell_type": "code",
   "execution_count": 183,
   "metadata": {
    "slideshow": {
     "slide_type": "slide"
    }
   },
   "outputs": [
    {
     "data": {
      "image/png": "[encoded data removed]",
      "text/plain": [
       "<Figure size 600x600 with 1 Axes>"
      ]
     },
     "metadata": {
      "needs_background": "light"
     },
     "output_type": "display_data"
    }
   ],
   "source": [
    "ferr_model = ferr[0] * (hsteps/hsteps[0])**2\n",
    "\n",
    "plot_line_points(np.log10(hsteps), np.log10(ferr_model), \n",
    "                 xp=np.log10(hsteps), yp=np.log10(np.maximum(2.e-16,ferr)), points=True,\n",
    "                 xlabel=r'$h$', ylabel=r'$\\log_{10}\\vert\\rm fractional\\ error\\vert$', \n",
    "                 plot_title='error scaling of the first numerical derivative',\n",
    "                 legendloc='lower right', grid=True, figsize=4)"
   ]
  },
  {
   "cell_type": "markdown",
   "metadata": {
    "slideshow": {
     "slide_type": "slide"
    }
   },
   "source": [
    "$$f^\\prime(x) = \\frac{4^m R_m(h/2) - R_m(h)}{4^m-1} + \\mathcal{O}(h^{2(m+1)})$$\n",
    "\n",
    "where\n",
    "\n",
    "$$R_{m+1} = \\frac{4^m R_m(h/2) - R_m(h)}{4^m-1}.$$\n",
    "\n",
    "is an estimate of the derivative which has truncation error of order $\\mathcal{O}(h^{2(m+1)})$. Computing derivative by increasing $m$ in this estimateor is called the ***Richardson approach to the limit.***"
   ]
  },
  {
   "cell_type": "markdown",
   "metadata": {
    "slideshow": {
     "slide_type": "slide"
    }
   },
   "source": [
    "The general method of improving accuracy and order of the scheme by eliminating leading truncation error terms was proposed by English mathematician, physicist, meteorologist, psychologist and pacifist Lewis Fry Richardson in 1922, when he attempted pioneering computations of air flows using a system of differential equations for weather prediction. This general approach is known as *Richardson's extrapolation.*\n",
    "<p>\n",
    "<center>\n",
    "<img width=300 src=\"img/Lewis_Fry_Richardson.png\"></img>\n",
    "Lewis Fry Richardson (1881-1953)\n",
    "</center>"
   ]
  },
  {
   "cell_type": "markdown",
   "metadata": {
    "slideshow": {
     "slide_type": "slide"
    }
   },
   "source": [
    "### Royal Albert Hall in London\n",
    "\n",
    "which Richardson envisioned filled with people doing parallel computations.\n",
    "\n",
    "<img width=600 src=\"https://d15v4l58k2n80w.cloudfront.net/file/1396975600/48487571697/width=1280/height=720/format=-1/fit=crop/crop=0x0+7951x4476/rev=4/t=436739/e=never/k=d6183c30/032.jpg\"></img>"
   ]
  },
  {
   "cell_type": "markdown",
   "metadata": {
    "slideshow": {
     "slide_type": "slide"
    }
   },
   "source": [
    "### This was actually realized, although never on such huge scale\n",
    "\n",
    "<img width=600 src=\"http://ece.umich.edu/bicentennial/images/timeline/human-computers.jpg\"></img>"
   ]
  },
  {
   "cell_type": "markdown",
   "metadata": {
    "slideshow": {
     "slide_type": "skip"
    }
   },
   "source": [
    "Thus, derivatives of smooth functions can be estimated numerically quite accurately using such approach to compute gradients and Hessian matrix. However, this can be quite expensive, especially for the Hessian where second derivatives are needed. \n",
    "\n",
    "Plus, there are many functions that are encountered that are discontinuous and for which derivatives can be ill-behaved. Thus, many *derivative-free* methods have been developed. "
   ]
  },
  {
   "cell_type": "markdown",
   "metadata": {
    "slideshow": {
     "slide_type": "slide"
    }
   },
   "source": [
    "### Derivative-free methods: random walk\n",
    "\n",
    "Follows a random walk of a *\"walker*:\n",
    "\n",
    "1. start at some initial point $\\mathbf{x}=\\mathbf{x}_0$. \n",
    "\n",
    "2. propose a step in a random direction $\\mathbf{x}^\\prime = \\mathbf{x} + \\Delta\\mathbf{x}$\n",
    "\n",
    "3. if $f(\\mathbf{x}^\\prime)< f(\\mathbf{x})$, accept the step $\\mathbf{x}=\\mathbf{x}^\\prime$, else go back to step 2.\n",
    "\n",
    "Steps are terminated when some convergence is reached, for example no new step is accepted after some maximum number of proposed steps (it means that the walker is likely very close to the minimum). \n"
   ]
  },
  {
   "cell_type": "markdown",
   "metadata": {
    "slideshow": {
     "slide_type": "fragment"
    }
   },
   "source": [
    "Components of the step vector $\\Delta\\mathbf{x}$ are usually chosen to follow Gaussian distribution, i.e. for a component $i$: \n",
    "\n",
    "$$p(\\Delta x_i) = \\frac{1}{\\sqrt{2\\pi}\\,\\sigma}\\,\\exp\\left(-\\frac{1}{2}\\frac{\\Delta x_i^2}{\\sigma_i^2}\\right) $$\n",
    "\n",
    "\n",
    "The method requires choice of an optimal step sizes scale, $\\sigma_i$. Performance and accuracy of the result will depend on this choice. However, this method is simple to implement, it does not require derivatives, and will do much better than the brute force search for a minimum. "
   ]
  },
  {
   "cell_type": "markdown",
   "metadata": {
    "slideshow": {
     "slide_type": "skip"
    }
   },
   "source": [
    "###  Derivative-free methods: Hooke-Jeeves algorithm\n",
    "\n",
    "The Hooke–Jeeves algorithm developed in 1961 starts from an initial base point, $\\mathbf{x}_0$, and explores\n",
    "each coordinate axis with its own step size. \n",
    "\n",
    "* At each step trial points in all $D$ positive\n",
    "and negative coordinate directions are compared and the point, $\\mathbf{\\tilde{x}}_1$, at which $f$ is\n",
    "smallest is found. \n",
    "\n",
    "* If $f(\\mathbf{\\tilde{x}}_1)<f(\\mathbf{\\tilde{x}}_0)$, then $\\mathbf{\\tilde{x}}_1$ is accepted as a new location $\\mathbf{x}_1$ and an attempt\n",
    "is made to make another move in the same direction, $\\mathbf{x}_1^\\prime=\\mathbf{x}_1+(\\mathbf{x}_1-\\mathbf{x}_0)$, \n",
    "That step is accepted if $f(\\mathbf{\\tilde{x}}_1^\\prime)<f(\\mathbf{\\tilde{x}}_1)$, if not $\\mathbf{\\tilde{x}}_1$ is the new point. \n",
    "\n",
    "* else if, $f(\\mathbf{\\tilde{x}}_1)>f(\\mathbf{\\tilde{x}}_0)$, the step size is presumed to have been too large, and the steps above are repeated with smaller step sizes, $\\mathbf{h}=h_{\\rm red.factor}\\, \\mathbf{h}$.\n",
    "\n",
    "The steps continue until step size falls below some minimum value $\\mathbf{h}_{\\rm min}$ or some other convergence criterion is reached. "
   ]
  },
  {
   "cell_type": "markdown",
   "metadata": {
    "slideshow": {
     "slide_type": "skip"
    }
   },
   "source": [
    "<img width=500 src=\"img/hooke_jeeves_pseudo_code.PNG\"></img>"
   ]
  },
  {
   "cell_type": "markdown",
   "metadata": {
    "slideshow": {
     "slide_type": "slide"
    }
   },
   "source": [
    "###  Derivative-free methods: Nelder-Mead (aka simplex) method\n",
    "\n",
    "The algorithm begins by forming an inital $(D + 1)$-dimensional polyhedron, or *simplex*,\n",
    "of $D + 1$ points, $\\mathbf{x}_i$, $i = 0, 1,\\ldots, D$, that are randomly distributed throughout\n",
    "the problem space domain. Indices of the points are sorted in ascending order of $f(\\mathbf{x})$ so that $f(\\mathbf{x}_0)$ is smallest and\n",
    "$f(\\mathbf{x}_D)$ is largest. It then proceeds as follows: \n",
    "\n",
    "1. To obtain a new trial point, $\\mathbf{x}_r$, the worst point, $\\mathbf{x}_D$, is reflected through the opposite face of the polyhedron using a scaling factor, $s_1$:\n",
    "\n",
    "$$\\mathbf{x}_r=\\mathbf{x}_D + s_1\\,(\\mathbf{x}_m - \\mathbf{x}_D),$$\n",
    "\n",
    "where $\\mathbf{x}_m$ is mean (the centroid) of all $\\mathbf{x}$, excluding $\\mathbf{x}_D$:\n",
    "\n",
    "$$\\mathbf{x}_m = \\frac{1}{D}\\,\\sum\\limits_{i=0}^{D-1}\\mathbf{x}_i.$$"
   ]
  },
  {
   "cell_type": "markdown",
   "metadata": {
    "slideshow": {
     "slide_type": "skip"
    }
   },
   "source": [
    "For example, when $D = 2$, the simplex is a triangle."
   ]
  },
  {
   "cell_type": "markdown",
   "metadata": {
    "slideshow": {
     "slide_type": "slide"
    }
   },
   "source": [
    "2. If $f(\\mathbf{x}_r)<f(\\mathbf{x}_0)$, then take another step in the same direction with scaling factor of $s_2$:\n",
    "\n",
    "$$\\mathbf{x}_e=\\mathbf{x}_r + s_2\\,(\\mathbf{x}_m - \\mathbf{x}_D),$$\n",
    "\n",
    "If $f(\\mathbf{x}_e)<f(\\mathbf{x}_0)$, then $\\mathbf{x}_D=\\mathbf{x}_e$ and we go to step 1 above, else\n",
    "    $\\mathbf{x}_D=\\mathbf{x}_r$.\n",
    "    \n",
    "3. Else if $f(\\mathbf{x}_r)>f(\\mathbf{x}_0)$, compare $f(\\mathbf{x}_r)$ to $f(\\mathbf{x}_{D-1})$ and if $f(\\mathbf{x}_r)$ is smaller $\\mathbf{x}_{D-1}=\\mathbf{x}_r$, if not than *shrink the entire simplex* by the scaling factor of $s_3$.\n",
    "\n",
    "This description is not fully complete, as there are a number of checks and choices made in the last step. It is meant to give an idea of how the algorithm works. It'd be easier to examine the pseudo-code for the algorithm. "
   ]
  },
  {
   "cell_type": "markdown",
   "metadata": {
    "slideshow": {
     "slide_type": "slide"
    }
   },
   "source": [
    "<img width=500 src=\"img/simplex_pseudo_code.PNG\"></img>"
   ]
  },
  {
   "cell_type": "markdown",
   "metadata": {
    "slideshow": {
     "slide_type": "slide"
    }
   },
   "source": [
    "Using Nelder-Mead (simplex) minimization method that does not rely on function derivatives to find the minimum of the Rosenbrock function.  "
   ]
  },
  {
   "cell_type": "code",
   "execution_count": 69,
   "metadata": {
    "slideshow": {
     "slide_type": "slide"
    }
   },
   "outputs": [
    {
     "name": "stdout",
     "output_type": "stream",
     "text": [
      "Optimization terminated successfully.\n",
      "         Current function value: 0.000000\n",
      "         Iterations: 163\n",
      "         Function evaluations: 309\n",
      "minimum at : [1. 1.]\n"
     ]
    }
   ],
   "source": [
    "x0 = [-10, 10]\n",
    "res = minimize(rosenbrock, x0, method='nelder-mead',\n",
    "               options={'xatol': 1e-8, 'disp': True})\n",
    "\n",
    "print(\"minimum at :\",res.x)"
   ]
  },
  {
   "cell_type": "code",
   "execution_count": 72,
   "metadata": {
    "slideshow": {
     "slide_type": "-"
    }
   },
   "outputs": [
    {
     "name": "stdout",
     "output_type": "stream",
     "text": [
      "Warning: Maximum number of function evaluations has been exceeded.\n",
      "minimum at : [0.99513568 0.98998451 0.98069012 0.96593587 0.93354015]\n"
     ]
    }
   ],
   "source": [
    "res = minimize(rosenbrock, x0, method='Nelder-Mead', options={'xtol': 1e-10, 'disp': True})\n",
    "\n",
    "print(\"minimum at :\",res.x)"
   ]
  },
  {
   "cell_type": "markdown",
   "metadata": {
    "slideshow": {
     "slide_type": "slide"
    }
   },
   "source": [
    "###  Derivative-free methods: differential evolution\n",
    "\n",
    "Developed by R. Storn and K. Price in 1997 (<a href=\"https://link.springer.com/article/10.1023%2FA%3A1008202821328\">Storn & Price 1997</a>), the <a href=\"https://en.wikipedia.org/wiki/Differential_evolution\">differential evolution algorithm</a> is remarkably simple to implement, works in arbitrary number of dimensions, does not require function derivatives, allows imposing bounds on the domain, and is quite efficient. "
   ]
  },
  {
   "cell_type": "markdown",
   "metadata": {
    "slideshow": {
     "slide_type": "slide"
    }
   },
   "source": [
    "Start with $N_p$ points randomly distributed in the problem domain. Vector for each point is indexed from $0$ to $N_p-1$ and collection of all vectors $\\mathbf{X}_{\\rm now}=(\\mathbf{x}_0,\\mathbf{x}_1,\\ldots,\\mathbf{x}_{N_p-1})$ forms the current population of points.   The algorithm then proceeds through iterations (called evolutionary or generational cycles) that lead to evolution of the point population. The iteration consists of the following stages*\n",
    "\n",
    "* Define a new population, $\\mathbf{X}_{\\rm next}=X_{\\rm now}$. \n",
    "\n",
    "For each point vector $\\mathbf{x}_i$ in $\\mathbf{X}_{\\rm now}$ (each member of the population)\n",
    "\n",
    "*Mutation stage:*  select three random indices from $0$ to $N_p-1$, $r_1$, $r_2$, $r_3$. \n",
    "Perturb vector with index $r_3$ by the scaled difference of vectors with indices $r_2$ and $r_3$: \n",
    "$\\mathbf{x}^\\prime_i=\\mathbf{x}_{{\\rm now}, r_3} + s\\,(\\mathbf{x}_{{\\rm now}, r_2}-\\mathbf{x}_{{\\rm now}, r_1})$ \n",
    "\n",
    "*Selection stage:* if $f(\\mathbf{x}^\\prime_i)\\leq f(\\mathbf{x}_i)$, then $\\mathbf{x}_{{\\rm next},i}=\\mathbf{x}^\\prime_i$. \n",
    "\n",
    "Once all members of the population went through mutation and selection stages go back to the next iteration and $\\mathbf{X}_{\\rm next}$ becomes $\\mathbf{X}_{\\rm now}$. \n",
    "\n",
    "Iterations continue until some convergence criterion is met. For example, maximum difference between vectors in $\\mathbf{X}_{\\rm next}$ and $X_{\\rm now}$ is smaller than the specified threshold. "
   ]
  },
  {
   "cell_type": "markdown",
   "metadata": {
    "slideshow": {
     "slide_type": "skip"
    }
   },
   "source": [
    "Differential evolution method is implemented in <a href=\"https://docs.scipy.org/doc/scipy/reference/generated/scipy.optimize.differential_evolution.html#scipy.optimize.differential_evolution\"><tt>scipy.optimize.differential_evolution</tt></a> routine. "
   ]
  },
  {
   "cell_type": "markdown",
   "metadata": {
    "slideshow": {
     "slide_type": "slide"
    }
   },
   "source": [
    "The simplest version of the differential evolution algorithm, which already works remarkably well, but can be further improved by various modifications. \n",
    "\n",
    "<img width=500 src=\"img/diffevo_pseudo_code.PNG\"></img>"
   ]
  },
  {
   "cell_type": "code",
   "execution_count": 134,
   "metadata": {},
   "outputs": [
    {
     "name": "stdout",
     "output_type": "stream",
     "text": [
      "minimum at : [1. 1. 1. 1. 1.]\n"
     ]
    }
   ],
   "source": [
    "from scipy.optimize import differential_evolution\n",
    "\n",
    "xmin, xmax, ymin, ymax = -10., 10., -10., 10.\n",
    "bounds = [(xmin, xmax), (ymin, ymax), (xmin, xmax), (ymin, ymax), (xmin, xmax)]\n",
    "\n",
    "\n",
    "res = differential_evolution(rosenbrock, bounds)\n",
    "\n",
    "print(\"minimum at :\",res.x)\n"
   ]
  },
  {
   "cell_type": "markdown",
   "metadata": {
    "slideshow": {
     "slide_type": "slide"
    }
   },
   "source": [
    "### Optimization methods\n",
    "\n",
    "This is just a subset of the commonly used methods. A larger number of variants of these methods and other, more sophisticated methods exist. \n",
    "\n",
    "| method class   |    single-point                  |  multi-point  |\n",
    "|----------------|----------------------------------|---------------|\n",
    "| derivative-based | Steepest descent              | multi-start   |\n",
    "|                |     Conjugate gradient          |               |\n",
    "|                | Quasi-Newton methods (BFGS)       |               |\n",
    "|                |                                |               |\n",
    "| derivative-free |  Random walk                  | Simplex (aka Nelder-Mead method) |\n",
    "|                |   Hooke and Jeeves             | Differential evolution |"
   ]
  },
  {
   "cell_type": "markdown",
   "metadata": {
    "slideshow": {
     "slide_type": "slide"
    }
   },
   "source": [
    "SciPy's <a href=\"https://docs.scipy.org/doc/scipy/reference/generated/scipy.optimize.minimize.html#scipy.optimize.minimize\"><tt>scipy.optimize.minimize</tt></a> routine finds minima of functions and has options to use different methods. \n",
    "\n",
    "For example, \n",
    "\n",
    "| <tt>minimize method</tt> option   |    method name                  |  method class  |\n",
    "|----------------|----------------------------------|---------------|\n",
    "| <tt>Nelder-Mead</tt> | Nelder-Mead  (aka simplex) | derivative-free |\n",
    "|     <tt>Powell</tt>  |     <a href=\"https://en.wikipedia.org/wiki/Powell%27s_method\">Powell's conjugate gradient</a>    |    derivative-based           |\n",
    "|     <tt>CG</tt>      |     Conjugate gradient          |    derivative-based           |\n",
    " | <tt>BFGS</tt>   |    <a href=\"https://en.wikipedia.org/wiki/Broyden%E2%80%93Fletcher%E2%80%93Goldfarb%E2%80%93Shanno_algorithm\">Broyden–Fletcher–Goldfarb–Shanno</a>          | derivative-based, Quasi-Newton   |\n",
    " | <tt>L-BFGS-M</tt>   |  <a href=\"https://en.wikipedia.org/wiki/Limited-memory_BFGS\"> limited-memory Broyden–Fletcher–Goldfarb–Shanno</a>          | derivative-based, Quasi-Newton   |\n",
    "|     <tt>Newton-CG</tt>       |   Newton conjugate gradient            | derivative based            |\n",
    "|     <tt>TNC</tt>       |   Truncated Newton            | derivative based            |\n",
    "|          <tt>COBYLA</tt>      | <a href=\"https://en.wikipedia.org/wiki/COBYLA\">Constrained Optimization BY Linear Approximation</a>     |  derivative-free             |\n",
    "\n",
    "plus several more. Only some of these methods (e.g., L-BFGS-B, TNC, SLSQP and\n",
    "        trust-constr and COBYLA methods) allow any constraint on the boundaries of parameter space that the algorithm will explore. This is critical if we use approximation for the function that was constructed on a limited sub-space, like we did for $d_L$ approximating it for $\\Omega_{\\rm m0}\\in[0,1]$ and $\\Omega_\\Lambda\\in [0,1]$. "
   ]
  },
  {
   "cell_type": "markdown",
   "metadata": {
    "slideshow": {
     "slide_type": "fragment"
    }
   },
   "source": [
    "Description of these different methods and examples of their use with the <a href=\"https://docs.scipy.org/doc/scipy/reference/generated/scipy.optimize.minimize.html#scipy.optimize.minimize\"><tt>scipy.optimize.minimize</tt></a> routine is described <a href=\"https://docs.scipy.org/doc/scipy/reference/tutorial/optimize.html\">here</a> and <a href=\"https://scipy-lectures.org/advanced/mathematical_optimization/index.html\">here</a>. "
   ]
  },
  {
   "cell_type": "markdown",
   "metadata": {
    "slideshow": {
     "slide_type": "slide"
    }
   },
   "source": [
    "### Conclusions\n",
    "\n",
    "* Correct results are not always guaranteed. Results need to be checked by re-running from different starting points and using different methods. \n",
    "\n",
    "\n",
    "* Methods differ significantly in the number of function evaluations they need to determine the minimum to the required accuracy. \n",
    "\n",
    "\n",
    "* Availability of the analytic expressions for the gradient and Hessian can help greatly, but these are not always available. \n",
    "\n",
    "\n",
    "* The number of methods that allow bounds or other type of constraints on $\\mathbf{x}$ is limited. "
   ]
  },
  {
   "cell_type": "markdown",
   "metadata": {
    "slideshow": {
     "slide_type": "slide"
    }
   },
   "source": [
    "### Working with $d_L$ approximation constructed in HW 2"
   ]
  },
  {
   "cell_type": "markdown",
   "metadata": {
    "slideshow": {
     "slide_type": "-"
    }
   },
   "source": [
    "We will use *pickle* Python library to save and read the spline object and polynomial coefficients that I obtained in exercise 2 of hw 2. \n",
    "\n",
    "A tutorial on using this method can be found <a href=\"https://thepythonguru.com/pickling-objects-in-python/\">here</a>."
   ]
  },
  {
   "cell_type": "markdown",
   "metadata": {
    "slideshow": {
     "slide_type": "skip"
    }
   },
   "source": [
    "Two warnings about using pickle: \n",
    "\n",
    "* When using binary format for pickle, the resulting pickled object may not be transferrable to another computer, which has different operating system and Python version. So it's best used for internal needs on your machine. \n",
    "\n",
    "\n",
    "* Reading pickled objects produced by someone else is dangerous, because it can execute malicious code upon reading. Thus, use only pickle files produced by you or by someone you trust. "
   ]
  },
  {
   "cell_type": "code",
   "execution_count": 101,
   "metadata": {
    "slideshow": {
     "slide_type": "-"
    }
   },
   "outputs": [],
   "source": [
    "import pickle \n",
    "\n",
    "f = open(\"data/d_L_spline\", \"rb\")\n",
    "d_l_spl = pickle.load(f)\n",
    "f.close()\n",
    "\n",
    "f = open(\"data/d_L_polycoeffs\", \"rb\")\n",
    "ac = pickle.load(f)\n",
    "f.close()"
   ]
  },
  {
   "cell_type": "code",
   "execution_count": 116,
   "metadata": {
    "slideshow": {
     "slide_type": "slide"
    }
   },
   "outputs": [],
   "source": [
    "Om0min, Om0max, nOm0 = 0, 1, 100\n",
    "OmLmin, OmLmax, nOmL = 0, 1, 100\n",
    "\n",
    "Om0 = np.linspace(Om0min, Om0max, nOm0)\n",
    "OmL = np.linspace(OmLmin, OmLmax, nOmL)\n",
    "\n",
    "# generate a 2d grid of x and y points\n",
    "Om0g, OmLg = np.meshgrid(Om0, OmL, sparse=False, indexing='ij')\n",
    "\n",
    "dLg = d_l_spl(Om0, OmL)\n",
    "\n",
    "px, py = 13, 13\n",
    "dLpg = np.polynomial.polynomial.polyval2d(Om0g, OmLg, ac.reshape((px+1,py+1)))\n"
   ]
  },
  {
   "cell_type": "code",
   "execution_count": 117,
   "metadata": {
    "slideshow": {
     "slide_type": "skip"
    }
   },
   "outputs": [],
   "source": [
    "from codes.plot_utils import plot_color_map\n"
   ]
  },
  {
   "cell_type": "code",
   "execution_count": 118,
   "metadata": {
    "slideshow": {
     "slide_type": "slide"
    }
   },
   "outputs": [
    {
     "data": {
      "image/png": "[encoded data removed]",
      "text/plain": [
       "<Figure size 450x450 with 2 Axes>"
      ]
     },
     "metadata": {
      "needs_background": "light"
     },
     "output_type": "display_data"
    }
   ],
   "source": [
    "\n",
    "plot_color_map(Om0g, OmLg, dLg, xlim=[Om0min,Om0max], ylim=[OmLmin,OmLmax], \n",
    "                   xlabel = r'$\\Omega_{\\rm m0}$', ylabel = '$\\Omega_\\Lambda$', cmap='winter', colorbar=True, \n",
    "                   plot_title=r'$\\log_{10} d_L,\\ z=2$', \n",
    "                   figsize=3.0)\n"
   ]
  },
  {
   "cell_type": "markdown",
   "metadata": {
    "slideshow": {
     "slide_type": "slide"
    }
   },
   "source": [
    "Note that to avoid extrapolation, we need a method that allows imposing boundaries on the parameters in the search for minimum. "
   ]
  },
  {
   "cell_type": "code",
   "execution_count": 105,
   "metadata": {
    "slideshow": {
     "slide_type": "slide"
    }
   },
   "outputs": [],
   "source": [
    "def d_l_spline(x):\n",
    "    return d_l_spl(x[0], x[1])"
   ]
  },
  {
   "cell_type": "code",
   "execution_count": 106,
   "metadata": {
    "slideshow": {
     "slide_type": "-"
    }
   },
   "outputs": [
    {
     "name": "stdout",
     "output_type": "stream",
     "text": [
      "Optimization terminated successfully.\n",
      "         Current function value: 2.535898\n",
      "         Iterations: 32\n",
      "         Function evaluations: 102\n",
      "minimum at : [ 1.08594727 -1.05847656]\n"
     ]
    }
   ],
   "source": [
    "x0 = [0.1, 0.1]\n",
    "\n",
    "res = minimize(d_l_spline, x0, method='Nelder-Mead', options={'xtol': 1e-6, 'disp': True})\n",
    "\n",
    "print(\"minimum at :\",res.x)"
   ]
  },
  {
   "cell_type": "code",
   "execution_count": 120,
   "metadata": {
    "slideshow": {
     "slide_type": "slide"
    }
   },
   "outputs": [
    {
     "name": "stdout",
     "output_type": "stream",
     "text": [
      "Optimization terminated successfully.    (Exit mode 0)\n",
      "            Current function value: 2.5358983848622465\n",
      "            Iterations: 2\n",
      "            Function evaluations: 8\n",
      "            Gradient evaluations: 2\n",
      "minimum at : [1.00000000e+00 2.77555756e-17]\n"
     ]
    }
   ],
   "source": [
    "Om0min, Om0max = 0., 1.\n",
    "OmLmin, OmLmax = 0., 1.\n",
    "\n",
    "res = minimize(d_l_spline, x0, method='SLSQP', bounds=((Om0min, Om0max),(OmLmin, OmLmax)), options={'disp': True})\n",
    "\n",
    "print(\"minimum at :\",res.x)\n",
    "\n"
   ]
  },
  {
   "cell_type": "code",
   "execution_count": 127,
   "metadata": {
    "slideshow": {
     "slide_type": "slide"
    }
   },
   "outputs": [
    {
     "name": "stdout",
     "output_type": "stream",
     "text": [
      "differential_evolution step 1: f(x)= 2.57198\n",
      "differential_evolution step 2: f(x)= 2.56619\n",
      "differential_evolution step 3: f(x)= 2.5399\n",
      "differential_evolution step 4: f(x)= 2.5399\n",
      "differential_evolution step 5: f(x)= 2.5399\n",
      "differential_evolution step 6: f(x)= 2.5399\n",
      "minimum at : [1. 0.]\n"
     ]
    }
   ],
   "source": [
    "from scipy.optimize import differential_evolution\n",
    "\n",
    "bounds = [(Om0min, Om0max), (OmLmin, OmLmax)]\n",
    "\n",
    "res = differential_evolution(d_l_spline, bounds,  disp=True)\n",
    "\n",
    "print(\"minimum at :\",res.x)\n"
   ]
  }
 ],
 "metadata": {
  "celltoolbar": "Slideshow",
  "kernelspec": {
   "display_name": "Python 3",
   "language": "python",
   "name": "python3"
  },
  "language_info": {
   "codemirror_mode": {
    "name": "ipython",
    "version": 3
   },
   "file_extension": ".py",
   "mimetype": "text/x-python",
   "name": "python",
   "nbconvert_exporter": "python",
   "pygments_lexer": "ipython3",
   "version": "3.7.4"
  }
 },
 "nbformat": 4,
 "nbformat_minor": 2
}
